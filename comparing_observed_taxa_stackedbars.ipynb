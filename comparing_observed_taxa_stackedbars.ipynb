{
 "cells": [
  {
   "cell_type": "code",
   "execution_count": 1,
   "id": "d8d1aed9",
   "metadata": {},
   "outputs": [],
   "source": [
    "import pandas as pd\n",
    "import os as os\n",
    "import glob as glob\n",
    "import numpy as np"
   ]
  },
  {
   "cell_type": "code",
   "execution_count": null,
   "id": "91c945e7",
   "metadata": {},
   "outputs": [],
   "source": [
    "import matplotlib.pyplot as plt\n",
    "import matplotlib.style as style"
   ]
  },
  {
   "cell_type": "markdown",
   "id": "f22f2346",
   "metadata": {},
   "source": [
    "## 01. Generate list of taxa seen in all ASV data"
   ]
  },
  {
   "cell_type": "code",
   "execution_count": 12,
   "id": "01f9af21",
   "metadata": {},
   "outputs": [],
   "source": [
    "os.chdir(\"/Users/nastassia.patin/GitHub/MarineDNA/Data/filtered_data\")"
   ]
  },
  {
   "cell_type": "code",
   "execution_count": 13,
   "id": "24ac390f",
   "metadata": {},
   "outputs": [],
   "source": [
    "# 18S\n",
    "tax_Fly2018 = pd.read_csv(\"Flyer2018_18S_taxa_filtered.csv\")\n",
    "tax_Lask2018 = pd.read_csv(\"RREAS2018_18S_taxa_filtered.csv\")"
   ]
  },
  {
   "cell_type": "code",
   "execution_count": 16,
   "id": "df1e8a47",
   "metadata": {},
   "outputs": [],
   "source": [
    "os.chdir(\"/Users/nastassia.patin/Desktop/Projects/RREAS Cruises/Lasker2019/18S Amplicons/filtered_seq_data\")"
   ]
  },
  {
   "cell_type": "code",
   "execution_count": 17,
   "id": "cb53739c",
   "metadata": {},
   "outputs": [],
   "source": [
    "tax_Lask2019 = pd.read_csv(\"RREAS2019_18S_taxa_filtered.csv\")"
   ]
  },
  {
   "cell_type": "code",
   "execution_count": 18,
   "id": "2433fb72",
   "metadata": {},
   "outputs": [],
   "source": [
    "tax_Fly2018 = tax_Fly2018.drop(columns={\"Unnamed: 0\", \n",
    "                                        \"Species\"}).drop_duplicates(subset=None,\n",
    "                                                                    keep=\"first\",\n",
    "                                                                    inplace=False)\n",
    "tax_Lask2018 = tax_Lask2018.drop(columns={\"Unnamed: 0\", \n",
    "                                          \"Species\"}).drop_duplicates(subset=None,\n",
    "                                                                      keep=\"first\",\n",
    "                                                                      inplace=False)\n",
    "tax_Lask2019 = tax_Lask2019.drop(columns={\"Unnamed: 0\", \n",
    "                                          \"Species\"}).drop_duplicates(subset=None,\n",
    "                                                                      keep=\"first\",\n",
    "                                                                      inplace=False)"
   ]
  },
  {
   "cell_type": "code",
   "execution_count": 19,
   "id": "5e90426a",
   "metadata": {},
   "outputs": [],
   "source": [
    "tax_merged = pd.merge(tax_Fly2018, tax_Lask2018, \n",
    "                          how=\"outer\", \n",
    "                          on=(\"Genus\", \"Family\", \"Order\", \"Class\", \"Phylum\", \"Kingdom\"))"
   ]
  },
  {
   "cell_type": "code",
   "execution_count": 20,
   "id": "2edc3bb4",
   "metadata": {},
   "outputs": [],
   "source": [
    "tax_merged = pd.merge(tax_merged, tax_Lask2019,\n",
    "                          how=\"outer\", \n",
    "                          on=(\"Genus\", \"Family\", \"Order\", \"Class\", \"Phylum\", \"Kingdom\"))\n",
    "tax_merged.head(3)"
   ]
  },
  {
   "cell_type": "code",
   "execution_count": 10,
   "id": "b410f221-adec-4e9a-a100-23d5a408e234",
   "metadata": {},
   "outputs": [],
   "source": [
    "tax_merged_COI = tax_merged"
   ]
  },
  {
   "cell_type": "code",
   "execution_count": 22,
   "id": "1092bfa3-4160-4e1d-a9a0-b9c53cf27f17",
   "metadata": {},
   "outputs": [],
   "source": [
    "tax_merged_18S = tax_merged"
   ]
  },
  {
   "cell_type": "markdown",
   "id": "ab2fafc8-9414-48fb-b03e-7ae161dc7498",
   "metadata": {},
   "source": [
    "#### Make a list of all taxa observed in both ASV data sets"
   ]
  },
  {
   "cell_type": "code",
   "execution_count": 25,
   "id": "c4d03bfb-017c-4da0-b081-218202282022",
   "metadata": {},
   "outputs": [
    {
     "data": {
      "text/plain": [
       "(907, 6)"
      ]
     },
     "execution_count": 25,
     "metadata": {},
     "output_type": "execute_result"
    }
   ],
   "source": [
    "tax_merged_COI.shape"
   ]
  },
  {
   "cell_type": "code",
   "execution_count": 26,
   "id": "f2feacf3-be9c-43a0-bcff-49ee9730d3af",
   "metadata": {},
   "outputs": [
    {
     "data": {
      "text/plain": [
       "(1475, 6)"
      ]
     },
     "execution_count": 26,
     "metadata": {},
     "output_type": "execute_result"
    }
   ],
   "source": [
    "tax_merged_18S.shape"
   ]
  },
  {
   "cell_type": "code",
   "execution_count": 27,
   "id": "acd4b268-a87d-49fd-8f56-8013b7bc48cb",
   "metadata": {},
   "outputs": [
    {
     "data": {
      "text/plain": [
       "(2107, 6)"
      ]
     },
     "execution_count": 27,
     "metadata": {},
     "output_type": "execute_result"
    }
   ],
   "source": [
    "tax_merged_ASVs = tax_merged_COI.merge(tax_merged_18S, how='outer')\n",
    "tax_merged_ASVs.shape"
   ]
  },
  {
   "cell_type": "code",
   "execution_count": 29,
   "id": "2b4dabea-b6c6-45c6-93d4-09064f5cac9d",
   "metadata": {},
   "outputs": [
    {
     "data": {
      "text/html": [
       "<div>\n",
       "<style scoped>\n",
       "    .dataframe tbody tr th:only-of-type {\n",
       "        vertical-align: middle;\n",
       "    }\n",
       "\n",
       "    .dataframe tbody tr th {\n",
       "        vertical-align: top;\n",
       "    }\n",
       "\n",
       "    .dataframe thead th {\n",
       "        text-align: right;\n",
       "    }\n",
       "</style>\n",
       "<table border=\"1\" class=\"dataframe\">\n",
       "  <thead>\n",
       "    <tr style=\"text-align: right;\">\n",
       "      <th></th>\n",
       "      <th>Kingdom</th>\n",
       "      <th>Phylum</th>\n",
       "      <th>Class</th>\n",
       "      <th>Order</th>\n",
       "      <th>Family</th>\n",
       "      <th>Genus</th>\n",
       "    </tr>\n",
       "  </thead>\n",
       "  <tbody>\n",
       "    <tr>\n",
       "      <th>0</th>\n",
       "      <td>unassigned</td>\n",
       "      <td>unassigned</td>\n",
       "      <td>unassigned</td>\n",
       "      <td>unassigned</td>\n",
       "      <td>unassigned</td>\n",
       "      <td>unassigned</td>\n",
       "    </tr>\n",
       "    <tr>\n",
       "      <th>1</th>\n",
       "      <td>Eukaryota</td>\n",
       "      <td>Haptista</td>\n",
       "      <td>Haptophyta</td>\n",
       "      <td>Isochrysidales</td>\n",
       "      <td>Noelaerhabdaceae</td>\n",
       "      <td>Emiliania</td>\n",
       "    </tr>\n",
       "    <tr>\n",
       "      <th>2</th>\n",
       "      <td>Eukaryota</td>\n",
       "      <td>Arthropoda</td>\n",
       "      <td>Hexanauplia</td>\n",
       "      <td>Poecilostomatoida</td>\n",
       "      <td>Oncaeidae</td>\n",
       "      <td>g_</td>\n",
       "    </tr>\n",
       "  </tbody>\n",
       "</table>\n",
       "</div>"
      ],
      "text/plain": [
       "      Kingdom      Phylum        Class              Order            Family  \\\n",
       "0  unassigned  unassigned   unassigned         unassigned        unassigned   \n",
       "1   Eukaryota    Haptista   Haptophyta     Isochrysidales  Noelaerhabdaceae   \n",
       "2   Eukaryota  Arthropoda  Hexanauplia  Poecilostomatoida         Oncaeidae   \n",
       "\n",
       "        Genus  \n",
       "0  unassigned  \n",
       "1   Emiliania  \n",
       "2          g_  "
      ]
     },
     "execution_count": 29,
     "metadata": {},
     "output_type": "execute_result"
    }
   ],
   "source": [
    "tax_merged_ASVs.head(3)"
   ]
  },
  {
   "cell_type": "markdown",
   "id": "6aebbfb3",
   "metadata": {},
   "source": [
    "## 2a. Link observed taxa to full taxonomy (ASVs only)"
   ]
  },
  {
   "cell_type": "code",
   "execution_count": 70,
   "id": "a55ad93c",
   "metadata": {},
   "outputs": [
    {
     "data": {
      "text/html": [
       "<div>\n",
       "<style scoped>\n",
       "    .dataframe tbody tr th:only-of-type {\n",
       "        vertical-align: middle;\n",
       "    }\n",
       "\n",
       "    .dataframe tbody tr th {\n",
       "        vertical-align: top;\n",
       "    }\n",
       "\n",
       "    .dataframe thead th {\n",
       "        text-align: right;\n",
       "    }\n",
       "</style>\n",
       "<table border=\"1\" class=\"dataframe\">\n",
       "  <thead>\n",
       "    <tr style=\"text-align: right;\">\n",
       "      <th></th>\n",
       "      <th>Genus</th>\n",
       "    </tr>\n",
       "  </thead>\n",
       "  <tbody>\n",
       "    <tr>\n",
       "      <th>0</th>\n",
       "      <td>Acanthephyra</td>\n",
       "    </tr>\n",
       "    <tr>\n",
       "      <th>1</th>\n",
       "      <td>Sphaeronectes</td>\n",
       "    </tr>\n",
       "    <tr>\n",
       "      <th>2</th>\n",
       "      <td>Clausocalanus</td>\n",
       "    </tr>\n",
       "  </tbody>\n",
       "</table>\n",
       "</div>"
      ],
      "text/plain": [
       "           Genus\n",
       "0   Acanthephyra\n",
       "1  Sphaeronectes\n",
       "2  Clausocalanus"
      ]
     },
     "execution_count": 70,
     "metadata": {},
     "output_type": "execute_result"
    }
   ],
   "source": [
    "# COI or 18S\n",
    "os.chdir(\"/Users/nastassia.patin/Desktop/Projects/eCruises_TIMESERIES/Euks-mgns-asvs/taxa lists\")\n",
    "asvs = pd.read_csv(\"COI_genera_ASVs_ONLY.csv\")\n",
    "#asvs = pd.read_csv(\"18S_genera_ASVs_ONLY.csv\")\n",
    "asvs.head(3)"
   ]
  },
  {
   "cell_type": "code",
   "execution_count": 71,
   "id": "3266500a",
   "metadata": {},
   "outputs": [
    {
     "data": {
      "text/html": [
       "<div>\n",
       "<style scoped>\n",
       "    .dataframe tbody tr th:only-of-type {\n",
       "        vertical-align: middle;\n",
       "    }\n",
       "\n",
       "    .dataframe tbody tr th {\n",
       "        vertical-align: top;\n",
       "    }\n",
       "\n",
       "    .dataframe thead th {\n",
       "        text-align: right;\n",
       "    }\n",
       "</style>\n",
       "<table border=\"1\" class=\"dataframe\">\n",
       "  <thead>\n",
       "    <tr style=\"text-align: right;\">\n",
       "      <th></th>\n",
       "      <th>Genus</th>\n",
       "      <th>Kingdom</th>\n",
       "      <th>Phylum</th>\n",
       "      <th>Class</th>\n",
       "      <th>Order</th>\n",
       "      <th>Family</th>\n",
       "    </tr>\n",
       "  </thead>\n",
       "  <tbody>\n",
       "    <tr>\n",
       "      <th>0</th>\n",
       "      <td>Acanthephyra</td>\n",
       "      <td>Eukaryota</td>\n",
       "      <td>Arthropoda</td>\n",
       "      <td>Malacostraca</td>\n",
       "      <td>Decapoda</td>\n",
       "      <td>Oplophoridae</td>\n",
       "    </tr>\n",
       "    <tr>\n",
       "      <th>1</th>\n",
       "      <td>Sphaeronectes</td>\n",
       "      <td>Eukaryota</td>\n",
       "      <td>Cnidaria</td>\n",
       "      <td>Hydrozoa</td>\n",
       "      <td>Siphonophorae</td>\n",
       "      <td>Sphaeronectidae</td>\n",
       "    </tr>\n",
       "    <tr>\n",
       "      <th>2</th>\n",
       "      <td>Clausocalanus</td>\n",
       "      <td>Eukaryota</td>\n",
       "      <td>Arthropoda</td>\n",
       "      <td>Hexanauplia</td>\n",
       "      <td>Calanoida</td>\n",
       "      <td>Clausocalanidae</td>\n",
       "    </tr>\n",
       "  </tbody>\n",
       "</table>\n",
       "</div>"
      ],
      "text/plain": [
       "           Genus    Kingdom      Phylum         Class          Order  \\\n",
       "0   Acanthephyra  Eukaryota  Arthropoda  Malacostraca       Decapoda   \n",
       "1  Sphaeronectes  Eukaryota    Cnidaria      Hydrozoa  Siphonophorae   \n",
       "2  Clausocalanus  Eukaryota  Arthropoda   Hexanauplia      Calanoida   \n",
       "\n",
       "            Family  \n",
       "0     Oplophoridae  \n",
       "1  Sphaeronectidae  \n",
       "2  Clausocalanidae  "
      ]
     },
     "execution_count": 71,
     "metadata": {},
     "output_type": "execute_result"
    }
   ],
   "source": [
    "asvs_fulltax = pd.merge(asvs, tax_merged, on='Genus', how='left')\n",
    "phy_gen = asvs_fulltax.groupby('Phylum').count().reset_index()[['Phylum', 'Genus']]\n",
    "asvs_fulltax.head(3)"
   ]
  },
  {
   "cell_type": "code",
   "execution_count": 72,
   "id": "8935acc2",
   "metadata": {},
   "outputs": [],
   "source": [
    "#phy_gen['Data set'] = '18S'\n",
    "phy_gen['Data set'] = 'COI'"
   ]
  },
  {
   "cell_type": "code",
   "execution_count": 73,
   "id": "7a5e7f14",
   "metadata": {},
   "outputs": [],
   "source": [
    "#phy_gen_18S = phy_gen\n",
    "phy_gen_COI = phy_gen"
   ]
  },
  {
   "cell_type": "code",
   "execution_count": 74,
   "id": "ba115b4e",
   "metadata": {},
   "outputs": [],
   "source": [
    "phy_gen = pd.concat([phy_gen_18S, phy_gen_COI])"
   ]
  },
  {
   "cell_type": "code",
   "execution_count": 75,
   "id": "587e1311",
   "metadata": {},
   "outputs": [
    {
     "data": {
      "text/html": [
       "<div>\n",
       "<style scoped>\n",
       "    .dataframe tbody tr th:only-of-type {\n",
       "        vertical-align: middle;\n",
       "    }\n",
       "\n",
       "    .dataframe tbody tr th {\n",
       "        vertical-align: top;\n",
       "    }\n",
       "\n",
       "    .dataframe thead th {\n",
       "        text-align: right;\n",
       "    }\n",
       "</style>\n",
       "<table border=\"1\" class=\"dataframe\">\n",
       "  <thead>\n",
       "    <tr style=\"text-align: right;\">\n",
       "      <th>Phylum</th>\n",
       "      <th>Annelida</th>\n",
       "      <th>Arthropoda</th>\n",
       "      <th>Ascomycota</th>\n",
       "      <th>Bacillariophyta</th>\n",
       "      <th>Basidiomycota</th>\n",
       "      <th>Brachiopoda</th>\n",
       "      <th>Bryozoa</th>\n",
       "      <th>Cercozoa</th>\n",
       "      <th>Chaetognatha</th>\n",
       "      <th>Chlorophyta</th>\n",
       "      <th>...</th>\n",
       "      <th>Nemertea</th>\n",
       "      <th>Phoronida</th>\n",
       "      <th>Picozoa</th>\n",
       "      <th>Platyhelminthes</th>\n",
       "      <th>Porifera</th>\n",
       "      <th>Rhodophyta</th>\n",
       "      <th>Rotifera</th>\n",
       "      <th>Streptophyta</th>\n",
       "      <th>Tubulinea</th>\n",
       "      <th>unknown</th>\n",
       "    </tr>\n",
       "    <tr>\n",
       "      <th>Data set</th>\n",
       "      <th></th>\n",
       "      <th></th>\n",
       "      <th></th>\n",
       "      <th></th>\n",
       "      <th></th>\n",
       "      <th></th>\n",
       "      <th></th>\n",
       "      <th></th>\n",
       "      <th></th>\n",
       "      <th></th>\n",
       "      <th></th>\n",
       "      <th></th>\n",
       "      <th></th>\n",
       "      <th></th>\n",
       "      <th></th>\n",
       "      <th></th>\n",
       "      <th></th>\n",
       "      <th></th>\n",
       "      <th></th>\n",
       "      <th></th>\n",
       "      <th></th>\n",
       "    </tr>\n",
       "  </thead>\n",
       "  <tbody>\n",
       "    <tr>\n",
       "      <th>18S</th>\n",
       "      <td>25.0</td>\n",
       "      <td>18.0</td>\n",
       "      <td>12.0</td>\n",
       "      <td>26.0</td>\n",
       "      <td>4.0</td>\n",
       "      <td>1.0</td>\n",
       "      <td>1.0</td>\n",
       "      <td>20.0</td>\n",
       "      <td>2.0</td>\n",
       "      <td>21.0</td>\n",
       "      <td>...</td>\n",
       "      <td>4.0</td>\n",
       "      <td>0.0</td>\n",
       "      <td>1.0</td>\n",
       "      <td>3.0</td>\n",
       "      <td>0.0</td>\n",
       "      <td>0.0</td>\n",
       "      <td>3.0</td>\n",
       "      <td>15.0</td>\n",
       "      <td>2.0</td>\n",
       "      <td>184.0</td>\n",
       "    </tr>\n",
       "    <tr>\n",
       "      <th>COI</th>\n",
       "      <td>24.0</td>\n",
       "      <td>35.0</td>\n",
       "      <td>5.0</td>\n",
       "      <td>9.0</td>\n",
       "      <td>0.0</td>\n",
       "      <td>1.0</td>\n",
       "      <td>2.0</td>\n",
       "      <td>0.0</td>\n",
       "      <td>1.0</td>\n",
       "      <td>3.0</td>\n",
       "      <td>...</td>\n",
       "      <td>6.0</td>\n",
       "      <td>1.0</td>\n",
       "      <td>0.0</td>\n",
       "      <td>0.0</td>\n",
       "      <td>5.0</td>\n",
       "      <td>6.0</td>\n",
       "      <td>1.0</td>\n",
       "      <td>1.0</td>\n",
       "      <td>0.0</td>\n",
       "      <td>19.0</td>\n",
       "    </tr>\n",
       "  </tbody>\n",
       "</table>\n",
       "<p>2 rows × 39 columns</p>\n",
       "</div>"
      ],
      "text/plain": [
       "Phylum    Annelida  Arthropoda  Ascomycota  Bacillariophyta  Basidiomycota  \\\n",
       "Data set                                                                     \n",
       "18S           25.0        18.0        12.0             26.0            4.0   \n",
       "COI           24.0        35.0         5.0              9.0            0.0   \n",
       "\n",
       "Phylum    Brachiopoda  Bryozoa  Cercozoa  Chaetognatha  Chlorophyta  ...  \\\n",
       "Data set                                                             ...   \n",
       "18S               1.0      1.0      20.0           2.0         21.0  ...   \n",
       "COI               1.0      2.0       0.0           1.0          3.0  ...   \n",
       "\n",
       "Phylum    Nemertea  Phoronida  Picozoa  Platyhelminthes  Porifera  Rhodophyta  \\\n",
       "Data set                                                                        \n",
       "18S            4.0        0.0      1.0              3.0       0.0         0.0   \n",
       "COI            6.0        1.0      0.0              0.0       5.0         6.0   \n",
       "\n",
       "Phylum    Rotifera  Streptophyta  Tubulinea  unknown  \n",
       "Data set                                              \n",
       "18S            3.0          15.0        2.0    184.0  \n",
       "COI            1.0           1.0        0.0     19.0  \n",
       "\n",
       "[2 rows x 39 columns]"
      ]
     },
     "execution_count": 75,
     "metadata": {},
     "output_type": "execute_result"
    }
   ],
   "source": [
    "pivot = pd.pivot_table(data=phy_gen, \n",
    "                       index=['Data set'], \n",
    "                       columns=['Phylum'], \n",
    "                       values='Genus').fillna(0)\n",
    "pivot"
   ]
  },
  {
   "cell_type": "markdown",
   "id": "0921a762",
   "metadata": {},
   "source": [
    "## 2b. Make the stacked bar plot"
   ]
  },
  {
   "cell_type": "code",
   "execution_count": 77,
   "id": "a263e74a",
   "metadata": {},
   "outputs": [
    {
     "data": {
      "text/plain": [
       "[Text(0, 0, '18S'), Text(1, 0, 'COI')]"
      ]
     },
     "execution_count": 77,
     "metadata": {},
     "output_type": "execute_result"
    },
    {
     "data": {
      "image/png": "[encoded data removed]",
      "text/plain": [
       "<Figure size 800x1200 with 1 Axes>"
      ]
     },
     "metadata": {},
     "output_type": "display_data"
    }
   ],
   "source": [
    "style.use('tableau-colorblind10')\n",
    "\n",
    "ax = pivot.plot.bar(stacked=True, figsize=(8,12))\n",
    "\n",
    "ax.legend(bbox_to_anchor=(1.3, 1),\n",
    "          ncol=1, fancybox=True)\n",
    "ax.set_title('Genera in ASVs only', fontsize=16)\n",
    "ax.set_xticklabels(['18S','COI'], rotation=0)"
   ]
  },
  {
   "cell_type": "code",
   "execution_count": 78,
   "id": "b73e8821",
   "metadata": {},
   "outputs": [],
   "source": [
    "ax.figure.savefig('ASVs_only.png', bbox_inches='tight')"
   ]
  },
  {
   "cell_type": "markdown",
   "id": "35a87b6f",
   "metadata": {},
   "source": [
    "## 3. Generate full taxonomy file of metagenome taxa"
   ]
  },
  {
   "cell_type": "markdown",
   "id": "e2120a7b",
   "metadata": {},
   "source": [
    "#### This section generates a list of all taxa observed in the metagenomes. It also standardizes the full taxonomic ranking for all genera so there are no conflicting higher level classifications."
   ]
  },
  {
   "cell_type": "code",
   "execution_count": 30,
   "id": "24439200",
   "metadata": {},
   "outputs": [],
   "source": [
    "def compile_mgn_genera(file):\n",
    "    tax = pd.read_csv(file)\n",
    "    names = ['query name','rank','fraction','lineage','query_md5','query_filename',\n",
    "         'f_weighted_at_rank','bp_match_at_rank']\n",
    "    tax.columns = names\n",
    "    gen = pd.DataFrame(tax.loc[tax['rank'] == 'genus']['lineage'])\n",
    "    # n should be changed to however many ranks are in the desired taxonomic level\n",
    "    gen[['Domain',\n",
    "         'Phylum',\n",
    "         'Class',\n",
    "         'Order',\n",
    "         'Family',\n",
    "         'Genus']] = gen['lineage'].str.split(';', n=6, expand=True)   \n",
    "    return(gen)"
   ]
  },
  {
   "cell_type": "code",
   "execution_count": 31,
   "id": "fcc72bd0",
   "metadata": {},
   "outputs": [],
   "source": [
    "os.chdir(\"/Users/nastassia.patin/GitHub/eDNA-Visualizations/Euks_mgns_asvs_data/sourmash_summaries/\")"
   ]
  },
  {
   "cell_type": "code",
   "execution_count": 32,
   "id": "154163f0",
   "metadata": {},
   "outputs": [],
   "source": [
    "df_genera_mgns = []\n",
    "\n",
    "for file in glob.glob('*summarized.csv'):\n",
    "    gen = compile_mgn_genera(file)\n",
    "    gen = gen.drop(columns={'lineage'})\n",
    "    df_genera_mgns.append(gen)\n",
    "    \n",
    "df = pd.concat(df_genera_mgns)\n",
    "df = df.replace('[a-z]__', '', regex=True)"
   ]
  },
  {
   "cell_type": "markdown",
   "id": "4d6ba45c",
   "metadata": {},
   "source": [
    "### There are unfortunately some differences in taxonomy spellings that should be identical; need to get rid of those"
   ]
  },
  {
   "cell_type": "code",
   "execution_count": 33,
   "id": "32280a3f",
   "metadata": {},
   "outputs": [],
   "source": [
    "df = df.replace('Pelagomonodaceae', 'Pelagomonadaceae', regex=True)\n",
    "df = df.replace('Florenciellalesincertaesedis', 'Florenciellales', regex=True)\n",
    "df = df.replace('Phaeocystacear', 'Phaeocystaceae', regex=True)\n",
    "df = df.replace('Pyncnococcaceae', 'Pycnococcaceae', regex=True)"
   ]
  },
  {
   "cell_type": "markdown",
   "id": "a810897c",
   "metadata": {},
   "source": [
    "#### The diatom genus Minutocellus has two different classifications. I chose the WORMS one."
   ]
  },
  {
   "cell_type": "code",
   "execution_count": 34,
   "id": "7c71866e",
   "metadata": {},
   "outputs": [],
   "source": [
    "df.loc[df['Genus'] == 'Minutocellus', ['Order', 'Family']] = 'Cymatosirales', 'Cymatosiraceae'"
   ]
  },
  {
   "cell_type": "markdown",
   "id": "e262265c",
   "metadata": {},
   "source": [
    "#### Bathycoccus also has three (!) different classifications; I chose NCBI."
   ]
  },
  {
   "cell_type": "code",
   "execution_count": 35,
   "id": "e582ee42",
   "metadata": {},
   "outputs": [],
   "source": [
    "df.loc[df['Genus'] == 'Bathycoccus', ['Class', 'Family']] = 'Prasinophyceae', 'Bathycoccaceae'"
   ]
  },
  {
   "cell_type": "markdown",
   "id": "15ac93d6",
   "metadata": {},
   "source": [
    "#### Bolidomonas also (NCBI?)"
   ]
  },
  {
   "cell_type": "code",
   "execution_count": 36,
   "id": "8739d8cd",
   "metadata": {},
   "outputs": [],
   "source": [
    "df.loc[df['Genus'] == 'Bolidomonas', \n",
    "       ['Phylum', 'Order', 'Family']] = 'Stramenopila:Ochrophyta', 'Bolidomonadales', 'Bolidomonadaceae'"
   ]
  },
  {
   "cell_type": "code",
   "execution_count": 37,
   "id": "11e1f207",
   "metadata": {},
   "outputs": [],
   "source": [
    "df = df.drop_duplicates(subset=None, \n",
    "                        keep=\"first\", \n",
    "                        inplace=False, \n",
    "                        ignore_index=False).reset_index(drop=True)"
   ]
  },
  {
   "cell_type": "code",
   "execution_count": 38,
   "id": "7217da79",
   "metadata": {},
   "outputs": [
    {
     "data": {
      "text/html": [
       "<div>\n",
       "<style scoped>\n",
       "    .dataframe tbody tr th:only-of-type {\n",
       "        vertical-align: middle;\n",
       "    }\n",
       "\n",
       "    .dataframe tbody tr th {\n",
       "        vertical-align: top;\n",
       "    }\n",
       "\n",
       "    .dataframe thead th {\n",
       "        text-align: right;\n",
       "    }\n",
       "</style>\n",
       "<table border=\"1\" class=\"dataframe\">\n",
       "  <thead>\n",
       "    <tr style=\"text-align: right;\">\n",
       "      <th></th>\n",
       "      <th>Domain</th>\n",
       "      <th>Phylum</th>\n",
       "      <th>Class</th>\n",
       "      <th>Order</th>\n",
       "      <th>Family</th>\n",
       "      <th>Genus</th>\n",
       "    </tr>\n",
       "  </thead>\n",
       "  <tbody>\n",
       "    <tr>\n",
       "      <th>218</th>\n",
       "      <td>Eukaryota</td>\n",
       "      <td>Viridiplantae:Chlorophyta</td>\n",
       "      <td>Prasinophyceae</td>\n",
       "      <td>Pseudoscourfieldiales</td>\n",
       "      <td>Pycnococcaceae</td>\n",
       "      <td>Pycnococcus</td>\n",
       "    </tr>\n",
       "  </tbody>\n",
       "</table>\n",
       "</div>"
      ],
      "text/plain": [
       "        Domain                     Phylum           Class  \\\n",
       "218  Eukaryota  Viridiplantae:Chlorophyta  Prasinophyceae   \n",
       "\n",
       "                     Order          Family        Genus  \n",
       "218  Pseudoscourfieldiales  Pycnococcaceae  Pycnococcus  "
      ]
     },
     "execution_count": 38,
     "metadata": {},
     "output_type": "execute_result"
    }
   ],
   "source": [
    "df.loc[df['Genus'] == 'Pycnococcus']"
   ]
  },
  {
   "cell_type": "code",
   "execution_count": 287,
   "id": "8a108e89",
   "metadata": {},
   "outputs": [],
   "source": [
    "## This is a really handy way of checking for equal dataframes!\n",
    "# from pandas.util.testing import assert_frame_equal\n",
    "# assert_frame_equal(a,b)"
   ]
  },
  {
   "cell_type": "code",
   "execution_count": 288,
   "id": "ad2f8b5c",
   "metadata": {},
   "outputs": [],
   "source": [
    "df.to_csv(\"sourmash_taxa_ALL.csv\", index=False)"
   ]
  },
  {
   "cell_type": "markdown",
   "id": "042e111a-4acc-4c77-8b85-c373441f778d",
   "metadata": {},
   "source": [
    "### Pull out the metagenome genera and link them to full ASV taxonomy rankings to standardize data sets"
   ]
  },
  {
   "cell_type": "code",
   "execution_count": 82,
   "id": "a8ceef7d-3dde-4969-a6d3-049bd0d51fe3",
   "metadata": {},
   "outputs": [
    {
     "data": {
      "text/plain": [
       "(59, 6)"
      ]
     },
     "execution_count": 82,
     "metadata": {},
     "output_type": "execute_result"
    }
   ],
   "source": [
    "euks = df.loc[df['Domain'] == 'Eukaryota']\n",
    "euks.shape"
   ]
  },
  {
   "cell_type": "code",
   "execution_count": 83,
   "id": "6ab5b703-252e-44e9-9e60-0ef006aee78b",
   "metadata": {},
   "outputs": [
    {
     "data": {
      "text/html": [
       "<div>\n",
       "<style scoped>\n",
       "    .dataframe tbody tr th:only-of-type {\n",
       "        vertical-align: middle;\n",
       "    }\n",
       "\n",
       "    .dataframe tbody tr th {\n",
       "        vertical-align: top;\n",
       "    }\n",
       "\n",
       "    .dataframe thead th {\n",
       "        text-align: right;\n",
       "    }\n",
       "</style>\n",
       "<table border=\"1\" class=\"dataframe\">\n",
       "  <thead>\n",
       "    <tr style=\"text-align: right;\">\n",
       "      <th></th>\n",
       "      <th>Genus</th>\n",
       "    </tr>\n",
       "  </thead>\n",
       "  <tbody>\n",
       "    <tr>\n",
       "      <th>46</th>\n",
       "      <td>Bathycoccus</td>\n",
       "    </tr>\n",
       "    <tr>\n",
       "      <th>64</th>\n",
       "      <td>Micromonas</td>\n",
       "    </tr>\n",
       "    <tr>\n",
       "      <th>77</th>\n",
       "      <td>Pelagomonas</td>\n",
       "    </tr>\n",
       "  </tbody>\n",
       "</table>\n",
       "</div>"
      ],
      "text/plain": [
       "          Genus\n",
       "46  Bathycoccus\n",
       "64   Micromonas\n",
       "77  Pelagomonas"
      ]
     },
     "execution_count": 83,
     "metadata": {},
     "output_type": "execute_result"
    }
   ],
   "source": [
    "genus = pd.DataFrame(euks['Genus'])\n",
    "genus.head(3)"
   ]
  },
  {
   "cell_type": "code",
   "execution_count": 93,
   "id": "4b54399b-06c0-4bbe-8335-656858f71c00",
   "metadata": {},
   "outputs": [
    {
     "data": {
      "text/plain": [
       "(59, 1)"
      ]
     },
     "execution_count": 93,
     "metadata": {},
     "output_type": "execute_result"
    }
   ],
   "source": [
    "genus.shape"
   ]
  },
  {
   "cell_type": "code",
   "execution_count": 85,
   "id": "12c2f0ad-a54a-403d-a1f9-485c11f270e2",
   "metadata": {},
   "outputs": [
    {
     "data": {
      "text/html": [
       "<div>\n",
       "<style scoped>\n",
       "    .dataframe tbody tr th:only-of-type {\n",
       "        vertical-align: middle;\n",
       "    }\n",
       "\n",
       "    .dataframe tbody tr th {\n",
       "        vertical-align: top;\n",
       "    }\n",
       "\n",
       "    .dataframe thead th {\n",
       "        text-align: right;\n",
       "    }\n",
       "</style>\n",
       "<table border=\"1\" class=\"dataframe\">\n",
       "  <thead>\n",
       "    <tr style=\"text-align: right;\">\n",
       "      <th></th>\n",
       "      <th>Genus</th>\n",
       "      <th>Kingdom</th>\n",
       "      <th>Phylum</th>\n",
       "      <th>Class</th>\n",
       "      <th>Order</th>\n",
       "      <th>Family</th>\n",
       "    </tr>\n",
       "  </thead>\n",
       "  <tbody>\n",
       "    <tr>\n",
       "      <th>0</th>\n",
       "      <td>Bathycoccus</td>\n",
       "      <td>Eukaryota</td>\n",
       "      <td>Chlorophyta</td>\n",
       "      <td>Mamiellophyceae</td>\n",
       "      <td>Mamiellales</td>\n",
       "      <td>Bathycoccaceae</td>\n",
       "    </tr>\n",
       "    <tr>\n",
       "      <th>1</th>\n",
       "      <td>Micromonas</td>\n",
       "      <td>Eukaryota</td>\n",
       "      <td>Chlorophyta</td>\n",
       "      <td>Mamiellophyceae</td>\n",
       "      <td>Mamiellales</td>\n",
       "      <td>Mamiellaceae</td>\n",
       "    </tr>\n",
       "    <tr>\n",
       "      <th>2</th>\n",
       "      <td>Pelagomonas</td>\n",
       "      <td>Eukaryota</td>\n",
       "      <td>unknown</td>\n",
       "      <td>Pelagophyceae</td>\n",
       "      <td>Pelagomonadales</td>\n",
       "      <td>unknown</td>\n",
       "    </tr>\n",
       "  </tbody>\n",
       "</table>\n",
       "</div>"
      ],
      "text/plain": [
       "         Genus    Kingdom       Phylum            Class            Order  \\\n",
       "0  Bathycoccus  Eukaryota  Chlorophyta  Mamiellophyceae      Mamiellales   \n",
       "1   Micromonas  Eukaryota  Chlorophyta  Mamiellophyceae      Mamiellales   \n",
       "2  Pelagomonas  Eukaryota      unknown    Pelagophyceae  Pelagomonadales   \n",
       "\n",
       "           Family  \n",
       "0  Bathycoccaceae  \n",
       "1    Mamiellaceae  \n",
       "2         unknown  "
      ]
     },
     "execution_count": 85,
     "metadata": {},
     "output_type": "execute_result"
    }
   ],
   "source": [
    "mgn_genera_tax = genus.merge(tax_merged_ASVs, on='Genus', how='inner')\n",
    "mgn_genera_tax.head(3)"
   ]
  },
  {
   "cell_type": "code",
   "execution_count": 86,
   "id": "f8e2d49b-5a6b-4faf-b7c8-90b2b4fd0692",
   "metadata": {},
   "outputs": [
    {
     "data": {
      "text/plain": [
       "(46, 6)"
      ]
     },
     "execution_count": 86,
     "metadata": {},
     "output_type": "execute_result"
    }
   ],
   "source": [
    "# Check number of rows\n",
    "mgn_genera_tax.shape"
   ]
  },
  {
   "cell_type": "code",
   "execution_count": 57,
   "id": "85077288-b70c-476f-b000-18ebdbf028b7",
   "metadata": {},
   "outputs": [],
   "source": [
    "mgn_genera_tax.to_csv(\"sourmash_genera_ASV_taxonomy.csv\", index=None)"
   ]
  },
  {
   "cell_type": "code",
   "execution_count": 87,
   "id": "5c8b97ba-7a2c-453a-8c5e-0db004c90b3e",
   "metadata": {},
   "outputs": [
    {
     "data": {
      "text/html": [
       "<div>\n",
       "<style scoped>\n",
       "    .dataframe tbody tr th:only-of-type {\n",
       "        vertical-align: middle;\n",
       "    }\n",
       "\n",
       "    .dataframe tbody tr th {\n",
       "        vertical-align: top;\n",
       "    }\n",
       "\n",
       "    .dataframe thead th {\n",
       "        text-align: right;\n",
       "    }\n",
       "</style>\n",
       "<table border=\"1\" class=\"dataframe\">\n",
       "  <thead>\n",
       "    <tr style=\"text-align: right;\">\n",
       "      <th></th>\n",
       "      <th>Genus</th>\n",
       "      <th>Kingdom</th>\n",
       "      <th>Phylum</th>\n",
       "      <th>Class</th>\n",
       "      <th>Order</th>\n",
       "      <th>Family</th>\n",
       "      <th>_merge</th>\n",
       "    </tr>\n",
       "  </thead>\n",
       "  <tbody>\n",
       "    <tr>\n",
       "      <th>0</th>\n",
       "      <td>Bathycoccus</td>\n",
       "      <td>Eukaryota</td>\n",
       "      <td>Chlorophyta</td>\n",
       "      <td>Mamiellophyceae</td>\n",
       "      <td>Mamiellales</td>\n",
       "      <td>Bathycoccaceae</td>\n",
       "      <td>both</td>\n",
       "    </tr>\n",
       "    <tr>\n",
       "      <th>1</th>\n",
       "      <td>Micromonas</td>\n",
       "      <td>Eukaryota</td>\n",
       "      <td>Chlorophyta</td>\n",
       "      <td>Mamiellophyceae</td>\n",
       "      <td>Mamiellales</td>\n",
       "      <td>Mamiellaceae</td>\n",
       "      <td>both</td>\n",
       "    </tr>\n",
       "    <tr>\n",
       "      <th>2</th>\n",
       "      <td>Pelagomonas</td>\n",
       "      <td>Eukaryota</td>\n",
       "      <td>unknown</td>\n",
       "      <td>Pelagophyceae</td>\n",
       "      <td>Pelagomonadales</td>\n",
       "      <td>unknown</td>\n",
       "      <td>both</td>\n",
       "    </tr>\n",
       "  </tbody>\n",
       "</table>\n",
       "</div>"
      ],
      "text/plain": [
       "         Genus    Kingdom       Phylum            Class            Order  \\\n",
       "0  Bathycoccus  Eukaryota  Chlorophyta  Mamiellophyceae      Mamiellales   \n",
       "1   Micromonas  Eukaryota  Chlorophyta  Mamiellophyceae      Mamiellales   \n",
       "2  Pelagomonas  Eukaryota      unknown    Pelagophyceae  Pelagomonadales   \n",
       "\n",
       "           Family _merge  \n",
       "0  Bathycoccaceae   both  \n",
       "1    Mamiellaceae   both  \n",
       "2         unknown   both  "
      ]
     },
     "execution_count": 87,
     "metadata": {},
     "output_type": "execute_result"
    }
   ],
   "source": [
    "# Which genera were not present in the ASV data?\n",
    "mgn_genera_notax = genus.merge(tax_merged_ASVs, \n",
    "                             on='Genus', \n",
    "                             how='left', \n",
    "                             indicator=True)\n",
    "mgn_genera_notax.head(3)"
   ]
  },
  {
   "cell_type": "code",
   "execution_count": 95,
   "id": "76a81f22-8e3a-4598-8ea6-fd24e6f18cf4",
   "metadata": {},
   "outputs": [
    {
     "data": {
      "text/plain": [
       "(65, 7)"
      ]
     },
     "execution_count": 95,
     "metadata": {},
     "output_type": "execute_result"
    }
   ],
   "source": [
    "# There are extra rows because a few genera have slightly different taxonomic rank assignments\n",
    "mgn_genera_notax.shape"
   ]
  },
  {
   "cell_type": "code",
   "execution_count": 94,
   "id": "89ede43a-0361-42d7-9015-835de8ff9a8c",
   "metadata": {},
   "outputs": [
    {
     "data": {
      "text/html": [
       "<div>\n",
       "<style scoped>\n",
       "    .dataframe tbody tr th:only-of-type {\n",
       "        vertical-align: middle;\n",
       "    }\n",
       "\n",
       "    .dataframe tbody tr th {\n",
       "        vertical-align: top;\n",
       "    }\n",
       "\n",
       "    .dataframe thead th {\n",
       "        text-align: right;\n",
       "    }\n",
       "</style>\n",
       "<table border=\"1\" class=\"dataframe\">\n",
       "  <thead>\n",
       "    <tr style=\"text-align: right;\">\n",
       "      <th></th>\n",
       "      <th>Genus</th>\n",
       "      <th>Kingdom</th>\n",
       "      <th>Phylum</th>\n",
       "      <th>Class</th>\n",
       "      <th>Order</th>\n",
       "      <th>Family</th>\n",
       "      <th>_merge</th>\n",
       "    </tr>\n",
       "  </thead>\n",
       "  <tbody>\n",
       "    <tr>\n",
       "      <th>4</th>\n",
       "      <td>Ostreococcus</td>\n",
       "      <td>NaN</td>\n",
       "      <td>NaN</td>\n",
       "      <td>NaN</td>\n",
       "      <td>NaN</td>\n",
       "      <td>NaN</td>\n",
       "      <td>left_only</td>\n",
       "    </tr>\n",
       "    <tr>\n",
       "      <th>10</th>\n",
       "      <td>Unidentifiedeukaryote</td>\n",
       "      <td>NaN</td>\n",
       "      <td>NaN</td>\n",
       "      <td>NaN</td>\n",
       "      <td>NaN</td>\n",
       "      <td>NaN</td>\n",
       "      <td>left_only</td>\n",
       "    </tr>\n",
       "    <tr>\n",
       "      <th>13</th>\n",
       "      <td>Gephyrocapsa</td>\n",
       "      <td>NaN</td>\n",
       "      <td>NaN</td>\n",
       "      <td>NaN</td>\n",
       "      <td>NaN</td>\n",
       "      <td>NaN</td>\n",
       "      <td>left_only</td>\n",
       "    </tr>\n",
       "    <tr>\n",
       "      <th>14</th>\n",
       "      <td>Pycnococcus</td>\n",
       "      <td>NaN</td>\n",
       "      <td>NaN</td>\n",
       "      <td>NaN</td>\n",
       "      <td>NaN</td>\n",
       "      <td>NaN</td>\n",
       "      <td>left_only</td>\n",
       "    </tr>\n",
       "    <tr>\n",
       "      <th>16</th>\n",
       "      <td>Isochrysis</td>\n",
       "      <td>NaN</td>\n",
       "      <td>NaN</td>\n",
       "      <td>NaN</td>\n",
       "      <td>NaN</td>\n",
       "      <td>NaN</td>\n",
       "      <td>left_only</td>\n",
       "    </tr>\n",
       "    <tr>\n",
       "      <th>24</th>\n",
       "      <td>Picochlorum</td>\n",
       "      <td>NaN</td>\n",
       "      <td>NaN</td>\n",
       "      <td>NaN</td>\n",
       "      <td>NaN</td>\n",
       "      <td>NaN</td>\n",
       "      <td>left_only</td>\n",
       "    </tr>\n",
       "    <tr>\n",
       "      <th>26</th>\n",
       "      <td>Nitzschia</td>\n",
       "      <td>NaN</td>\n",
       "      <td>NaN</td>\n",
       "      <td>NaN</td>\n",
       "      <td>NaN</td>\n",
       "      <td>NaN</td>\n",
       "      <td>left_only</td>\n",
       "    </tr>\n",
       "    <tr>\n",
       "      <th>34</th>\n",
       "      <td>Crypthecodinium</td>\n",
       "      <td>NaN</td>\n",
       "      <td>NaN</td>\n",
       "      <td>NaN</td>\n",
       "      <td>NaN</td>\n",
       "      <td>NaN</td>\n",
       "      <td>left_only</td>\n",
       "    </tr>\n",
       "    <tr>\n",
       "      <th>36</th>\n",
       "      <td>Phaeomonas</td>\n",
       "      <td>NaN</td>\n",
       "      <td>NaN</td>\n",
       "      <td>NaN</td>\n",
       "      <td>NaN</td>\n",
       "      <td>NaN</td>\n",
       "      <td>left_only</td>\n",
       "    </tr>\n",
       "    <tr>\n",
       "      <th>37</th>\n",
       "      <td>Imantonia</td>\n",
       "      <td>NaN</td>\n",
       "      <td>NaN</td>\n",
       "      <td>NaN</td>\n",
       "      <td>NaN</td>\n",
       "      <td>NaN</td>\n",
       "      <td>left_only</td>\n",
       "    </tr>\n",
       "    <tr>\n",
       "      <th>43</th>\n",
       "      <td>Unidentifiedeukaryote</td>\n",
       "      <td>NaN</td>\n",
       "      <td>NaN</td>\n",
       "      <td>NaN</td>\n",
       "      <td>NaN</td>\n",
       "      <td>NaN</td>\n",
       "      <td>left_only</td>\n",
       "    </tr>\n",
       "    <tr>\n",
       "      <th>49</th>\n",
       "      <td>Unidentifiedeukaryote</td>\n",
       "      <td>NaN</td>\n",
       "      <td>NaN</td>\n",
       "      <td>NaN</td>\n",
       "      <td>NaN</td>\n",
       "      <td>NaN</td>\n",
       "      <td>left_only</td>\n",
       "    </tr>\n",
       "    <tr>\n",
       "      <th>52</th>\n",
       "      <td>Mesodinium</td>\n",
       "      <td>NaN</td>\n",
       "      <td>NaN</td>\n",
       "      <td>NaN</td>\n",
       "      <td>NaN</td>\n",
       "      <td>NaN</td>\n",
       "      <td>left_only</td>\n",
       "    </tr>\n",
       "    <tr>\n",
       "      <th>53</th>\n",
       "      <td>Coccolithus</td>\n",
       "      <td>NaN</td>\n",
       "      <td>NaN</td>\n",
       "      <td>NaN</td>\n",
       "      <td>NaN</td>\n",
       "      <td>NaN</td>\n",
       "      <td>left_only</td>\n",
       "    </tr>\n",
       "    <tr>\n",
       "      <th>54</th>\n",
       "      <td>Polytomella</td>\n",
       "      <td>NaN</td>\n",
       "      <td>NaN</td>\n",
       "      <td>NaN</td>\n",
       "      <td>NaN</td>\n",
       "      <td>NaN</td>\n",
       "      <td>left_only</td>\n",
       "    </tr>\n",
       "    <tr>\n",
       "      <th>57</th>\n",
       "      <td>Partenskyella</td>\n",
       "      <td>NaN</td>\n",
       "      <td>NaN</td>\n",
       "      <td>NaN</td>\n",
       "      <td>NaN</td>\n",
       "      <td>NaN</td>\n",
       "      <td>left_only</td>\n",
       "    </tr>\n",
       "    <tr>\n",
       "      <th>58</th>\n",
       "      <td>Acanthoeca-like</td>\n",
       "      <td>NaN</td>\n",
       "      <td>NaN</td>\n",
       "      <td>NaN</td>\n",
       "      <td>NaN</td>\n",
       "      <td>NaN</td>\n",
       "      <td>left_only</td>\n",
       "    </tr>\n",
       "    <tr>\n",
       "      <th>59</th>\n",
       "      <td>Rhizochromulina</td>\n",
       "      <td>NaN</td>\n",
       "      <td>NaN</td>\n",
       "      <td>NaN</td>\n",
       "      <td>NaN</td>\n",
       "      <td>NaN</td>\n",
       "      <td>left_only</td>\n",
       "    </tr>\n",
       "    <tr>\n",
       "      <th>60</th>\n",
       "      <td>Glenodinium</td>\n",
       "      <td>NaN</td>\n",
       "      <td>NaN</td>\n",
       "      <td>NaN</td>\n",
       "      <td>NaN</td>\n",
       "      <td>NaN</td>\n",
       "      <td>left_only</td>\n",
       "    </tr>\n",
       "  </tbody>\n",
       "</table>\n",
       "</div>"
      ],
      "text/plain": [
       "                    Genus Kingdom Phylum Class Order Family     _merge\n",
       "4            Ostreococcus     NaN    NaN   NaN   NaN    NaN  left_only\n",
       "10  Unidentifiedeukaryote     NaN    NaN   NaN   NaN    NaN  left_only\n",
       "13           Gephyrocapsa     NaN    NaN   NaN   NaN    NaN  left_only\n",
       "14            Pycnococcus     NaN    NaN   NaN   NaN    NaN  left_only\n",
       "16             Isochrysis     NaN    NaN   NaN   NaN    NaN  left_only\n",
       "24            Picochlorum     NaN    NaN   NaN   NaN    NaN  left_only\n",
       "26              Nitzschia     NaN    NaN   NaN   NaN    NaN  left_only\n",
       "34        Crypthecodinium     NaN    NaN   NaN   NaN    NaN  left_only\n",
       "36             Phaeomonas     NaN    NaN   NaN   NaN    NaN  left_only\n",
       "37              Imantonia     NaN    NaN   NaN   NaN    NaN  left_only\n",
       "43  Unidentifiedeukaryote     NaN    NaN   NaN   NaN    NaN  left_only\n",
       "49  Unidentifiedeukaryote     NaN    NaN   NaN   NaN    NaN  left_only\n",
       "52             Mesodinium     NaN    NaN   NaN   NaN    NaN  left_only\n",
       "53            Coccolithus     NaN    NaN   NaN   NaN    NaN  left_only\n",
       "54            Polytomella     NaN    NaN   NaN   NaN    NaN  left_only\n",
       "57          Partenskyella     NaN    NaN   NaN   NaN    NaN  left_only\n",
       "58        Acanthoeca-like     NaN    NaN   NaN   NaN    NaN  left_only\n",
       "59        Rhizochromulina     NaN    NaN   NaN   NaN    NaN  left_only\n",
       "60            Glenodinium     NaN    NaN   NaN   NaN    NaN  left_only"
      ]
     },
     "execution_count": 94,
     "metadata": {},
     "output_type": "execute_result"
    }
   ],
   "source": [
    "mgn_genera_notax.loc[mgn_genera_notax['_merge'] == 'left_only']"
   ]
  },
  {
   "cell_type": "markdown",
   "id": "e57822d7",
   "metadata": {},
   "source": [
    "## 4a. Link observed genera to full taxonomy (mgns only)"
   ]
  },
  {
   "cell_type": "code",
   "execution_count": 289,
   "id": "03ee4bdf",
   "metadata": {},
   "outputs": [
    {
     "data": {
      "text/html": [
       "<div>\n",
       "<style scoped>\n",
       "    .dataframe tbody tr th:only-of-type {\n",
       "        vertical-align: middle;\n",
       "    }\n",
       "\n",
       "    .dataframe tbody tr th {\n",
       "        vertical-align: top;\n",
       "    }\n",
       "\n",
       "    .dataframe thead th {\n",
       "        text-align: right;\n",
       "    }\n",
       "</style>\n",
       "<table border=\"1\" class=\"dataframe\">\n",
       "  <thead>\n",
       "    <tr style=\"text-align: right;\">\n",
       "      <th></th>\n",
       "      <th>Phylum</th>\n",
       "      <th>Genus</th>\n",
       "    </tr>\n",
       "  </thead>\n",
       "  <tbody>\n",
       "    <tr>\n",
       "      <th>0</th>\n",
       "      <td>Proteobacteria</td>\n",
       "      <td>Pelagibacter</td>\n",
       "    </tr>\n",
       "    <tr>\n",
       "      <th>1</th>\n",
       "      <td>Proteobacteria</td>\n",
       "      <td>Pseudothioglobus</td>\n",
       "    </tr>\n",
       "    <tr>\n",
       "      <th>2</th>\n",
       "      <td>Thermoproteota</td>\n",
       "      <td>Nitrosopumilus</td>\n",
       "    </tr>\n",
       "  </tbody>\n",
       "</table>\n",
       "</div>"
      ],
      "text/plain": [
       "           Phylum             Genus\n",
       "0  Proteobacteria      Pelagibacter\n",
       "1  Proteobacteria  Pseudothioglobus\n",
       "2  Thermoproteota    Nitrosopumilus"
      ]
     },
     "execution_count": 289,
     "metadata": {},
     "output_type": "execute_result"
    }
   ],
   "source": [
    "mgns_gen_phyla = df[['Phylum','Genus']]\n",
    "mgns_gen_phyla.head(3)"
   ]
  },
  {
   "cell_type": "code",
   "execution_count": 292,
   "id": "0d8b56f8",
   "metadata": {},
   "outputs": [],
   "source": [
    "os.chdir(\"/Users/nastassia.patin/Desktop/Projects/eCruises_TIMESERIES/Euks-mgns-asvs/taxa lists\")"
   ]
  },
  {
   "cell_type": "code",
   "execution_count": 293,
   "id": "49ca0220",
   "metadata": {},
   "outputs": [
    {
     "data": {
      "text/html": [
       "<div>\n",
       "<style scoped>\n",
       "    .dataframe tbody tr th:only-of-type {\n",
       "        vertical-align: middle;\n",
       "    }\n",
       "\n",
       "    .dataframe tbody tr th {\n",
       "        vertical-align: top;\n",
       "    }\n",
       "\n",
       "    .dataframe thead th {\n",
       "        text-align: right;\n",
       "    }\n",
       "</style>\n",
       "<table border=\"1\" class=\"dataframe\">\n",
       "  <thead>\n",
       "    <tr style=\"text-align: right;\">\n",
       "      <th></th>\n",
       "      <th>Genus</th>\n",
       "    </tr>\n",
       "  </thead>\n",
       "  <tbody>\n",
       "    <tr>\n",
       "      <th>0</th>\n",
       "      <td>Pelagomonas</td>\n",
       "    </tr>\n",
       "    <tr>\n",
       "      <th>1</th>\n",
       "      <td>Emiliania</td>\n",
       "    </tr>\n",
       "    <tr>\n",
       "      <th>2</th>\n",
       "      <td>Isochrysis</td>\n",
       "    </tr>\n",
       "  </tbody>\n",
       "</table>\n",
       "</div>"
      ],
      "text/plain": [
       "         Genus\n",
       "0  Pelagomonas\n",
       "1    Emiliania\n",
       "2   Isochrysis"
      ]
     },
     "execution_count": 293,
     "metadata": {},
     "output_type": "execute_result"
    }
   ],
   "source": [
    "# 18S comparison\n",
    "no18S_asvs = pd.read_csv(\"18S_genera_mgns_ONLY.csv\")\n",
    "no18S_asvs.head(3)"
   ]
  },
  {
   "cell_type": "code",
   "execution_count": 294,
   "id": "e086dbe2",
   "metadata": {},
   "outputs": [
    {
     "data": {
      "text/html": [
       "<div>\n",
       "<style scoped>\n",
       "    .dataframe tbody tr th:only-of-type {\n",
       "        vertical-align: middle;\n",
       "    }\n",
       "\n",
       "    .dataframe tbody tr th {\n",
       "        vertical-align: top;\n",
       "    }\n",
       "\n",
       "    .dataframe thead th {\n",
       "        text-align: right;\n",
       "    }\n",
       "</style>\n",
       "<table border=\"1\" class=\"dataframe\">\n",
       "  <thead>\n",
       "    <tr style=\"text-align: right;\">\n",
       "      <th></th>\n",
       "      <th>Genus</th>\n",
       "    </tr>\n",
       "  </thead>\n",
       "  <tbody>\n",
       "    <tr>\n",
       "      <th>0</th>\n",
       "      <td>Bolidomonas</td>\n",
       "    </tr>\n",
       "    <tr>\n",
       "      <th>1</th>\n",
       "      <td>Chrysochromulina</td>\n",
       "    </tr>\n",
       "    <tr>\n",
       "      <th>2</th>\n",
       "      <td>Ochromonas</td>\n",
       "    </tr>\n",
       "  </tbody>\n",
       "</table>\n",
       "</div>"
      ],
      "text/plain": [
       "              Genus\n",
       "0       Bolidomonas\n",
       "1  Chrysochromulina\n",
       "2        Ochromonas"
      ]
     },
     "execution_count": 294,
     "metadata": {},
     "output_type": "execute_result"
    }
   ],
   "source": [
    "# COI comparison\n",
    "noCOI_asvs = pd.read_csv(\"COI_genera_mgns_ONLY.csv\")\n",
    "noCOI_asvs.head(3)"
   ]
  },
  {
   "cell_type": "code",
   "execution_count": 295,
   "id": "48c17613",
   "metadata": {},
   "outputs": [],
   "source": [
    "mgns_only_18S = pd.merge(no18S_asvs, \n",
    "                         mgns_gen_phyla, \n",
    "                         how='left', \n",
    "                         on='Genus').drop_duplicates(subset=None, keep=\"first\", inplace=False)\n",
    "mgns_only_COI = pd.merge(noCOI_asvs, \n",
    "                         mgns_gen_phyla, \n",
    "                         how='left', \n",
    "                         on='Genus').drop_duplicates(subset=None, keep=\"first\", inplace=False)"
   ]
  },
  {
   "cell_type": "code",
   "execution_count": 296,
   "id": "26d5cc2c",
   "metadata": {},
   "outputs": [],
   "source": [
    "mgns_only_18S = mgns_only_18S.groupby('Phylum').count().reset_index()\n",
    "mgns_only_COI = mgns_only_COI.groupby('Phylum').count().reset_index()\n",
    "\n",
    "mgns_only_18S['Data set'] = '18S'\n",
    "mgns_only_COI['Data set'] = 'COI'"
   ]
  },
  {
   "cell_type": "code",
   "execution_count": 297,
   "id": "aa74b37c",
   "metadata": {},
   "outputs": [],
   "source": [
    "mgns_phy_gen = pd.concat([mgns_only_18S, mgns_only_COI])"
   ]
  },
  {
   "cell_type": "code",
   "execution_count": 298,
   "id": "35615010",
   "metadata": {},
   "outputs": [
    {
     "data": {
      "text/html": [
       "<div>\n",
       "<style scoped>\n",
       "    .dataframe tbody tr th:only-of-type {\n",
       "        vertical-align: middle;\n",
       "    }\n",
       "\n",
       "    .dataframe tbody tr th {\n",
       "        vertical-align: top;\n",
       "    }\n",
       "\n",
       "    .dataframe thead th {\n",
       "        text-align: right;\n",
       "    }\n",
       "</style>\n",
       "<table border=\"1\" class=\"dataframe\">\n",
       "  <thead>\n",
       "    <tr style=\"text-align: right;\">\n",
       "      <th>Phylum</th>\n",
       "      <th>Alveolata:Ciliophora</th>\n",
       "      <th>Alveolata:Dinophyta</th>\n",
       "      <th>AmoebozoaUnknown</th>\n",
       "      <th>Cryptophyta:Cryptophyta</th>\n",
       "      <th>Haptophyta:Haptophyta</th>\n",
       "      <th>Opisthokonta:Sarcomastigophora</th>\n",
       "      <th>Rhizaria:Cercozoa</th>\n",
       "      <th>Stramenopila:Bacillariophyta</th>\n",
       "      <th>Stramenopila:Ochrophyta</th>\n",
       "      <th>Unknown</th>\n",
       "      <th>UnknownUnknown</th>\n",
       "      <th>Viridiplantae:Chlorophyta</th>\n",
       "    </tr>\n",
       "    <tr>\n",
       "      <th>Data set</th>\n",
       "      <th></th>\n",
       "      <th></th>\n",
       "      <th></th>\n",
       "      <th></th>\n",
       "      <th></th>\n",
       "      <th></th>\n",
       "      <th></th>\n",
       "      <th></th>\n",
       "      <th></th>\n",
       "      <th></th>\n",
       "      <th></th>\n",
       "      <th></th>\n",
       "    </tr>\n",
       "  </thead>\n",
       "  <tbody>\n",
       "    <tr>\n",
       "      <th>18S</th>\n",
       "      <td>1.0</td>\n",
       "      <td>2.0</td>\n",
       "      <td>0.0</td>\n",
       "      <td>0.0</td>\n",
       "      <td>5.0</td>\n",
       "      <td>1.0</td>\n",
       "      <td>1.0</td>\n",
       "      <td>1.0</td>\n",
       "      <td>4.0</td>\n",
       "      <td>1.0</td>\n",
       "      <td>1.0</td>\n",
       "      <td>4.0</td>\n",
       "    </tr>\n",
       "    <tr>\n",
       "      <th>COI</th>\n",
       "      <td>4.0</td>\n",
       "      <td>5.0</td>\n",
       "      <td>1.0</td>\n",
       "      <td>2.0</td>\n",
       "      <td>5.0</td>\n",
       "      <td>1.0</td>\n",
       "      <td>1.0</td>\n",
       "      <td>3.0</td>\n",
       "      <td>9.0</td>\n",
       "      <td>1.0</td>\n",
       "      <td>1.0</td>\n",
       "      <td>5.0</td>\n",
       "    </tr>\n",
       "  </tbody>\n",
       "</table>\n",
       "</div>"
      ],
      "text/plain": [
       "Phylum    Alveolata:Ciliophora  Alveolata:Dinophyta  AmoebozoaUnknown  \\\n",
       "Data set                                                                \n",
       "18S                        1.0                  2.0               0.0   \n",
       "COI                        4.0                  5.0               1.0   \n",
       "\n",
       "Phylum    Cryptophyta:Cryptophyta  Haptophyta:Haptophyta  \\\n",
       "Data set                                                   \n",
       "18S                           0.0                    5.0   \n",
       "COI                           2.0                    5.0   \n",
       "\n",
       "Phylum    Opisthokonta:Sarcomastigophora  Rhizaria:Cercozoa  \\\n",
       "Data set                                                      \n",
       "18S                                  1.0                1.0   \n",
       "COI                                  1.0                1.0   \n",
       "\n",
       "Phylum    Stramenopila:Bacillariophyta  Stramenopila:Ochrophyta  Unknown  \\\n",
       "Data set                                                                   \n",
       "18S                                1.0                      4.0      1.0   \n",
       "COI                                3.0                      9.0      1.0   \n",
       "\n",
       "Phylum    UnknownUnknown  Viridiplantae:Chlorophyta  \n",
       "Data set                                             \n",
       "18S                  1.0                        4.0  \n",
       "COI                  1.0                        5.0  "
      ]
     },
     "execution_count": 298,
     "metadata": {},
     "output_type": "execute_result"
    }
   ],
   "source": [
    "pivot = pd.pivot_table(data=mgns_phy_gen, \n",
    "                       index=['Data set'], \n",
    "                       columns=['Phylum'], \n",
    "                       values='Genus').fillna(0)\n",
    "pivot"
   ]
  },
  {
   "cell_type": "markdown",
   "id": "f4794897",
   "metadata": {},
   "source": [
    "## 4b. Make stacked bar chart"
   ]
  },
  {
   "cell_type": "code",
   "execution_count": 301,
   "id": "0d4cdd18",
   "metadata": {},
   "outputs": [
    {
     "data": {
      "text/plain": [
       "[Text(0, 0, '18S'), Text(1, 0, 'COI')]"
      ]
     },
     "execution_count": 301,
     "metadata": {},
     "output_type": "execute_result"
    },
    {
     "data": {
      "image/png": "[encoded data removed]",
      "text/plain": [
       "<Figure size 800x1200 with 1 Axes>"
      ]
     },
     "metadata": {},
     "output_type": "display_data"
    }
   ],
   "source": [
    "style.use('tableau-colorblind10')\n",
    "\n",
    "ax = pivot.plot.bar(stacked=True, figsize=(8,12))\n",
    "\n",
    "ax.legend(bbox_to_anchor=(1, 1),\n",
    "          ncol=1, fancybox=True)\n",
    "ax.set_title('Genera in Metagenomes only', fontsize=16)\n",
    "ax.set_xticklabels(['18S','COI'], rotation=0, fontsize=16)"
   ]
  },
  {
   "cell_type": "code",
   "execution_count": 302,
   "id": "5fada7e7",
   "metadata": {},
   "outputs": [],
   "source": [
    "os.chdir(\"/Users/nastassia.patin/Desktop/Projects/eCruises_TIMESERIES/Euks-mgns-asvs/\")\n",
    "ax.figure.savefig('Mgns_only.png', bbox_inches='tight')"
   ]
  },
  {
   "cell_type": "markdown",
   "id": "c67c483a",
   "metadata": {},
   "source": [
    "## 5. Taxa seen in both ASVs and mgns"
   ]
  },
  {
   "cell_type": "code",
   "execution_count": null,
   "id": "1083dbf5",
   "metadata": {},
   "outputs": [],
   "source": []
  }
 ],
 "metadata": {
  "kernelspec": {
   "display_name": "Python 3 (ipykernel)",
   "language": "python",
   "name": "python3"
  },
  "language_info": {
   "codemirror_mode": {
    "name": "ipython",
    "version": 3
   },
   "file_extension": ".py",
   "mimetype": "text/x-python",
   "name": "python",
   "nbconvert_exporter": "python",
   "pygments_lexer": "ipython3",
   "version": "3.8.3"
  }
 },
 "nbformat": 4,
 "nbformat_minor": 5
}
