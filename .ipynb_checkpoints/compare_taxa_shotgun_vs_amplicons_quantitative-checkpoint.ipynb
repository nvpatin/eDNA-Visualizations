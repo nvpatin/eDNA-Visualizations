{
 "cells": [
  {
   "cell_type": "markdown",
   "metadata": {},
   "source": [
    "# This notebook compares eukaryotic taxa seen in shotgun metagenomes with those in metabarcoding sequence data. It is designed to use the output of sourmash for shotgun metagenomes and DADA2, BLAST, and MEGAN LCA for metabarcoding data. In this example, sourmash databases were GTDB and MMETSP and BLAST database were NCBI-nr."
   ]
  },
  {
   "cell_type": "markdown",
   "metadata": {},
   "source": [
    "### This is currently written to assess taxa at the genus level, but can be modified for other levels of taxonomic resolution. Additionally, GTDB and MMETSP only contain microbial taxa (prokaryotic and eukaryotic, respectively). For higher organisms, different databases will be needed. I will address those questions in a separate script."
   ]
  },
  {
   "cell_type": "code",
   "execution_count": 1,
   "metadata": {},
   "outputs": [],
   "source": [
    "import pandas as pd\n",
    "import os as os\n",
    "import glob as glob\n",
    "import numpy as np\n",
    "import functools as ft\n",
    "import matplotlib.pyplot as plt\n",
    "import matplotlib.patches as mpatches\n",
    "import seaborn as sns"
   ]
  },
  {
   "cell_type": "markdown",
   "metadata": {},
   "source": [
    "## 01. Shotgun  metagenomes: Compile lists of observed taxa"
   ]
  },
  {
   "cell_type": "markdown",
   "metadata": {},
   "source": [
    "### Function to generate domain- and genus-level data"
   ]
  },
  {
   "cell_type": "code",
   "execution_count": 2,
   "metadata": {},
   "outputs": [],
   "source": [
    "def compile_taxa_lists(file, sample):\n",
    "    tax = pd.read_csv(file)\n",
    "    names = ['query name','rank','fraction','lineage','query_md5','query_filename',\n",
    "         'f_weighted_at_rank','bp_match_at_rank']\n",
    "    tax.columns = names\n",
    "    # Get total number of bps in metagenome\n",
    "    superk = tax[(tax['rank'] == 'superkingdom')]\n",
    "    total_bps = superk['bp_match_at_rank'].sum()\n",
    "    # Get eukaryotic bps in metagenome\n",
    "    if tax['lineage'].isin(['Eukaryota']).any():\n",
    "        euk_bps = tax[(tax['rank'] == 'superkingdom') & (tax['lineage'] == 'Eukaryota')]['bp_match_at_rank'].item()\n",
    "    else:\n",
    "        euk_bps = 0\n",
    "    # Make dataframe with sample name and bps\n",
    "    sample_bps = pd.DataFrame({'Sample' : pd.Series(a, dtype='str'), \n",
    "                           'total_bps': pd.Series(total_bps, dtype='int'),\n",
    "                           'euk_bps': pd.Series(euk_bps, dtype='int')}) \n",
    "    tax = tax[tax['rank'] == 'genus']\n",
    "    lineage = tax[['lineage', 'bp_match_at_rank']].copy()\n",
    "    lineage[['Domain','Phylum','Class','Order','Family',\n",
    "             'Genus']] = lineage['lineage'].str.split(';', n=6, expand=True)\n",
    "    euks = lineage.loc[lineage['Domain'] == 'Eukaryota']\n",
    "    euk_ord_genus = euks[['Order','Genus','bp_match_at_rank']].set_index('Genus')\n",
    "    euk_ord_genus['bp_fraction'] = euk_ord_genus['bp_match_at_rank'].div(euk_bps)\n",
    "    euk_ord_genus = euk_ord_genus.drop(columns=['bp_match_at_rank'])\n",
    "    euk_ord_genus['Metagenome sample'] = sample\n",
    "    return(euk_ord_genus, sample_bps)"
   ]
  },
  {
   "cell_type": "markdown",
   "metadata": {},
   "source": [
    "### Apply functions to all samples in a directory"
   ]
  },
  {
   "cell_type": "code",
   "execution_count": 9,
   "metadata": {},
   "outputs": [],
   "source": [
    "# Change this directory for each data set\n",
    "#os.chdir(\"/Users/nastassia.patin/GitHub/eDNA-Visualizations/Euks_mgns_asvs_data/sourmash_summaries/Flyer2018\")\n",
    "os.chdir(\"/Users/nastassia.patin/GitHub/eDNA-Visualizations/Euks_mgns_asvs_data/sourmash_summaries/RREAS2018\")\n",
    "#os.chdir(\"/Users/nastassia.patin/GitHub/eDNA-Visualizations/Euks_mgns_asvs_data/sourmash_summaries/RREAS2019\")"
   ]
  },
  {
   "cell_type": "code",
   "execution_count": 10,
   "metadata": {},
   "outputs": [],
   "source": [
    "# empty data frame for genus- and order-level observations\n",
    "df_gen_mgns = []\n",
    "# empty data frame for all eukaryotic reads and base pairs\n",
    "df_sample_bps = []\n",
    "\n",
    "for file in glob.glob('*summarized.csv'):\n",
    "    a, b = file.split('_int')\n",
    "    gen, bps = compile_taxa_lists(file, a)\n",
    "    df_gen_mgns.append(gen)\n",
    "    df_sample_bps.append(bps)\n",
    "    \n",
    "df_gen_mgns = pd.concat(df_gen_mgns)\n",
    "df_sample_bps = pd.concat(df_sample_bps)"
   ]
  },
  {
   "cell_type": "markdown",
   "metadata": {},
   "source": [
    "### Assign identifiers to dataframes and repeat the process for other data sets"
   ]
  },
  {
   "cell_type": "code",
   "execution_count": 8,
   "metadata": {},
   "outputs": [],
   "source": [
    "df_gen_mgns_Flyer2018 = df_gen_mgns\n",
    "df_sample_bps_Flyer2018 = df_sample_bps"
   ]
  },
  {
   "cell_type": "code",
   "execution_count": 11,
   "metadata": {},
   "outputs": [],
   "source": [
    "df_gen_mgns_RREAS2018 = df_gen_mgns\n",
    "df_sample_bps_RREAS2018 = df_sample_bps"
   ]
  },
  {
   "cell_type": "code",
   "execution_count": 5,
   "metadata": {},
   "outputs": [],
   "source": [
    "df_gen_mgns_RREAS2019 = df_gen_mgns\n",
    "df_sample_bps_RREAS2019 = df_sample_bps"
   ]
  },
  {
   "cell_type": "markdown",
   "metadata": {},
   "source": [
    "### Combine all dataframes"
   ]
  },
  {
   "cell_type": "code",
   "execution_count": 12,
   "metadata": {},
   "outputs": [
    {
     "data": {
      "text/html": [
       "<div>\n",
       "<style scoped>\n",
       "    .dataframe tbody tr th:only-of-type {\n",
       "        vertical-align: middle;\n",
       "    }\n",
       "\n",
       "    .dataframe tbody tr th {\n",
       "        vertical-align: top;\n",
       "    }\n",
       "\n",
       "    .dataframe thead th {\n",
       "        text-align: right;\n",
       "    }\n",
       "</style>\n",
       "<table border=\"1\" class=\"dataframe\">\n",
       "  <thead>\n",
       "    <tr style=\"text-align: right;\">\n",
       "      <th></th>\n",
       "      <th>Genus</th>\n",
       "      <th>Order</th>\n",
       "      <th>bp_fraction</th>\n",
       "      <th>Metagenome sample</th>\n",
       "    </tr>\n",
       "  </thead>\n",
       "  <tbody>\n",
       "    <tr>\n",
       "      <th>0</th>\n",
       "      <td>Minutocellus</td>\n",
       "      <td>Cymatosirales</td>\n",
       "      <td>0.459300</td>\n",
       "      <td>D0275A_S58</td>\n",
       "    </tr>\n",
       "    <tr>\n",
       "      <th>1</th>\n",
       "      <td>Skeletonema</td>\n",
       "      <td>Thalassiosirales</td>\n",
       "      <td>0.095169</td>\n",
       "      <td>D0275A_S58</td>\n",
       "    </tr>\n",
       "    <tr>\n",
       "      <th>2</th>\n",
       "      <td>Favella</td>\n",
       "      <td>Tintinnida</td>\n",
       "      <td>0.063909</td>\n",
       "      <td>D0275A_S58</td>\n",
       "    </tr>\n",
       "  </tbody>\n",
       "</table>\n",
       "</div>"
      ],
      "text/plain": [
       "          Genus             Order  bp_fraction Metagenome sample\n",
       "0  Minutocellus     Cymatosirales     0.459300        D0275A_S58\n",
       "1   Skeletonema  Thalassiosirales     0.095169        D0275A_S58\n",
       "2       Favella        Tintinnida     0.063909        D0275A_S58"
      ]
     },
     "execution_count": 12,
     "metadata": {},
     "output_type": "execute_result"
    }
   ],
   "source": [
    "# taxonomy\n",
    "df_gen_mgns = pd.concat([df_gen_mgns_RREAS2018, \n",
    "                         df_gen_mgns_Flyer2018, df_gen_mgns_RREAS2019], \n",
    "                        axis=0).reset_index()\n",
    "df_gen_mgns.head(3)"
   ]
  },
  {
   "cell_type": "code",
   "execution_count": 14,
   "metadata": {},
   "outputs": [
    {
     "data": {
      "text/html": [
       "<div>\n",
       "<style scoped>\n",
       "    .dataframe tbody tr th:only-of-type {\n",
       "        vertical-align: middle;\n",
       "    }\n",
       "\n",
       "    .dataframe tbody tr th {\n",
       "        vertical-align: top;\n",
       "    }\n",
       "\n",
       "    .dataframe thead th {\n",
       "        text-align: right;\n",
       "    }\n",
       "</style>\n",
       "<table border=\"1\" class=\"dataframe\">\n",
       "  <thead>\n",
       "    <tr style=\"text-align: right;\">\n",
       "      <th></th>\n",
       "      <th>Sample</th>\n",
       "      <th>total_bps</th>\n",
       "      <th>euk_bps</th>\n",
       "      <th>euk_bp_fraction</th>\n",
       "    </tr>\n",
       "  </thead>\n",
       "  <tbody>\n",
       "    <tr>\n",
       "      <th>0</th>\n",
       "      <td>D0275A_S58</td>\n",
       "      <td>185074000</td>\n",
       "      <td>18010000</td>\n",
       "      <td>0.097312</td>\n",
       "    </tr>\n",
       "    <tr>\n",
       "      <th>0</th>\n",
       "      <td>D0148A_S38</td>\n",
       "      <td>237230000</td>\n",
       "      <td>3029000</td>\n",
       "      <td>0.012768</td>\n",
       "    </tr>\n",
       "    <tr>\n",
       "      <th>0</th>\n",
       "      <td>D0085A_S13</td>\n",
       "      <td>202588000</td>\n",
       "      <td>1915000</td>\n",
       "      <td>0.009453</td>\n",
       "    </tr>\n",
       "  </tbody>\n",
       "</table>\n",
       "</div>"
      ],
      "text/plain": [
       "       Sample  total_bps   euk_bps  euk_bp_fraction\n",
       "0  D0275A_S58  185074000  18010000         0.097312\n",
       "0  D0148A_S38  237230000   3029000         0.012768\n",
       "0  D0085A_S13  202588000   1915000         0.009453"
      ]
     },
     "execution_count": 14,
     "metadata": {},
     "output_type": "execute_result"
    }
   ],
   "source": [
    "# reads and base pairs\n",
    "df_mgns_bps = pd.concat([df_sample_bps_RREAS2018, \n",
    "                         df_sample_bps_Flyer2018, df_sample_bps_RREAS2019], \n",
    "                        axis=0)\n",
    "df_mgns_bps['euk_bp_fraction'] = df_mgns_bps['euk_bps'] / df_mgns_bps['total_bps']\n",
    "df_mgns_bps.head(3)"
   ]
  },
  {
   "cell_type": "markdown",
   "metadata": {},
   "source": [
    "##### Calculate average fraction of eukaryotic base pairs across all samples"
   ]
  },
  {
   "cell_type": "code",
   "execution_count": 15,
   "metadata": {},
   "outputs": [
    {
     "data": {
      "text/plain": [
       "0.10848123278114398"
      ]
     },
     "execution_count": 15,
     "metadata": {},
     "output_type": "execute_result"
    }
   ],
   "source": [
    "avg_bps = np.average(df_mgns_bps['euk_bp_fraction'])\n",
    "avg_bps"
   ]
  },
  {
   "cell_type": "markdown",
   "metadata": {},
   "source": [
    "##### Calculate average fraction of total reads per sample from fraction of base pairs"
   ]
  },
  {
   "cell_type": "code",
   "execution_count": 16,
   "metadata": {},
   "outputs": [
    {
     "data": {
      "text/plain": [
       "42116990.333333336"
      ]
     },
     "execution_count": 16,
     "metadata": {},
     "output_type": "execute_result"
    }
   ],
   "source": [
    "os.chdir(\"/Users/nastassia.patin/GitHub/eDNA-Visualizations/Euks_mgns_asvs_data/\")\n",
    "\n",
    "mgn_stats = pd.read_csv('mgn_seq_stats.csv')\n",
    "avg_seqs = np.average(mgn_stats['Avg num seqs'])\n",
    "avg_seqs"
   ]
  },
  {
   "cell_type": "markdown",
   "metadata": {},
   "source": [
    "#### Create a data frame with the average number of reads, average fraction of eukaryotic base pairs, and average fraction of eukaryotic reads for metagenomes"
   ]
  },
  {
   "cell_type": "code",
   "execution_count": 19,
   "metadata": {},
   "outputs": [
    {
     "data": {
      "text/html": [
       "<div>\n",
       "<style scoped>\n",
       "    .dataframe tbody tr th:only-of-type {\n",
       "        vertical-align: middle;\n",
       "    }\n",
       "\n",
       "    .dataframe tbody tr th {\n",
       "        vertical-align: top;\n",
       "    }\n",
       "\n",
       "    .dataframe thead th {\n",
       "        text-align: right;\n",
       "    }\n",
       "</style>\n",
       "<table border=\"1\" class=\"dataframe\">\n",
       "  <thead>\n",
       "    <tr style=\"text-align: right;\">\n",
       "      <th></th>\n",
       "      <th>Sequence type</th>\n",
       "      <th>Avg num reads</th>\n",
       "      <th>Avg % euk bps/reads</th>\n",
       "      <th>Avg num euk reads</th>\n",
       "    </tr>\n",
       "  </thead>\n",
       "  <tbody>\n",
       "    <tr>\n",
       "      <th>0</th>\n",
       "      <td>Metagenomes</td>\n",
       "      <td>4.211699e+07</td>\n",
       "      <td>0.108481</td>\n",
       "      <td>4.568903e+06</td>\n",
       "    </tr>\n",
       "  </tbody>\n",
       "</table>\n",
       "</div>"
      ],
      "text/plain": [
       "  Sequence type  Avg num reads  Avg % euk bps/reads  Avg num euk reads\n",
       "0   Metagenomes   4.211699e+07             0.108481       4.568903e+06"
      ]
     },
     "execution_count": 19,
     "metadata": {},
     "output_type": "execute_result"
    }
   ],
   "source": [
    "euk_frac_mgns = pd.DataFrame({'Sequence type': ['Metagenomes'], 'Avg num reads': [avg_seqs],\n",
    "                           'Avg % euk bps/reads' : [avg_bps]})\n",
    "euk_frac_mgns['Avg num euk reads'] = euk_frac_mgns['Avg % euk bps/reads'] * euk_frac_mgns['Avg num reads']\n",
    "euk_frac_mgns"
   ]
  },
  {
   "cell_type": "markdown",
   "metadata": {},
   "source": [
    "## 02. Metabarcoding data: Compile lists of observed taxa"
   ]
  },
  {
   "cell_type": "markdown",
   "metadata": {
    "tags": []
   },
   "source": [
    "### Function to calculate total number of reads and bps per sample, filter out unclassified ASVs, and convert read counts to relative abundance values ('frequencies')"
   ]
  },
  {
   "cell_type": "code",
   "execution_count": 20,
   "metadata": {},
   "outputs": [],
   "source": [
    "def counts_to_freq(file, marker_gene, read_len):\n",
    "    asvs = pd.read_csv(file)\n",
    "    asvs = asvs[(asvs['Kingdom'] != 'no_hit') & \n",
    "            (asvs['Kingdom'] != 'unassigned')] # Remove ASVs wit 'no_hit' or 'unassigned' in Kingdom\n",
    "    # Get total number of reads and bps per sample\n",
    "    asvs.loc['total']= asvs.sum()\n",
    "    sample_reads = asvs.iloc[-1:,8:].reset_index()\n",
    "    sample_reads = pd.melt(sample_reads, id_vars='index')\n",
    "    sample_reads = sample_reads.iloc[:,-2:].rename(columns=\n",
    "                                       {'variable':'%s Sample' % marker_gene, \n",
    "                                        'value':'total %s reads' % marker_gene})\n",
    "    sample_reads['total %s bps' % marker_gene] = sample_reads['total %s reads' % marker_gene] * read_len # 127 bps for 18S, 321 bps for COI\n",
    "    # Remove ASVs with no read counts in any samples\n",
    "    asvs['sum'] = asvs.iloc[:,8:].sum(axis=1)\n",
    "    asvs_filt = asvs[asvs['sum'] != 0]\n",
    "    asvs_filt = asvs_filt.iloc[:-1,:-1]\n",
    "    # Calculate frequencies\n",
    "    # asvs_filt.iloc[:,8:] = asvs_filt.iloc[:,8:] / asvs_filt.iloc[-1,8:]\n",
    "    # asvs_freq = asvs_filt[:-1]\n",
    "    return(asvs_filt, sample_reads)"
   ]
  },
  {
   "cell_type": "markdown",
   "metadata": {},
   "source": [
    "### Function to reformat taxa lists"
   ]
  },
  {
   "cell_type": "markdown",
   "metadata": {},
   "source": [
    "##### Excluding taxa with unknown class/genus filters out A LOT of ASVs. Currently I have opted to keep in unknown taxa (except for reads with unknown 'Kingdom' which have already been filtered out in the previous function)."
   ]
  },
  {
   "cell_type": "code",
   "execution_count": 21,
   "metadata": {},
   "outputs": [],
   "source": [
    "def reformat_ASV_table(df, marker_gene):\n",
    "    samples = [col for col in df.columns if '1' in col] # Only sample column names have numbers\n",
    "    cols_to_drop = ['lineage','Species']\n",
    "    df = df.drop(cols_to_drop, axis=1)\n",
    "    taxon = [x for x in df.columns if '1' not in x]\n",
    "    df_melt = pd.melt(df, id_vars=taxon, value_vars=samples)\n",
    "    df_asvs = df_melt.rename(columns = {'variable':'%s Sample' % marker_gene, \n",
    "                                        'value':'%s read count' % marker_gene})\n",
    "    #mask = ['no_hit', 'unknown', 'unassigned'] # identify ASVs where taxon is unknown or unassigned\n",
    "    #genus = ''.join('Genus') # Convert list to string\n",
    "    #df_asvs = df_melt.loc[~df_melt['Kingdom'].isin(mask), :]\n",
    "    #df_asvs = df_melt.loc[~df_melt['Class'].isin(mask), :]\n",
    "    #df_asvs = df_melt.loc[~df_melt['Genus'].isin(mask), :]\n",
    "    # df_asvs = df_asvs[df_asvs['%s Frequency' % marker_gene] != 0]\n",
    "    #df_asvs = df_asvs.drop_duplicates()\n",
    "    return(df_asvs)"
   ]
  },
  {
   "cell_type": "markdown",
   "metadata": {},
   "source": [
    "### Generate dataframes for (1) class-level taxon frequences per sample and (2) reads and bps per sample"
   ]
  },
  {
   "cell_type": "markdown",
   "metadata": {},
   "source": [
    "#### COI"
   ]
  },
  {
   "cell_type": "code",
   "execution_count": 22,
   "metadata": {},
   "outputs": [],
   "source": [
    "os.chdir(\"/Users/nastassia.patin/GitHub/eDNA-Visualizations/Euks_mgns_asvs_data/COI comparison\")"
   ]
  },
  {
   "cell_type": "code",
   "execution_count": 23,
   "metadata": {},
   "outputs": [],
   "source": [
    "df_tax_COI = []\n",
    "df_reads_COI = []\n",
    "\n",
    "for file in glob.glob('*mgnmatches.csv'):\n",
    "    taxa_filt, reads = counts_to_freq(file, 'COI', 321)\n",
    "    genus = reformat_ASV_table(taxa_filt, 'COI')\n",
    "    df_tax_COI.append(genus)\n",
    "    df_reads_COI.append(reads)\n",
    "\n",
    "df_tax_COI = pd.concat(df_tax_COI, axis=0)\n",
    "df_reads_COI = pd.concat(df_reads_COI)"
   ]
  },
  {
   "cell_type": "code",
   "execution_count": 24,
   "metadata": {},
   "outputs": [
    {
     "data": {
      "text/html": [
       "<div>\n",
       "<style scoped>\n",
       "    .dataframe tbody tr th:only-of-type {\n",
       "        vertical-align: middle;\n",
       "    }\n",
       "\n",
       "    .dataframe tbody tr th {\n",
       "        vertical-align: top;\n",
       "    }\n",
       "\n",
       "    .dataframe thead th {\n",
       "        text-align: right;\n",
       "    }\n",
       "</style>\n",
       "<table border=\"1\" class=\"dataframe\">\n",
       "  <thead>\n",
       "    <tr style=\"text-align: right;\">\n",
       "      <th></th>\n",
       "      <th>COI Sample</th>\n",
       "      <th>total COI reads</th>\n",
       "      <th>total COI bps</th>\n",
       "    </tr>\n",
       "  </thead>\n",
       "  <tbody>\n",
       "    <tr>\n",
       "      <th>0</th>\n",
       "      <td>Lasker18Sc122_3_D0052</td>\n",
       "      <td>15876</td>\n",
       "      <td>5096196</td>\n",
       "    </tr>\n",
       "    <tr>\n",
       "      <th>1</th>\n",
       "      <td>Lasker18Sc122_5_D0053</td>\n",
       "      <td>28261</td>\n",
       "      <td>9071781</td>\n",
       "    </tr>\n",
       "    <tr>\n",
       "      <th>2</th>\n",
       "      <td>Lasker18Sc122_17_D0057</td>\n",
       "      <td>42076</td>\n",
       "      <td>13506396</td>\n",
       "    </tr>\n",
       "  </tbody>\n",
       "</table>\n",
       "</div>"
      ],
      "text/plain": [
       "               COI Sample  total COI reads  total COI bps\n",
       "0   Lasker18Sc122_3_D0052            15876        5096196\n",
       "1   Lasker18Sc122_5_D0053            28261        9071781\n",
       "2  Lasker18Sc122_17_D0057            42076       13506396"
      ]
     },
     "execution_count": 24,
     "metadata": {},
     "output_type": "execute_result"
    }
   ],
   "source": [
    "#df_tax_COI.tail(3)\n",
    "df_reads_COI.head(3)"
   ]
  },
  {
   "cell_type": "markdown",
   "metadata": {},
   "source": [
    "#### 18S"
   ]
  },
  {
   "cell_type": "code",
   "execution_count": 25,
   "metadata": {},
   "outputs": [],
   "source": [
    "os.chdir(\"/Users/nastassia.patin/GitHub/eDNA-Visualizations/Euks_mgns_asvs_data/18S comparison\")"
   ]
  },
  {
   "cell_type": "code",
   "execution_count": 26,
   "metadata": {},
   "outputs": [],
   "source": [
    "df_tax_18S = []\n",
    "df_reads_18S = []\n",
    "\n",
    "for file in glob.glob('*mgnmatches.csv'):\n",
    "    taxa_filt, reads = counts_to_freq(file, '18S', 127)\n",
    "    genus = reformat_ASV_table(taxa_filt, '18S')\n",
    "    df_tax_18S.append(genus)\n",
    "    df_reads_18S.append(reads)\n",
    "\n",
    "df_tax_18S = pd.concat(df_tax_18S, axis=0)\n",
    "df_reads_18S = pd.concat(df_reads_18S)"
   ]
  },
  {
   "cell_type": "code",
   "execution_count": 27,
   "metadata": {},
   "outputs": [
    {
     "data": {
      "text/html": [
       "<div>\n",
       "<style scoped>\n",
       "    .dataframe tbody tr th:only-of-type {\n",
       "        vertical-align: middle;\n",
       "    }\n",
       "\n",
       "    .dataframe tbody tr th {\n",
       "        vertical-align: top;\n",
       "    }\n",
       "\n",
       "    .dataframe thead th {\n",
       "        text-align: right;\n",
       "    }\n",
       "</style>\n",
       "<table border=\"1\" class=\"dataframe\">\n",
       "  <thead>\n",
       "    <tr style=\"text-align: right;\">\n",
       "      <th></th>\n",
       "      <th>18S Sample</th>\n",
       "      <th>total 18S reads</th>\n",
       "      <th>total 18S bps</th>\n",
       "    </tr>\n",
       "  </thead>\n",
       "  <tbody>\n",
       "    <tr>\n",
       "      <th>0</th>\n",
       "      <td>CN18FESPkoa_SC24</td>\n",
       "      <td>94585</td>\n",
       "      <td>12012295</td>\n",
       "    </tr>\n",
       "    <tr>\n",
       "      <th>1</th>\n",
       "      <td>CN18FESPkoa_SC26</td>\n",
       "      <td>45330</td>\n",
       "      <td>5756910</td>\n",
       "    </tr>\n",
       "    <tr>\n",
       "      <th>2</th>\n",
       "      <td>CN18FESPkoa_SC29</td>\n",
       "      <td>89395</td>\n",
       "      <td>11353165</td>\n",
       "    </tr>\n",
       "  </tbody>\n",
       "</table>\n",
       "</div>"
      ],
      "text/plain": [
       "         18S Sample  total 18S reads  total 18S bps\n",
       "0  CN18FESPkoa_SC24            94585       12012295\n",
       "1  CN18FESPkoa_SC26            45330        5756910\n",
       "2  CN18FESPkoa_SC29            89395       11353165"
      ]
     },
     "execution_count": 27,
     "metadata": {},
     "output_type": "execute_result"
    }
   ],
   "source": [
    "#df_tax_18S.tail(3)\n",
    "df_reads_18S.head(3)"
   ]
  },
  {
   "cell_type": "markdown",
   "metadata": {},
   "source": [
    "## 03. Compare total numbers/fractions of eukaryotic reads in metagenomes and amplicons"
   ]
  },
  {
   "cell_type": "markdown",
   "metadata": {},
   "source": [
    "#### Calculate average # total reads and average # eukaryotic reads for amplicon samples"
   ]
  },
  {
   "cell_type": "code",
   "execution_count": 28,
   "metadata": {},
   "outputs": [],
   "source": [
    "def calculate_eukaryotic_read_fraction(df_tax, df_reads, marker_gene):\n",
    "    kingdoms = df_tax[['Kingdom', '%s Sample' % marker_gene, '%s read count' % marker_gene]]\n",
    "    kingdoms = kingdoms.groupby(['Kingdom', '%s Sample' % marker_gene]).sum()\n",
    "    euks = kingdoms.xs('Eukaryota', level=0).reset_index()\n",
    "    euks['Domain'] = 'Eukaryota'\n",
    "    euk_fracs = pd.merge(df_reads, euks, on='%s Sample' % marker_gene)\n",
    "    euk_fracs['%s euk reads percent' % marker_gene] = euk_fracs['%s read count' % marker_gene] / euk_fracs['total %s reads' % marker_gene]\n",
    "    return(euk_fracs)"
   ]
  },
  {
   "cell_type": "code",
   "execution_count": 29,
   "metadata": {},
   "outputs": [
    {
     "data": {
      "text/html": [
       "<div>\n",
       "<style scoped>\n",
       "    .dataframe tbody tr th:only-of-type {\n",
       "        vertical-align: middle;\n",
       "    }\n",
       "\n",
       "    .dataframe tbody tr th {\n",
       "        vertical-align: top;\n",
       "    }\n",
       "\n",
       "    .dataframe thead th {\n",
       "        text-align: right;\n",
       "    }\n",
       "</style>\n",
       "<table border=\"1\" class=\"dataframe\">\n",
       "  <thead>\n",
       "    <tr style=\"text-align: right;\">\n",
       "      <th></th>\n",
       "      <th>18S Sample</th>\n",
       "      <th>total 18S reads</th>\n",
       "      <th>total 18S bps</th>\n",
       "      <th>18S read count</th>\n",
       "      <th>Domain</th>\n",
       "      <th>18S euk reads percent</th>\n",
       "    </tr>\n",
       "  </thead>\n",
       "  <tbody>\n",
       "    <tr>\n",
       "      <th>0</th>\n",
       "      <td>CN18FESPkoa_SC24</td>\n",
       "      <td>94585</td>\n",
       "      <td>12012295</td>\n",
       "      <td>94584</td>\n",
       "      <td>Eukaryota</td>\n",
       "      <td>0.999989</td>\n",
       "    </tr>\n",
       "    <tr>\n",
       "      <th>1</th>\n",
       "      <td>CN18FESPkoa_SC26</td>\n",
       "      <td>45330</td>\n",
       "      <td>5756910</td>\n",
       "      <td>45329</td>\n",
       "      <td>Eukaryota</td>\n",
       "      <td>0.999978</td>\n",
       "    </tr>\n",
       "    <tr>\n",
       "      <th>2</th>\n",
       "      <td>CN18FESPkoa_SC29</td>\n",
       "      <td>89395</td>\n",
       "      <td>11353165</td>\n",
       "      <td>89393</td>\n",
       "      <td>Eukaryota</td>\n",
       "      <td>0.999978</td>\n",
       "    </tr>\n",
       "  </tbody>\n",
       "</table>\n",
       "</div>"
      ],
      "text/plain": [
       "         18S Sample  total 18S reads  total 18S bps  18S read count  \\\n",
       "0  CN18FESPkoa_SC24            94585       12012295           94584   \n",
       "1  CN18FESPkoa_SC26            45330        5756910           45329   \n",
       "2  CN18FESPkoa_SC29            89395       11353165           89393   \n",
       "\n",
       "      Domain  18S euk reads percent  \n",
       "0  Eukaryota               0.999989  \n",
       "1  Eukaryota               0.999978  \n",
       "2  Eukaryota               0.999978  "
      ]
     },
     "execution_count": 29,
     "metadata": {},
     "output_type": "execute_result"
    }
   ],
   "source": [
    "euk_fracs_18S = calculate_eukaryotic_read_fraction(df_tax_18S, df_reads_18S, '18S')\n",
    "euk_fracs_18S.head(3)"
   ]
  },
  {
   "cell_type": "code",
   "execution_count": 30,
   "metadata": {},
   "outputs": [
    {
     "data": {
      "text/html": [
       "<div>\n",
       "<style scoped>\n",
       "    .dataframe tbody tr th:only-of-type {\n",
       "        vertical-align: middle;\n",
       "    }\n",
       "\n",
       "    .dataframe tbody tr th {\n",
       "        vertical-align: top;\n",
       "    }\n",
       "\n",
       "    .dataframe thead th {\n",
       "        text-align: right;\n",
       "    }\n",
       "</style>\n",
       "<table border=\"1\" class=\"dataframe\">\n",
       "  <thead>\n",
       "    <tr style=\"text-align: right;\">\n",
       "      <th></th>\n",
       "      <th>COI Sample</th>\n",
       "      <th>total COI reads</th>\n",
       "      <th>total COI bps</th>\n",
       "      <th>COI read count</th>\n",
       "      <th>Domain</th>\n",
       "      <th>COI euk reads percent</th>\n",
       "    </tr>\n",
       "  </thead>\n",
       "  <tbody>\n",
       "    <tr>\n",
       "      <th>0</th>\n",
       "      <td>Lasker18Sc122_3_D0052</td>\n",
       "      <td>15876</td>\n",
       "      <td>5096196</td>\n",
       "      <td>15876</td>\n",
       "      <td>Eukaryota</td>\n",
       "      <td>1.0</td>\n",
       "    </tr>\n",
       "    <tr>\n",
       "      <th>1</th>\n",
       "      <td>Lasker18Sc122_5_D0053</td>\n",
       "      <td>28261</td>\n",
       "      <td>9071781</td>\n",
       "      <td>28261</td>\n",
       "      <td>Eukaryota</td>\n",
       "      <td>1.0</td>\n",
       "    </tr>\n",
       "    <tr>\n",
       "      <th>2</th>\n",
       "      <td>Lasker18Sc122_17_D0057</td>\n",
       "      <td>42076</td>\n",
       "      <td>13506396</td>\n",
       "      <td>42076</td>\n",
       "      <td>Eukaryota</td>\n",
       "      <td>1.0</td>\n",
       "    </tr>\n",
       "  </tbody>\n",
       "</table>\n",
       "</div>"
      ],
      "text/plain": [
       "               COI Sample  total COI reads  total COI bps  COI read count  \\\n",
       "0   Lasker18Sc122_3_D0052            15876        5096196           15876   \n",
       "1   Lasker18Sc122_5_D0053            28261        9071781           28261   \n",
       "2  Lasker18Sc122_17_D0057            42076       13506396           42076   \n",
       "\n",
       "      Domain  COI euk reads percent  \n",
       "0  Eukaryota                    1.0  \n",
       "1  Eukaryota                    1.0  \n",
       "2  Eukaryota                    1.0  "
      ]
     },
     "execution_count": 30,
     "metadata": {},
     "output_type": "execute_result"
    }
   ],
   "source": [
    "euk_fracs_COI = calculate_eukaryotic_read_fraction(df_tax_COI, df_reads_COI, 'COI')\n",
    "euk_fracs_COI.head(3)"
   ]
  },
  {
   "cell_type": "code",
   "execution_count": 31,
   "metadata": {},
   "outputs": [
    {
     "data": {
      "text/html": [
       "<div>\n",
       "<style scoped>\n",
       "    .dataframe tbody tr th:only-of-type {\n",
       "        vertical-align: middle;\n",
       "    }\n",
       "\n",
       "    .dataframe tbody tr th {\n",
       "        vertical-align: top;\n",
       "    }\n",
       "\n",
       "    .dataframe thead th {\n",
       "        text-align: right;\n",
       "    }\n",
       "</style>\n",
       "<table border=\"1\" class=\"dataframe\">\n",
       "  <thead>\n",
       "    <tr style=\"text-align: right;\">\n",
       "      <th></th>\n",
       "      <th>Sequence type</th>\n",
       "      <th>Avg num reads</th>\n",
       "      <th>Avg % euk bps/reads</th>\n",
       "      <th>Avg num euk reads</th>\n",
       "    </tr>\n",
       "  </thead>\n",
       "  <tbody>\n",
       "    <tr>\n",
       "      <th>0</th>\n",
       "      <td>Metagenomes</td>\n",
       "      <td>4.211699e+07</td>\n",
       "      <td>0.108481</td>\n",
       "      <td>4.568903e+06</td>\n",
       "    </tr>\n",
       "  </tbody>\n",
       "</table>\n",
       "</div>"
      ],
      "text/plain": [
       "  Sequence type  Avg num reads  Avg % euk bps/reads  Avg num euk reads\n",
       "0   Metagenomes   4.211699e+07             0.108481       4.568903e+06"
      ]
     },
     "execution_count": 31,
     "metadata": {},
     "output_type": "execute_result"
    }
   ],
   "source": [
    "euk_frac_mgns"
   ]
  },
  {
   "cell_type": "code",
   "execution_count": 32,
   "metadata": {},
   "outputs": [],
   "source": [
    "new_row = pd.DataFrame({'Sequence type': '18S', \n",
    "           'Avg num reads': np.average(euk_fracs_18S['total 18S reads']),\n",
    "           'Avg % euk bps/reads': np.average(euk_fracs_18S['18S euk reads percent']),\n",
    "            'Avg num euk reads': np.average(euk_fracs_18S['18S read count'])},\n",
    "                      index=[0])\n",
    "euk_frac_df = pd.concat([new_row, euk_frac_mgns.loc[:]]).reset_index(drop=True)"
   ]
  },
  {
   "cell_type": "code",
   "execution_count": 33,
   "metadata": {},
   "outputs": [],
   "source": [
    "new_row = pd.DataFrame({'Sequence type': 'COI', \n",
    "           'Avg num reads': np.average(euk_fracs_COI['total COI reads']),\n",
    "           'Avg % euk bps/reads': np.average(euk_fracs_COI['COI euk reads percent']),\n",
    "            'Avg num euk reads': np.average(euk_fracs_COI['COI read count'])},\n",
    "                      index=[0])\n",
    "euk_frac_df = pd.concat([new_row, euk_frac_df.loc[:]]).reset_index(drop=True)"
   ]
  },
  {
   "cell_type": "code",
   "execution_count": 37,
   "metadata": {},
   "outputs": [],
   "source": [
    "euk_frac_df['Total reads'] = 1.0\n",
    "euk_frac_df['Avg num prok reads'] = euk_frac_df['Avg num reads'] - euk_frac_df['Avg num euk reads']\n",
    "euk_frac_df.to_csv(\"Percent_euk_reads_comparison.csv\", index=False)"
   ]
  },
  {
   "cell_type": "code",
   "execution_count": 35,
   "metadata": {},
   "outputs": [
    {
     "data": {
      "image/png": "[encoded data removed]",
      "text/plain": [
       "<Figure size 1000x800 with 1 Axes>"
      ]
     },
     "metadata": {},
     "output_type": "display_data"
    }
   ],
   "source": [
    "plt.figure(figsize=(10,8))\n",
    "sns.set(font_scale = 1.5)\n",
    "sns.set_style('white')\n",
    "sns.set_palette(sns.color_palette('colorblind'))\n",
    "\n",
    "# bar chart 1 -> top bars (bac + arc reads)\n",
    "bar1 = sns.barplot(data=euk_frac_df, x='Sequence type',  \n",
    "                   y='Total reads', color='darkblue')\n",
    "\n",
    "# bar chart 2 -> bottom bars (eukaryotic reads)\n",
    "bar2 = sns.barplot(data=euk_frac_df, x='Sequence type',  \n",
    "                   y='Avg % euk bps/reads', color='lightblue')\n",
    "\n",
    "plt.ylabel('Average % eukaryotic reads', size=18)\n",
    "plt.xlabel('Sequence data set', size=18)\n",
    "\n",
    "plt.ylim(0, 1.05)\n",
    "\n",
    "# add legend\n",
    "top_bar = mpatches.Patch(color='darkblue', label='Prokaryotic reads')\n",
    "bottom_bar = mpatches.Patch(color='lightblue', label='Eukaryotic reads')\n",
    "plt.legend(handles=[top_bar, bottom_bar], bbox_to_anchor=(1.02, 0.55), \n",
    "           loc='upper left', borderaxespad=0)\n",
    "\n",
    "plt.savefig('eCruises2018_2019_prok_vs_euk_reads.png', format='png', \n",
    "            dpi=1200, bbox_inches='tight')\n",
    "# show the graph\n",
    "plt.show()"
   ]
  },
  {
   "cell_type": "markdown",
   "metadata": {},
   "source": [
    "## 04. Compare frequencies of taxa seen in paired samples"
   ]
  },
  {
   "cell_type": "code",
   "execution_count": 260,
   "metadata": {},
   "outputs": [],
   "source": [
    "os.chdir(\"/Users/nastassia.patin/Desktop/Projects/eCruises_TIMESERIES/Euks-mgns-asvs\")"
   ]
  },
  {
   "cell_type": "markdown",
   "metadata": {},
   "source": [
    "#### Load file showing paired sample names and turn pairs into a dictionary"
   ]
  },
  {
   "cell_type": "code",
   "execution_count": 261,
   "metadata": {},
   "outputs": [],
   "source": [
    "file = 'eCruises2018_2019_mgn_asv_paired_samples.csv'\n",
    "pairs = pd.read_csv(file)"
   ]
  },
  {
   "cell_type": "markdown",
   "metadata": {},
   "source": [
    "#### Add paired sample names to ASV and metagenome genus lists"
   ]
  },
  {
   "cell_type": "code",
   "execution_count": 262,
   "metadata": {},
   "outputs": [
    {
     "ename": "NameError",
     "evalue": "name 'df_gen_asvs' is not defined",
     "output_type": "error",
     "traceback": [
      "\u001b[0;31m---------------------------------------------------------------------------\u001b[0m",
      "\u001b[0;31mNameError\u001b[0m                                 Traceback (most recent call last)",
      "Cell \u001b[0;32mIn[262], line 1\u001b[0m\n\u001b[0;32m----> 1\u001b[0m df_gen_asvs_paired \u001b[38;5;241m=\u001b[39m \u001b[43mdf_gen_asvs\u001b[49m\u001b[38;5;241m.\u001b[39mmerge(pairs, how\u001b[38;5;241m=\u001b[39m\u001b[38;5;124m'\u001b[39m\u001b[38;5;124mleft\u001b[39m\u001b[38;5;124m'\u001b[39m, on\u001b[38;5;241m=\u001b[39m\u001b[38;5;124m'\u001b[39m\u001b[38;5;124mASV sample\u001b[39m\u001b[38;5;124m'\u001b[39m)\n\u001b[1;32m      2\u001b[0m df_gen_mgns_paired \u001b[38;5;241m=\u001b[39m df_gen_mgns\u001b[38;5;241m.\u001b[39mmerge(pairs, how\u001b[38;5;241m=\u001b[39m\u001b[38;5;124m'\u001b[39m\u001b[38;5;124mleft\u001b[39m\u001b[38;5;124m'\u001b[39m, on\u001b[38;5;241m=\u001b[39m\u001b[38;5;124m'\u001b[39m\u001b[38;5;124mMetagenome sample\u001b[39m\u001b[38;5;124m'\u001b[39m)\n\u001b[1;32m      3\u001b[0m df_gen_asvs_paired\u001b[38;5;241m.\u001b[39mhead(\u001b[38;5;241m3\u001b[39m)\n",
      "\u001b[0;31mNameError\u001b[0m: name 'df_gen_asvs' is not defined"
     ]
    }
   ],
   "source": [
    "df_gen_asvs_paired = df_gen_asvs.merge(pairs, how='left', on='ASV sample')\n",
    "df_gen_mgns_paired = df_gen_mgns.merge(pairs, how='left', on='Metagenome sample')\n",
    "df_gen_asvs_paired.head(3)"
   ]
  },
  {
   "cell_type": "code",
   "execution_count": 238,
   "metadata": {},
   "outputs": [
    {
     "data": {
      "text/html": [
       "<div>\n",
       "<style scoped>\n",
       "    .dataframe tbody tr th:only-of-type {\n",
       "        vertical-align: middle;\n",
       "    }\n",
       "\n",
       "    .dataframe tbody tr th {\n",
       "        vertical-align: top;\n",
       "    }\n",
       "\n",
       "    .dataframe thead th {\n",
       "        text-align: right;\n",
       "    }\n",
       "</style>\n",
       "<table border=\"1\" class=\"dataframe\">\n",
       "  <thead>\n",
       "    <tr style=\"text-align: right;\">\n",
       "      <th></th>\n",
       "      <th>Genus</th>\n",
       "      <th>Order</th>\n",
       "      <th>bp_fraction</th>\n",
       "      <th>Metagenome sample</th>\n",
       "      <th>ASV sample</th>\n",
       "    </tr>\n",
       "  </thead>\n",
       "  <tbody>\n",
       "    <tr>\n",
       "      <th>0</th>\n",
       "      <td>Bathycoccus</td>\n",
       "      <td>Mamiellales</td>\n",
       "      <td>0.436027</td>\n",
       "      <td>D0079A</td>\n",
       "      <td>Lasker18Sc124_19_D0079</td>\n",
       "    </tr>\n",
       "    <tr>\n",
       "      <th>1</th>\n",
       "      <td>Micromonas</td>\n",
       "      <td>Mamiellales</td>\n",
       "      <td>0.183082</td>\n",
       "      <td>D0079A</td>\n",
       "      <td>Lasker18Sc124_19_D0079</td>\n",
       "    </tr>\n",
       "    <tr>\n",
       "      <th>2</th>\n",
       "      <td>Aureococcus</td>\n",
       "      <td>Pelagomonadales</td>\n",
       "      <td>0.099370</td>\n",
       "      <td>D0079A</td>\n",
       "      <td>Lasker18Sc124_19_D0079</td>\n",
       "    </tr>\n",
       "    <tr>\n",
       "      <th>3</th>\n",
       "      <td>Pelagomonas</td>\n",
       "      <td>Pelagomonadales</td>\n",
       "      <td>0.055601</td>\n",
       "      <td>D0079A</td>\n",
       "      <td>Lasker18Sc124_19_D0079</td>\n",
       "    </tr>\n",
       "    <tr>\n",
       "      <th>4</th>\n",
       "      <td>Bathycoccus</td>\n",
       "      <td>Mamiellales</td>\n",
       "      <td>0.043045</td>\n",
       "      <td>D0079A</td>\n",
       "      <td>Lasker18Sc124_19_D0079</td>\n",
       "    </tr>\n",
       "    <tr>\n",
       "      <th>...</th>\n",
       "      <td>...</td>\n",
       "      <td>...</td>\n",
       "      <td>...</td>\n",
       "      <td>...</td>\n",
       "      <td>...</td>\n",
       "    </tr>\n",
       "    <tr>\n",
       "      <th>3464</th>\n",
       "      <td>Isochrysis</td>\n",
       "      <td>Isochrysidales</td>\n",
       "      <td>0.019352</td>\n",
       "      <td>1903c127_7m-1</td>\n",
       "      <td>CN19_Nisk_MO_Night_7m_1</td>\n",
       "    </tr>\n",
       "    <tr>\n",
       "      <th>3465</th>\n",
       "      <td>Polarella</td>\n",
       "      <td>Suessiales</td>\n",
       "      <td>0.018868</td>\n",
       "      <td>1903c127_7m-1</td>\n",
       "      <td>CN19_Nisk_MO_Night_7m_1</td>\n",
       "    </tr>\n",
       "    <tr>\n",
       "      <th>3466</th>\n",
       "      <td>Thalassiosira</td>\n",
       "      <td>Thalassiosirales</td>\n",
       "      <td>0.016933</td>\n",
       "      <td>1903c127_7m-1</td>\n",
       "      <td>CN19_Nisk_MO_Night_7m_1</td>\n",
       "    </tr>\n",
       "    <tr>\n",
       "      <th>3467</th>\n",
       "      <td>Phaeocystis</td>\n",
       "      <td>Phaeocystales</td>\n",
       "      <td>0.014514</td>\n",
       "      <td>1903c127_7m-1</td>\n",
       "      <td>CN19_Nisk_MO_Night_7m_1</td>\n",
       "    </tr>\n",
       "    <tr>\n",
       "      <th>3468</th>\n",
       "      <td>Crypthecodinium</td>\n",
       "      <td>Gonyualacales</td>\n",
       "      <td>0.012337</td>\n",
       "      <td>1903c127_7m-1</td>\n",
       "      <td>CN19_Nisk_MO_Night_7m_1</td>\n",
       "    </tr>\n",
       "  </tbody>\n",
       "</table>\n",
       "<p>3469 rows × 5 columns</p>\n",
       "</div>"
      ],
      "text/plain": [
       "                Genus             Order  bp_fraction Metagenome sample  \\\n",
       "0         Bathycoccus       Mamiellales     0.436027            D0079A   \n",
       "1          Micromonas       Mamiellales     0.183082            D0079A   \n",
       "2         Aureococcus   Pelagomonadales     0.099370            D0079A   \n",
       "3         Pelagomonas   Pelagomonadales     0.055601            D0079A   \n",
       "4         Bathycoccus       Mamiellales     0.043045            D0079A   \n",
       "...               ...               ...          ...               ...   \n",
       "3464       Isochrysis    Isochrysidales     0.019352     1903c127_7m-1   \n",
       "3465        Polarella        Suessiales     0.018868     1903c127_7m-1   \n",
       "3466    Thalassiosira  Thalassiosirales     0.016933     1903c127_7m-1   \n",
       "3467      Phaeocystis     Phaeocystales     0.014514     1903c127_7m-1   \n",
       "3468  Crypthecodinium     Gonyualacales     0.012337     1903c127_7m-1   \n",
       "\n",
       "                   ASV sample  \n",
       "0      Lasker18Sc124_19_D0079  \n",
       "1      Lasker18Sc124_19_D0079  \n",
       "2      Lasker18Sc124_19_D0079  \n",
       "3      Lasker18Sc124_19_D0079  \n",
       "4      Lasker18Sc124_19_D0079  \n",
       "...                       ...  \n",
       "3464  CN19_Nisk_MO_Night_7m_1  \n",
       "3465  CN19_Nisk_MO_Night_7m_1  \n",
       "3466  CN19_Nisk_MO_Night_7m_1  \n",
       "3467  CN19_Nisk_MO_Night_7m_1  \n",
       "3468  CN19_Nisk_MO_Night_7m_1  \n",
       "\n",
       "[3469 rows x 5 columns]"
      ]
     },
     "execution_count": 238,
     "metadata": {},
     "output_type": "execute_result"
    }
   ],
   "source": [
    "df_gen_mgns_paired.head(3)"
   ]
  },
  {
   "cell_type": "markdown",
   "metadata": {},
   "source": [
    "#### Extract genera seen ONLY in matched sample pairs"
   ]
  },
  {
   "cell_type": "code",
   "execution_count": 272,
   "metadata": {},
   "outputs": [
    {
     "data": {
      "text/html": [
       "<div>\n",
       "<style scoped>\n",
       "    .dataframe tbody tr th:only-of-type {\n",
       "        vertical-align: middle;\n",
       "    }\n",
       "\n",
       "    .dataframe tbody tr th {\n",
       "        vertical-align: top;\n",
       "    }\n",
       "\n",
       "    .dataframe thead th {\n",
       "        text-align: right;\n",
       "    }\n",
       "</style>\n",
       "<table border=\"1\" class=\"dataframe\">\n",
       "  <thead>\n",
       "    <tr style=\"text-align: right;\">\n",
       "      <th></th>\n",
       "      <th>Genus</th>\n",
       "      <th>Order</th>\n",
       "      <th>bp_fraction</th>\n",
       "      <th>Metagenome sample</th>\n",
       "      <th>ASV sample</th>\n",
       "      <th>ASV Frequency</th>\n",
       "    </tr>\n",
       "  </thead>\n",
       "  <tbody>\n",
       "    <tr>\n",
       "      <th>0</th>\n",
       "      <td>Bathycoccus</td>\n",
       "      <td>Mamiellales</td>\n",
       "      <td>0.436027</td>\n",
       "      <td>D0079A</td>\n",
       "      <td>Lasker18Sc124_19_D0079</td>\n",
       "      <td>0.00249</td>\n",
       "    </tr>\n",
       "    <tr>\n",
       "      <th>1</th>\n",
       "      <td>Bathycoccus</td>\n",
       "      <td>Mamiellales</td>\n",
       "      <td>0.436027</td>\n",
       "      <td>D0079A</td>\n",
       "      <td>Lasker18Sc124_19_D0079</td>\n",
       "      <td>0.001271</td>\n",
       "    </tr>\n",
       "    <tr>\n",
       "      <th>2</th>\n",
       "      <td>Bathycoccus</td>\n",
       "      <td>Mamiellales</td>\n",
       "      <td>0.436027</td>\n",
       "      <td>D0079A</td>\n",
       "      <td>Lasker18Sc124_19_D0079</td>\n",
       "      <td>0.014332</td>\n",
       "    </tr>\n",
       "    <tr>\n",
       "      <th>3</th>\n",
       "      <td>Bathycoccus</td>\n",
       "      <td>Mamiellales</td>\n",
       "      <td>0.436027</td>\n",
       "      <td>D0079A</td>\n",
       "      <td>Lasker18Sc124_19_D0079</td>\n",
       "      <td>0.014485</td>\n",
       "    </tr>\n",
       "    <tr>\n",
       "      <th>4</th>\n",
       "      <td>Bathycoccus</td>\n",
       "      <td>Mamiellales</td>\n",
       "      <td>0.436027</td>\n",
       "      <td>D0079A</td>\n",
       "      <td>Lasker18Sc124_19_D0079</td>\n",
       "      <td>0.000152</td>\n",
       "    </tr>\n",
       "    <tr>\n",
       "      <th>...</th>\n",
       "      <td>...</td>\n",
       "      <td>...</td>\n",
       "      <td>...</td>\n",
       "      <td>...</td>\n",
       "      <td>...</td>\n",
       "      <td>...</td>\n",
       "    </tr>\n",
       "    <tr>\n",
       "      <th>9078</th>\n",
       "      <td>Phaeocystis</td>\n",
       "      <td>Phaeocystales</td>\n",
       "      <td>0.014514</td>\n",
       "      <td>1903c127_7m-1</td>\n",
       "      <td>CN19_Nisk_MO_Night_7m_1</td>\n",
       "      <td>0.000225</td>\n",
       "    </tr>\n",
       "    <tr>\n",
       "      <th>9079</th>\n",
       "      <td>Phaeocystis</td>\n",
       "      <td>Phaeocystales</td>\n",
       "      <td>0.014514</td>\n",
       "      <td>1903c127_7m-1</td>\n",
       "      <td>CN19_Nisk_MO_Night_7m_1</td>\n",
       "      <td>0.000061</td>\n",
       "    </tr>\n",
       "    <tr>\n",
       "      <th>9080</th>\n",
       "      <td>Phaeocystis</td>\n",
       "      <td>Phaeocystales</td>\n",
       "      <td>0.014514</td>\n",
       "      <td>1903c127_7m-1</td>\n",
       "      <td>CN19_Nisk_MO_Night_7m_1</td>\n",
       "      <td>0.000031</td>\n",
       "    </tr>\n",
       "    <tr>\n",
       "      <th>9081</th>\n",
       "      <td>Phaeocystis</td>\n",
       "      <td>Phaeocystales</td>\n",
       "      <td>0.014514</td>\n",
       "      <td>1903c127_7m-1</td>\n",
       "      <td>CN19_Nisk_MO_Night_7m_1</td>\n",
       "      <td>0.000051</td>\n",
       "    </tr>\n",
       "    <tr>\n",
       "      <th>9082</th>\n",
       "      <td>Phaeocystis</td>\n",
       "      <td>Phaeocystales</td>\n",
       "      <td>0.014514</td>\n",
       "      <td>1903c127_7m-1</td>\n",
       "      <td>CN19_Nisk_MO_Night_7m_1</td>\n",
       "      <td>0.00001</td>\n",
       "    </tr>\n",
       "  </tbody>\n",
       "</table>\n",
       "<p>9083 rows × 6 columns</p>\n",
       "</div>"
      ],
      "text/plain": [
       "            Genus          Order  bp_fraction Metagenome sample  \\\n",
       "0     Bathycoccus    Mamiellales     0.436027            D0079A   \n",
       "1     Bathycoccus    Mamiellales     0.436027            D0079A   \n",
       "2     Bathycoccus    Mamiellales     0.436027            D0079A   \n",
       "3     Bathycoccus    Mamiellales     0.436027            D0079A   \n",
       "4     Bathycoccus    Mamiellales     0.436027            D0079A   \n",
       "...           ...            ...          ...               ...   \n",
       "9078  Phaeocystis  Phaeocystales     0.014514     1903c127_7m-1   \n",
       "9079  Phaeocystis  Phaeocystales     0.014514     1903c127_7m-1   \n",
       "9080  Phaeocystis  Phaeocystales     0.014514     1903c127_7m-1   \n",
       "9081  Phaeocystis  Phaeocystales     0.014514     1903c127_7m-1   \n",
       "9082  Phaeocystis  Phaeocystales     0.014514     1903c127_7m-1   \n",
       "\n",
       "                   ASV sample ASV Frequency  \n",
       "0      Lasker18Sc124_19_D0079       0.00249  \n",
       "1      Lasker18Sc124_19_D0079      0.001271  \n",
       "2      Lasker18Sc124_19_D0079      0.014332  \n",
       "3      Lasker18Sc124_19_D0079      0.014485  \n",
       "4      Lasker18Sc124_19_D0079      0.000152  \n",
       "...                       ...           ...  \n",
       "9078  CN19_Nisk_MO_Night_7m_1      0.000225  \n",
       "9079  CN19_Nisk_MO_Night_7m_1      0.000061  \n",
       "9080  CN19_Nisk_MO_Night_7m_1      0.000031  \n",
       "9081  CN19_Nisk_MO_Night_7m_1      0.000051  \n",
       "9082  CN19_Nisk_MO_Night_7m_1       0.00001  \n",
       "\n",
       "[9083 rows x 6 columns]"
      ]
     },
     "execution_count": 272,
     "metadata": {},
     "output_type": "execute_result"
    }
   ],
   "source": [
    "df_gen_pairmatches = df_gen_mgns_paired.merge(df_gen_asvs_paired, how='inner', \n",
    "                                            on=['Order', 'Genus', 'ASV sample', \n",
    "                                                'Metagenome sample'])\n",
    "#df_gen_pairmatches['Size'] = 7\n",
    "df_gen_pairmatches"
   ]
  },
  {
   "cell_type": "code",
   "execution_count": 273,
   "metadata": {},
   "outputs": [],
   "source": [
    "# need to do this for the reg plot, not for the scatter plot\n",
    "df_gen_pairmatches['ASV Frequency'] = pd.to_numeric(df_gen_pairmatches['ASV Frequency'])"
   ]
  },
  {
   "cell_type": "code",
   "execution_count": 274,
   "metadata": {},
   "outputs": [
    {
     "data": {
      "text/plain": [
       "dtype('float64')"
      ]
     },
     "execution_count": 274,
     "metadata": {},
     "output_type": "execute_result"
    }
   ],
   "source": [
    "df_gen_pairmatches['ASV Frequency'].dtype"
   ]
  },
  {
   "cell_type": "markdown",
   "metadata": {},
   "source": [
    "## 04. Plot frequencies of taxa seen in both data sets against each other"
   ]
  },
  {
   "cell_type": "code",
   "execution_count": 281,
   "metadata": {},
   "outputs": [
    {
     "data": {
      "image/png": "[encoded data removed]",
      "text/plain": [
       "<Figure size 839.775x432 with 1 Axes>"
      ]
     },
     "metadata": {},
     "output_type": "display_data"
    }
   ],
   "source": [
    "#plt.figure(figsize=(12,8))\n",
    "sns.set(font_scale = 1.5)\n",
    "sns.set_style('white')\n",
    "sns.set_palette(sns.color_palette('colorblind'))\n",
    "\n",
    "# scatter plot with ASV frequency on x axis and metagenome frequency on y axis\n",
    "#scatter = sns.scatterplot(data=df_gen_pairmatches, x='ASV Frequency',  \n",
    " #                         y='bp_fraction', color='darkblue', hue='Family', alpha=1) # size='Size'\n",
    "\n",
    "# scatter plot with regression line\n",
    "sns.lmplot(data=df_gen_pairmatches, x='ASV Frequency', y='bp_fraction',\n",
    "           height=6, aspect=1.5, hue='Order')\n",
    "#plt.show()\n",
    "\n",
    "plt.ylabel('Fraction of metagenome', size=18)\n",
    "plt.xlabel('Fraction of ASVs', size=18)\n",
    "\n",
    "plt.ylim(0, 1)\n",
    "plt.xlim(0, 0.4)\n",
    "plt.savefig('eCruises2018_2019_genera_fraction_COI_vs_mgns_regression_orders.svg', format='svg', \n",
    "            dpi=1200, bbox_inches='tight')"
   ]
  },
  {
   "cell_type": "code",
   "execution_count": null,
   "metadata": {},
   "outputs": [],
   "source": []
  }
 ],
 "metadata": {
  "kernelspec": {
   "display_name": "Python 3 (ipykernel)",
   "language": "python",
   "name": "python3"
  },
  "language_info": {
   "codemirror_mode": {
    "name": "ipython",
    "version": 3
   },
   "file_extension": ".py",
   "mimetype": "text/x-python",
   "name": "python",
   "nbconvert_exporter": "python",
   "pygments_lexer": "ipython3",
   "version": "3.8.3"
  }
 },
 "nbformat": 4,
 "nbformat_minor": 4
}
