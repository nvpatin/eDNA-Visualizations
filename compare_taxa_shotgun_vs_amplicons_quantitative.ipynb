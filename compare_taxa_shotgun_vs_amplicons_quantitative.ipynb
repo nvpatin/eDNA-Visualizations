{
 "cells": [
  {
   "cell_type": "markdown",
   "metadata": {},
   "source": [
    "# This notebook compares eukaryotic taxa seen in shotgun metagenomes with those in metabarcoding sequence data. It is designed to use the output of sourmash for shotgun metagenomes and DADA2, BLAST, and MEGAN LCA for metabarcoding data. In this example, sourmash databases were GTDB and MMETSP and BLAST database were NCBI-nr."
   ]
  },
  {
   "cell_type": "markdown",
   "metadata": {},
   "source": [
    "### This is currently written to assess taxa at the class level, but can be modified for other levels of taxonomic resolution."
   ]
  },
  {
   "cell_type": "code",
   "execution_count": 1,
   "metadata": {},
   "outputs": [],
   "source": [
    "import pandas as pd\n",
    "import os as os\n",
    "import glob as glob\n",
    "import numpy as np\n",
    "import functools as ft\n",
    "import matplotlib.pyplot as plt\n",
    "import matplotlib.patches as mpatches\n",
    "import seaborn as sns"
   ]
  },
  {
   "cell_type": "markdown",
   "metadata": {},
   "source": [
    "## 01. Shotgun  metagenome sourmash results: Compile lists of observed taxa and calculate prokaryotic vs eukaryotic fractions"
   ]
  },
  {
   "cell_type": "markdown",
   "metadata": {},
   "source": [
    "### Function to generate domain- and genus-level data"
   ]
  },
  {
   "cell_type": "code",
   "execution_count": 2,
   "metadata": {},
   "outputs": [],
   "source": [
    "def compile_taxa_lists(file, sample):\n",
    "    tax = pd.read_csv(file)\n",
    "    names = ['query name','rank','fraction','lineage','query_md5','query_filename',\n",
    "         'f_weighted_at_rank','bp_match_at_rank']\n",
    "    tax.columns = names\n",
    "    # Get total number of bps in metagenome\n",
    "    superk = tax[(tax['rank'] == 'superkingdom')]\n",
    "    total_bps = superk['bp_match_at_rank'].sum()\n",
    "    # Get eukaryotic bps in metagenome\n",
    "    if tax['lineage'].isin(['Eukaryota']).any():\n",
    "        euk_bps = tax[(tax['rank'] == 'superkingdom') & (tax['lineage'] == 'Eukaryota')]['bp_match_at_rank'].item()\n",
    "    else:\n",
    "        euk_bps = 0\n",
    "    # Make dataframe with sample name and bps\n",
    "    sample_bps = pd.DataFrame({'Sample' : pd.Series(a, dtype='str'), \n",
    "                           'total_bps': pd.Series(total_bps, dtype='int'),\n",
    "                           'euk_bps': pd.Series(euk_bps, dtype='int')}) \n",
    "    tax = tax[tax['rank'] == 'class'] # this can be changed to any taxonomic level\n",
    "    lineage = tax[['lineage', 'bp_match_at_rank']].copy()\n",
    "    # n should be changed to however many ranks are in the desired taxonomic level\n",
    "    lineage[['Domain','Phylum','Class']] = lineage['lineage'].str.split(';', \n",
    "                                                                        n=3, expand=True)\n",
    "    # Filter for eukaryotic classifications only\n",
    "    euks = lineage.loc[lineage['Domain'] == 'Eukaryota']\n",
    "    # Change this to whatever taxonomic rank; currently set at 'Class'\n",
    "    tax_level = euks[['Class','bp_match_at_rank']].set_index('Class')\n",
    "    # Divide by euk bps to get taxon fraction of eukaryotic fraction\n",
    "    # Divide by total bps to get taxon fraction of total metagenome\n",
    "    tax_level['bp_fraction'] = tax_level['bp_match_at_rank'].div(euk_bps)\n",
    "    tax_level = tax_level.drop(columns=['bp_match_at_rank'])\n",
    "    tax_level['Metagenome sample'] = sample\n",
    "    return(tax_level, sample_bps)"
   ]
  },
  {
   "cell_type": "markdown",
   "metadata": {},
   "source": [
    "### Apply functions to all samples in all directories"
   ]
  },
  {
   "cell_type": "code",
   "execution_count": 3,
   "metadata": {},
   "outputs": [],
   "source": [
    "os.chdir(\"/Users/nastassiapatin/GitHub/eDNA-Visualizations/Euks_mgns_asvs_data/sourmash_summaries\")"
   ]
  },
  {
   "cell_type": "code",
   "execution_count": 4,
   "metadata": {},
   "outputs": [],
   "source": [
    "# empty list for taxon-level observations\n",
    "df_tax_mgns = []\n",
    "# empty list for all eukaryotic reads and base pairs\n",
    "df_sample_bps = []\n",
    "\n",
    "for dir in glob.glob('**/'):\n",
    "    os.chdir(dir)\n",
    "    for file in glob.glob('*summarized.csv'):\n",
    "        a, b = file.split('_int')\n",
    "        tax, bps = compile_taxa_lists(file, a)\n",
    "        df_tax_mgns.append(tax)\n",
    "        df_sample_bps.append(bps)\n",
    "    os.chdir(\"..\")\n",
    "\n",
    "df_tax_mgns = pd.concat(df_tax_mgns).reset_index()\n",
    "df_mgns_bps = pd.concat(df_sample_bps)\n",
    "df_mgns_bps['euk_bp_fraction'] = df_mgns_bps['euk_bps'] / df_mgns_bps['total_bps']"
   ]
  },
  {
   "cell_type": "markdown",
   "metadata": {},
   "source": [
    "#### Calculate average fraction of eukaryotic base pairs across all samples"
   ]
  },
  {
   "cell_type": "code",
   "execution_count": 5,
   "metadata": {},
   "outputs": [
    {
     "data": {
      "text/plain": [
       "0.108481232781144"
      ]
     },
     "execution_count": 5,
     "metadata": {},
     "output_type": "execute_result"
    }
   ],
   "source": [
    "avg_bps = np.average(df_mgns_bps['euk_bp_fraction'])\n",
    "avg_bps"
   ]
  },
  {
   "cell_type": "markdown",
   "metadata": {},
   "source": [
    "#### Calculate average fraction of total reads per sample from fraction of base pairs"
   ]
  },
  {
   "cell_type": "code",
   "execution_count": 6,
   "metadata": {},
   "outputs": [
    {
     "data": {
      "text/plain": [
       "42116990.333333336"
      ]
     },
     "execution_count": 6,
     "metadata": {},
     "output_type": "execute_result"
    }
   ],
   "source": [
    "os.chdir(\"/Users/nastassiapatin/GitHub/eDNA-Visualizations/Euks_mgns_asvs_data/\")\n",
    "\n",
    "mgn_stats = pd.read_csv('mgn_seq_stats.csv')\n",
    "avg_seqs = np.average(mgn_stats['Avg num seqs'])\n",
    "avg_seqs"
   ]
  },
  {
   "cell_type": "markdown",
   "metadata": {},
   "source": [
    "#### Create a data frame with the average number of reads, average fraction of eukaryotic base pairs, and average fraction of eukaryotic reads for metagenomes"
   ]
  },
  {
   "cell_type": "code",
   "execution_count": 146,
   "metadata": {},
   "outputs": [
    {
     "data": {
      "text/html": [
       "<div>\n",
       "<style scoped>\n",
       "    .dataframe tbody tr th:only-of-type {\n",
       "        vertical-align: middle;\n",
       "    }\n",
       "\n",
       "    .dataframe tbody tr th {\n",
       "        vertical-align: top;\n",
       "    }\n",
       "\n",
       "    .dataframe thead th {\n",
       "        text-align: right;\n",
       "    }\n",
       "</style>\n",
       "<table border=\"1\" class=\"dataframe\">\n",
       "  <thead>\n",
       "    <tr style=\"text-align: right;\">\n",
       "      <th></th>\n",
       "      <th>Sequence type</th>\n",
       "      <th>Avg num bps, reads, or ORFs</th>\n",
       "      <th>Avg % euk bps, reads, or ORFs</th>\n",
       "      <th>Avg num euk bps, reads, or ORFs</th>\n",
       "    </tr>\n",
       "  </thead>\n",
       "  <tbody>\n",
       "    <tr>\n",
       "      <th>0</th>\n",
       "      <td>Metagenome reads</td>\n",
       "      <td>4.211699e+07</td>\n",
       "      <td>0.108481</td>\n",
       "      <td>4.568903e+06</td>\n",
       "    </tr>\n",
       "  </tbody>\n",
       "</table>\n",
       "</div>"
      ],
      "text/plain": [
       "      Sequence type  Avg num bps, reads, or ORFs  \\\n",
       "0  Metagenome reads                 4.211699e+07   \n",
       "\n",
       "   Avg % euk bps, reads, or ORFs  Avg num euk bps, reads, or ORFs  \n",
       "0                       0.108481                     4.568903e+06  "
      ]
     },
     "execution_count": 146,
     "metadata": {},
     "output_type": "execute_result"
    }
   ],
   "source": [
    "euk_frac_mgns = pd.DataFrame({'Sequence type': 'Metagenome reads', 'Avg num bps, reads, or ORFs': [avg_seqs],\n",
    "                           'Avg % euk bps, reads, or ORFs' : [avg_bps]})\n",
    "euk_frac_mgns['Avg num euk bps, reads, or ORFs'] = euk_frac_mgns['Avg % euk bps, reads, or ORFs'] * euk_frac_mgns['Avg num bps, reads, or ORFs']\n",
    "euk_frac_mgns"
   ]
  },
  {
   "cell_type": "code",
   "execution_count": 147,
   "metadata": {},
   "outputs": [],
   "source": [
    "euk_frac_mgns.to_csv(\"Metagenome_eukaryotic_reads_bps.csv\", index=None)"
   ]
  },
  {
   "cell_type": "markdown",
   "metadata": {},
   "source": [
    "## 02. Shotgun  metagenome DIAMOND results: Compile lists of observed taxa and calculate prokaryotic vs eukaryotic fractions"
   ]
  },
  {
   "cell_type": "code",
   "execution_count": 77,
   "metadata": {},
   "outputs": [],
   "source": [
    "os.chdir(\"/Users/nastassiapatin/GitHub/eDNA-Visualizations/Euks_mgns_asvs_data/DIAMOND\")"
   ]
  },
  {
   "cell_type": "code",
   "execution_count": 73,
   "metadata": {},
   "outputs": [],
   "source": [
    "def count_DIAMOND_taxa(filepath):\n",
    "    df = pd.read_csv(filepath, sep='\\t')\n",
    "    df = df.rename(columns={'Unnamed: 3': 'lineage', 'Unnamed: 4': 'lineage_taxids'})\n",
    "    df = df[['sample', 'count', 'lineage']]\n",
    "    df[['Superkingdom','Domain','Kingdom', 'Phylum','Class','Order','Famly','Genus','Species']] = df['lineage'].str.split(';', \n",
    "                                                                        n=8, expand=True)\n",
    "    df_euks = df[df['Domain'] == 'Eukaryota'].drop(columns='lineage')\n",
    "    df_prok = df[(df['Domain'] == 'Bacteria') | (df['Domain'] =='Archaea')].drop(columns='lineage')\n",
    "    # Change this to whatever taxonomic rank; currently set at 'Class'\n",
    "    tax_level = df_euks[['sample', 'Class', 'count']].groupby(['sample', 'Class']).sum().reset_index()\n",
    "    # Calculate total number of ORFs and relative abundance of each represented class\n",
    "    total_ORF_df = tax_level.copy()\n",
    "    total_ORF_df.loc['total']= tax_level.sum()\n",
    "    total_ORFs = total_ORF_df.iloc[-1][-1]\n",
    "    tax_level['count'] = tax_level['count'] / total_ORFs\n",
    "    return(tax_level, df_euks, df_prok)"
   ]
  },
  {
   "cell_type": "markdown",
   "metadata": {},
   "source": [
    "### Group taxa by desired taxon level (e.g. class) and calculate proportion of each taxon"
   ]
  },
  {
   "cell_type": "code",
   "execution_count": 104,
   "metadata": {},
   "outputs": [],
   "source": [
    "diamond_tax = []\n",
    "diamond_euks = []\n",
    "diamond_prok = []\n",
    "\n",
    "for dir in glob.glob('**/'):\n",
    "    os.chdir(dir)\n",
    "    for file in glob.glob('*fullncbitax.tsv'):\n",
    "        taxa, euks, prok = count_DIAMOND_taxa(file)\n",
    "        diamond_tax.append(taxa)\n",
    "        diamond_euks.append(euks)\n",
    "        diamond_prok.append(prok)\n",
    "    os.chdir(\"..\")\n",
    "\n",
    "diamond_tax = pd.concat(diamond_tax)\n",
    "diamond_euks = pd.concat(diamond_euks)\n",
    "diamond_prok = pd.concat(diamond_prok)"
   ]
  },
  {
   "cell_type": "code",
   "execution_count": 106,
   "metadata": {},
   "outputs": [
    {
     "data": {
      "text/html": [
       "<div>\n",
       "<style scoped>\n",
       "    .dataframe tbody tr th:only-of-type {\n",
       "        vertical-align: middle;\n",
       "    }\n",
       "\n",
       "    .dataframe tbody tr th {\n",
       "        vertical-align: top;\n",
       "    }\n",
       "\n",
       "    .dataframe thead th {\n",
       "        text-align: right;\n",
       "    }\n",
       "</style>\n",
       "<table border=\"1\" class=\"dataframe\">\n",
       "  <thead>\n",
       "    <tr style=\"text-align: right;\">\n",
       "      <th></th>\n",
       "      <th>sample</th>\n",
       "      <th>Class</th>\n",
       "      <th>count</th>\n",
       "    </tr>\n",
       "  </thead>\n",
       "  <tbody>\n",
       "    <tr>\n",
       "      <th>0</th>\n",
       "      <td>zr2760_36_contigs_orfs</td>\n",
       "      <td>Acanthoecida</td>\n",
       "      <td>0.000010</td>\n",
       "    </tr>\n",
       "    <tr>\n",
       "      <th>1</th>\n",
       "      <td>zr2760_36_contigs_orfs</td>\n",
       "      <td>Ahnfeltiophycidae</td>\n",
       "      <td>0.000049</td>\n",
       "    </tr>\n",
       "    <tr>\n",
       "      <th>2</th>\n",
       "      <td>zr2760_36_contigs_orfs</td>\n",
       "      <td>Anaeramoeba oblonga</td>\n",
       "      <td>0.000005</td>\n",
       "    </tr>\n",
       "  </tbody>\n",
       "</table>\n",
       "</div>"
      ],
      "text/plain": [
       "                   sample                Class     count\n",
       "0  zr2760_36_contigs_orfs         Acanthoecida  0.000010\n",
       "1  zr2760_36_contigs_orfs    Ahnfeltiophycidae  0.000049\n",
       "2  zr2760_36_contigs_orfs  Anaeramoeba oblonga  0.000005"
      ]
     },
     "execution_count": 106,
     "metadata": {},
     "output_type": "execute_result"
    }
   ],
   "source": [
    "diamond_tax.head(3)"
   ]
  },
  {
   "cell_type": "code",
   "execution_count": 83,
   "metadata": {},
   "outputs": [
    {
     "data": {
      "text/html": [
       "<div>\n",
       "<style scoped>\n",
       "    .dataframe tbody tr th:only-of-type {\n",
       "        vertical-align: middle;\n",
       "    }\n",
       "\n",
       "    .dataframe tbody tr th {\n",
       "        vertical-align: top;\n",
       "    }\n",
       "\n",
       "    .dataframe thead th {\n",
       "        text-align: right;\n",
       "    }\n",
       "</style>\n",
       "<table border=\"1\" class=\"dataframe\">\n",
       "  <thead>\n",
       "    <tr style=\"text-align: right;\">\n",
       "      <th></th>\n",
       "      <th>sample</th>\n",
       "      <th>count</th>\n",
       "      <th>Superkingdom</th>\n",
       "      <th>Domain</th>\n",
       "      <th>Kingdom</th>\n",
       "      <th>Phylum</th>\n",
       "      <th>Class</th>\n",
       "      <th>Order</th>\n",
       "      <th>Famly</th>\n",
       "      <th>Genus</th>\n",
       "      <th>Species</th>\n",
       "    </tr>\n",
       "  </thead>\n",
       "  <tbody>\n",
       "    <tr>\n",
       "      <th>2</th>\n",
       "      <td>zr2760_36_contigs_orfs</td>\n",
       "      <td>12</td>\n",
       "      <td>cellular organisms</td>\n",
       "      <td>Eukaryota</td>\n",
       "      <td>Opisthokonta</td>\n",
       "      <td>Fungi</td>\n",
       "      <td>Dikarya</td>\n",
       "      <td>Ascomycota</td>\n",
       "      <td>saccharomyceta</td>\n",
       "      <td>Pezizomycotina</td>\n",
       "      <td>leotiomyceta;dothideomyceta;Dothideomycetes;Pl...</td>\n",
       "    </tr>\n",
       "    <tr>\n",
       "      <th>4</th>\n",
       "      <td>zr2760_36_contigs_orfs</td>\n",
       "      <td>37</td>\n",
       "      <td>cellular organisms</td>\n",
       "      <td>Eukaryota</td>\n",
       "      <td>Viridiplantae</td>\n",
       "      <td>Streptophyta</td>\n",
       "      <td>Streptophytina</td>\n",
       "      <td>Embryophyta</td>\n",
       "      <td>Tracheophyta</td>\n",
       "      <td>Euphyllophyta</td>\n",
       "      <td>Spermatophyta;Magnoliopsida;Mesangiospermae;eu...</td>\n",
       "    </tr>\n",
       "    <tr>\n",
       "      <th>14</th>\n",
       "      <td>zr2760_36_contigs_orfs</td>\n",
       "      <td>1</td>\n",
       "      <td>cellular organisms</td>\n",
       "      <td>Eukaryota</td>\n",
       "      <td>Opisthokonta</td>\n",
       "      <td>Fungi</td>\n",
       "      <td>Dikarya</td>\n",
       "      <td>Basidiomycota</td>\n",
       "      <td>Pucciniomycotina</td>\n",
       "      <td>Microbotryomycetes</td>\n",
       "      <td>Sporidiobolales;Sporidiobolaceae;Rhodotorula;R...</td>\n",
       "    </tr>\n",
       "  </tbody>\n",
       "</table>\n",
       "</div>"
      ],
      "text/plain": [
       "                    sample  count        Superkingdom     Domain  \\\n",
       "2   zr2760_36_contigs_orfs     12  cellular organisms  Eukaryota   \n",
       "4   zr2760_36_contigs_orfs     37  cellular organisms  Eukaryota   \n",
       "14  zr2760_36_contigs_orfs      1  cellular organisms  Eukaryota   \n",
       "\n",
       "          Kingdom        Phylum           Class          Order  \\\n",
       "2    Opisthokonta         Fungi         Dikarya     Ascomycota   \n",
       "4   Viridiplantae  Streptophyta  Streptophytina    Embryophyta   \n",
       "14   Opisthokonta         Fungi         Dikarya  Basidiomycota   \n",
       "\n",
       "               Famly               Genus  \\\n",
       "2     saccharomyceta      Pezizomycotina   \n",
       "4       Tracheophyta       Euphyllophyta   \n",
       "14  Pucciniomycotina  Microbotryomycetes   \n",
       "\n",
       "                                              Species  \n",
       "2   leotiomyceta;dothideomyceta;Dothideomycetes;Pl...  \n",
       "4   Spermatophyta;Magnoliopsida;Mesangiospermae;eu...  \n",
       "14  Sporidiobolales;Sporidiobolaceae;Rhodotorula;R...  "
      ]
     },
     "execution_count": 83,
     "metadata": {},
     "output_type": "execute_result"
    }
   ],
   "source": [
    "diamond_euks.head(3)"
   ]
  },
  {
   "cell_type": "code",
   "execution_count": 14,
   "metadata": {},
   "outputs": [],
   "source": [
    "diamond_tax.to_csv(\"DIAMOND_Class_frequencies.csv\", index=None)"
   ]
  },
  {
   "cell_type": "markdown",
   "metadata": {},
   "source": [
    "### Calculate % ORFs classified as prokaryote vs eukaryote"
   ]
  },
  {
   "cell_type": "code",
   "execution_count": 122,
   "metadata": {},
   "outputs": [
    {
     "data": {
      "text/html": [
       "<div>\n",
       "<style scoped>\n",
       "    .dataframe tbody tr th:only-of-type {\n",
       "        vertical-align: middle;\n",
       "    }\n",
       "\n",
       "    .dataframe tbody tr th {\n",
       "        vertical-align: top;\n",
       "    }\n",
       "\n",
       "    .dataframe thead th {\n",
       "        text-align: right;\n",
       "    }\n",
       "</style>\n",
       "<table border=\"1\" class=\"dataframe\">\n",
       "  <thead>\n",
       "    <tr style=\"text-align: right;\">\n",
       "      <th></th>\n",
       "      <th>euk_ORF_count</th>\n",
       "      <th>prok_ORF_count</th>\n",
       "      <th>total_ORF_count</th>\n",
       "      <th>euk_ORF_percent</th>\n",
       "      <th>prok_ORF_percent</th>\n",
       "    </tr>\n",
       "    <tr>\n",
       "      <th>sample</th>\n",
       "      <th></th>\n",
       "      <th></th>\n",
       "      <th></th>\n",
       "      <th></th>\n",
       "      <th></th>\n",
       "    </tr>\n",
       "  </thead>\n",
       "  <tbody>\n",
       "    <tr>\n",
       "      <th>1903_buk5-1_orfs</th>\n",
       "      <td>1241227</td>\n",
       "      <td>2118931</td>\n",
       "      <td>3360158</td>\n",
       "      <td>0.369395</td>\n",
       "      <td>0.630605</td>\n",
       "    </tr>\n",
       "    <tr>\n",
       "      <th>1903_buk5-2_orfs</th>\n",
       "      <td>1044430</td>\n",
       "      <td>2171667</td>\n",
       "      <td>3216097</td>\n",
       "      <td>0.324751</td>\n",
       "      <td>0.675249</td>\n",
       "    </tr>\n",
       "    <tr>\n",
       "      <th>1903_buk6-1_orfs</th>\n",
       "      <td>409234</td>\n",
       "      <td>2700201</td>\n",
       "      <td>3109435</td>\n",
       "      <td>0.131610</td>\n",
       "      <td>0.868390</td>\n",
       "    </tr>\n",
       "    <tr>\n",
       "      <th>1903_buk6-2_orfs</th>\n",
       "      <td>243996</td>\n",
       "      <td>1837782</td>\n",
       "      <td>2081778</td>\n",
       "      <td>0.117206</td>\n",
       "      <td>0.882794</td>\n",
       "    </tr>\n",
       "    <tr>\n",
       "      <th>1903buk1_0m-1_orfs</th>\n",
       "      <td>3862</td>\n",
       "      <td>16417</td>\n",
       "      <td>20279</td>\n",
       "      <td>0.190443</td>\n",
       "      <td>0.809557</td>\n",
       "    </tr>\n",
       "  </tbody>\n",
       "</table>\n",
       "</div>"
      ],
      "text/plain": [
       "                    euk_ORF_count  prok_ORF_count  total_ORF_count  \\\n",
       "sample                                                               \n",
       "1903_buk5-1_orfs          1241227         2118931          3360158   \n",
       "1903_buk5-2_orfs          1044430         2171667          3216097   \n",
       "1903_buk6-1_orfs           409234         2700201          3109435   \n",
       "1903_buk6-2_orfs           243996         1837782          2081778   \n",
       "1903buk1_0m-1_orfs           3862           16417            20279   \n",
       "\n",
       "                    euk_ORF_percent  prok_ORF_percent  \n",
       "sample                                                 \n",
       "1903_buk5-1_orfs           0.369395          0.630605  \n",
       "1903_buk5-2_orfs           0.324751          0.675249  \n",
       "1903_buk6-1_orfs           0.131610          0.868390  \n",
       "1903_buk6-2_orfs           0.117206          0.882794  \n",
       "1903buk1_0m-1_orfs         0.190443          0.809557  "
      ]
     },
     "execution_count": 122,
     "metadata": {},
     "output_type": "execute_result"
    }
   ],
   "source": [
    "orf_euk_frac = diamond_euks[['sample', 'count']].rename(columns={'count': 'euk_ORF_count'})\n",
    "orf_euk_frac = orf_euk_frac.groupby('sample').sum()\n",
    "orf_prok_frac = diamond_prok[['sample', 'count']].rename(columns={'count': 'prok_ORF_count'})\n",
    "orf_prok_frac = orf_prok_frac.groupby('sample').sum()\n",
    "orf_frac_df = orf_euk_frac.merge(orf_prok_frac, left_index=True, right_index=True)\n",
    "orf_frac_df['total_ORF_count'] = orf_frac_df['euk_ORF_count'] + orf_frac_df['prok_ORF_count']\n",
    "orf_frac_df['euk_ORF_percent'] = orf_frac_df['euk_ORF_count'] / orf_frac_df['total_ORF_count']\n",
    "orf_frac_df['prok_ORF_percent'] = orf_frac_df['prok_ORF_count'] / orf_frac_df['total_ORF_count']\n",
    "orf_frac_df.head(5)"
   ]
  },
  {
   "cell_type": "markdown",
   "metadata": {},
   "source": [
    "## 03. Metabarcoding data: Compile lists of observed taxa"
   ]
  },
  {
   "cell_type": "markdown",
   "metadata": {
    "tags": []
   },
   "source": [
    "### Function to calculate total number of reads and bps per sample, filter out bacterial and unclassified ASVs, and convert read counts to relative abundance values ('frequencies')"
   ]
  },
  {
   "cell_type": "code",
   "execution_count": 12,
   "metadata": {},
   "outputs": [],
   "source": [
    "def counts_to_freq(file, marker_gene, read_len):\n",
    "    asvs = pd.read_csv(file, header=0)\n",
    "    # Move the taxonomy columns to the first positions in the df\n",
    "    cols_to_move = ['Domain', 'Kingdom', 'Phylum', 'Class', 'Order', 'Family', 'Genus', 'Species']\n",
    "    asvs = asvs[ cols_to_move + [ col for col in asvs.columns if col not in cols_to_move ] ]\n",
    "    # Remove bacterial and unassigned ASVs (Domain level)\n",
    "    asvs = asvs[asvs['Domain'].notna() &\n",
    "            (asvs['Domain'] != 'NaN') & \n",
    "            (asvs['Domain'] != 'unassigned') &\n",
    "            (asvs['Domain'] != 'Bacteria')]\n",
    "    # Convert non-sample columns to strings so sum function works\n",
    "    asvs = asvs.astype({col: str for col in asvs.columns[0:9]})\n",
    "    # Get total number of reads and bps per sample\n",
    "    asvs.loc['total']= asvs.sum()\n",
    "    sample_reads = asvs.iloc[-1:,9:].reset_index()\n",
    "    sample_reads = pd.melt(sample_reads, id_vars='index')\n",
    "    sample_reads = sample_reads.iloc[:,-2:].rename(columns=\n",
    "                                       {'variable':'%s sample' % marker_gene, \n",
    "                                        'value':'total %s reads' % marker_gene})\n",
    "    sample_reads['total %s bps' % marker_gene] = sample_reads['total %s reads' % marker_gene] * read_len # 127 bps for 18S, 321 bps for COI\n",
    "    # Remove ASVs with no read counts in any samples\n",
    "    asvs['sum'] = asvs.iloc[:,9:].sum(axis=1)\n",
    "    asvs_filt = asvs[asvs['sum'] != 0]\n",
    "    # Calculate frequencies\n",
    "    asvs_freq = asvs_filt.copy()\n",
    "    asvs_freq.iloc[:,9:] = asvs_freq.iloc[:,9:] / asvs_freq.iloc[-1,9:]\n",
    "    # Remove the column and row with ASV read count sums\n",
    "    asvs_filt = asvs_filt.iloc[:-1,:-1]\n",
    "    asvs_freq = asvs_freq.iloc[:-1,:-1]\n",
    "    return(asvs_filt, asvs_freq, sample_reads)"
   ]
  },
  {
   "cell_type": "markdown",
   "metadata": {},
   "source": [
    "### Test on one file"
   ]
  },
  {
   "cell_type": "code",
   "execution_count": 46,
   "metadata": {},
   "outputs": [],
   "source": [
    "os.chdir(\"/Users/nastassiapatin/GitHub/eDNA-Visualizations/Euks_mgns_asvs_data/COI comparison/ASV tables\")"
   ]
  },
  {
   "cell_type": "code",
   "execution_count": 47,
   "metadata": {},
   "outputs": [],
   "source": [
    "file = 'RREAS2019_COI_asv_filtered_noCs_mgnmatches_tax.csv'\n",
    "gene = 'COI'\n",
    "len = 321"
   ]
  },
  {
   "cell_type": "code",
   "execution_count": 48,
   "metadata": {},
   "outputs": [
    {
     "name": "stderr",
     "output_type": "stream",
     "text": [
      "/var/folders/6n/rgpvqypd433dd8y5lhhddmxw0000gn/T/ipykernel_22394/2198584508.py:22: PerformanceWarning: DataFrame is highly fragmented.  This is usually the result of calling `frame.insert` many times, which has poor performance.  Consider joining all columns at once using pd.concat(axis=1) instead. To get a de-fragmented frame, use `newframe = frame.copy()`\n",
      "  asvs['sum'] = asvs.iloc[:,9:].sum(axis=1)\n"
     ]
    }
   ],
   "source": [
    "taxa_filt, taxa_freq, reads = counts_to_freq(file, gene, len)"
   ]
  },
  {
   "cell_type": "code",
   "execution_count": 49,
   "metadata": {},
   "outputs": [
    {
     "data": {
      "text/html": [
       "<div>\n",
       "<style scoped>\n",
       "    .dataframe tbody tr th:only-of-type {\n",
       "        vertical-align: middle;\n",
       "    }\n",
       "\n",
       "    .dataframe tbody tr th {\n",
       "        vertical-align: top;\n",
       "    }\n",
       "\n",
       "    .dataframe thead th {\n",
       "        text-align: right;\n",
       "    }\n",
       "</style>\n",
       "<table border=\"1\" class=\"dataframe\">\n",
       "  <thead>\n",
       "    <tr style=\"text-align: right;\">\n",
       "      <th></th>\n",
       "      <th>Domain</th>\n",
       "      <th>Kingdom</th>\n",
       "      <th>Phylum</th>\n",
       "      <th>Class</th>\n",
       "      <th>Order</th>\n",
       "      <th>Family</th>\n",
       "      <th>Genus</th>\n",
       "      <th>Species</th>\n",
       "      <th>ASV ID</th>\n",
       "      <th>CN19_Nisk_SM_Night_100m_1</th>\n",
       "      <th>...</th>\n",
       "      <th>CN19_Nisk_Dav_Dawn_5m_2</th>\n",
       "      <th>CN19_Nisk_Dav_Dawn_27m_1</th>\n",
       "      <th>CN19_Nisk_Dav_Dawn_100m_1</th>\n",
       "      <th>CN19_Nisk_Dav_Dawn_100m_2</th>\n",
       "      <th>CN19_Nisk_Dav_Dawn_100m_3</th>\n",
       "      <th>CN19_Nisk_Far_13m_1</th>\n",
       "      <th>CN19_Nisk_Far_13m_2</th>\n",
       "      <th>CN19_Nisk_Far_60m_1</th>\n",
       "      <th>CN19_Nisk_Far_60m_2</th>\n",
       "      <th>CN19_Nisk_Far_60m_3</th>\n",
       "    </tr>\n",
       "  </thead>\n",
       "  <tbody>\n",
       "    <tr>\n",
       "      <th>1</th>\n",
       "      <td>Eukaryota</td>\n",
       "      <td>nan</td>\n",
       "      <td>Bacillariophyta</td>\n",
       "      <td>Coscinodiscophyceae</td>\n",
       "      <td>nan</td>\n",
       "      <td>nan</td>\n",
       "      <td>g_</td>\n",
       "      <td>s_</td>\n",
       "      <td>ASV_11</td>\n",
       "      <td>0.002528</td>\n",
       "      <td>...</td>\n",
       "      <td>0.002956</td>\n",
       "      <td>0.000029</td>\n",
       "      <td>0.000052</td>\n",
       "      <td>0.000062</td>\n",
       "      <td>0.000053</td>\n",
       "      <td>0.031078</td>\n",
       "      <td>0.036556</td>\n",
       "      <td>0.004153</td>\n",
       "      <td>0.005725</td>\n",
       "      <td>0.002047</td>\n",
       "    </tr>\n",
       "    <tr>\n",
       "      <th>2</th>\n",
       "      <td>Eukaryota</td>\n",
       "      <td>nan</td>\n",
       "      <td>Haptophyta</td>\n",
       "      <td>unknown</td>\n",
       "      <td>Isochrysidales</td>\n",
       "      <td>Noelaerhabdaceae</td>\n",
       "      <td>nan</td>\n",
       "      <td>nan</td>\n",
       "      <td>ASV_7</td>\n",
       "      <td>0.026565</td>\n",
       "      <td>...</td>\n",
       "      <td>0.052394</td>\n",
       "      <td>0.103259</td>\n",
       "      <td>0.027942</td>\n",
       "      <td>0.023064</td>\n",
       "      <td>0.0</td>\n",
       "      <td>0.006267</td>\n",
       "      <td>0.004216</td>\n",
       "      <td>0.001304</td>\n",
       "      <td>0.002108</td>\n",
       "      <td>0.00137</td>\n",
       "    </tr>\n",
       "    <tr>\n",
       "      <th>3</th>\n",
       "      <td>Eukaryota</td>\n",
       "      <td>nan</td>\n",
       "      <td>Bacillariophyta</td>\n",
       "      <td>Coscinodiscophyceae</td>\n",
       "      <td>Rhizosoleniales</td>\n",
       "      <td>Rhizosoleniaceae</td>\n",
       "      <td>Guinardia</td>\n",
       "      <td>Guinardia delicatula</td>\n",
       "      <td>ASV_15</td>\n",
       "      <td>0.003849</td>\n",
       "      <td>...</td>\n",
       "      <td>0.001708</td>\n",
       "      <td>0.000029</td>\n",
       "      <td>0.000131</td>\n",
       "      <td>0.00148</td>\n",
       "      <td>0.000908</td>\n",
       "      <td>0.144105</td>\n",
       "      <td>0.144703</td>\n",
       "      <td>0.01706</td>\n",
       "      <td>0.018281</td>\n",
       "      <td>0.011777</td>\n",
       "    </tr>\n",
       "  </tbody>\n",
       "</table>\n",
       "<p>3 rows × 122 columns</p>\n",
       "</div>"
      ],
      "text/plain": [
       "      Domain Kingdom           Phylum                Class            Order  \\\n",
       "1  Eukaryota     nan  Bacillariophyta  Coscinodiscophyceae              nan   \n",
       "2  Eukaryota     nan       Haptophyta              unknown   Isochrysidales   \n",
       "3  Eukaryota     nan  Bacillariophyta  Coscinodiscophyceae  Rhizosoleniales   \n",
       "\n",
       "             Family      Genus               Species  ASV ID  \\\n",
       "1               nan         g_                    s_  ASV_11   \n",
       "2  Noelaerhabdaceae        nan                   nan   ASV_7   \n",
       "3  Rhizosoleniaceae  Guinardia  Guinardia delicatula  ASV_15   \n",
       "\n",
       "  CN19_Nisk_SM_Night_100m_1  ... CN19_Nisk_Dav_Dawn_5m_2  \\\n",
       "1                  0.002528  ...                0.002956   \n",
       "2                  0.026565  ...                0.052394   \n",
       "3                  0.003849  ...                0.001708   \n",
       "\n",
       "  CN19_Nisk_Dav_Dawn_27m_1 CN19_Nisk_Dav_Dawn_100m_1  \\\n",
       "1                 0.000029                  0.000052   \n",
       "2                 0.103259                  0.027942   \n",
       "3                 0.000029                  0.000131   \n",
       "\n",
       "  CN19_Nisk_Dav_Dawn_100m_2 CN19_Nisk_Dav_Dawn_100m_3 CN19_Nisk_Far_13m_1  \\\n",
       "1                  0.000062                  0.000053            0.031078   \n",
       "2                  0.023064                       0.0            0.006267   \n",
       "3                   0.00148                  0.000908            0.144105   \n",
       "\n",
       "  CN19_Nisk_Far_13m_2 CN19_Nisk_Far_60m_1 CN19_Nisk_Far_60m_2  \\\n",
       "1            0.036556            0.004153            0.005725   \n",
       "2            0.004216            0.001304            0.002108   \n",
       "3            0.144703             0.01706            0.018281   \n",
       "\n",
       "  CN19_Nisk_Far_60m_3  \n",
       "1            0.002047  \n",
       "2             0.00137  \n",
       "3            0.011777  \n",
       "\n",
       "[3 rows x 122 columns]"
      ]
     },
     "execution_count": 49,
     "metadata": {},
     "output_type": "execute_result"
    }
   ],
   "source": [
    "taxa_freq.head(3)"
   ]
  },
  {
   "cell_type": "markdown",
   "metadata": {},
   "source": [
    "### Function to reformat taxa lists"
   ]
  },
  {
   "cell_type": "markdown",
   "metadata": {},
   "source": [
    "#### Excluding taxa with unknown class/genus filters out A LOT of ASVs. Currently I have opted to keep in unknown taxa (except for reads with unknown 'Domain' which have already been filtered out in the previous function)."
   ]
  },
  {
   "cell_type": "code",
   "execution_count": 43,
   "metadata": {},
   "outputs": [],
   "source": [
    "def reformat_ASV_table(df, marker_gene):\n",
    "    samples = [col for col in df.columns if '1' in col] # Only sample column names have numbers\n",
    "    cols_to_drop = ['Kingdom','Species', 'ASV ID']\n",
    "    df = df.drop(cols_to_drop, axis=1)\n",
    "    taxon = [x for x in df.columns if '1' not in x]\n",
    "    df_melt = pd.melt(df, id_vars=taxon, value_vars=samples)\n",
    "    df_asvs = df_melt.rename(columns = {'variable':'%s sample' % marker_gene, \n",
    "                                        'value':'%s reads' % marker_gene})\n",
    "    #mask = ['no_hit', 'unknown', 'unassigned'] # identify ASVs where taxon is unknown or unassigned\n",
    "    #genus = ''.join('Genus') # Convert list to string\n",
    "    #df_asvs = df_melt.loc[~df_melt['Kingdom'].isin(mask), :]\n",
    "    #df_asvs = df_melt.loc[~df_melt['Class'].isin(mask), :]\n",
    "    #df_asvs = df_melt.loc[~df_melt['Genus'].isin(mask), :]\n",
    "    # df_asvs = df_asvs[df_asvs['%s Frequency' % marker_gene] != 0]\n",
    "    #df_asvs = df_asvs.drop_duplicates()\n",
    "    return(df_asvs)"
   ]
  },
  {
   "cell_type": "markdown",
   "metadata": {},
   "source": [
    "### Generate dataframes for (1) class-level taxon frequences per sample and (2) reads and bps per sample"
   ]
  },
  {
   "cell_type": "markdown",
   "metadata": {},
   "source": [
    "#### COI"
   ]
  },
  {
   "cell_type": "code",
   "execution_count": 50,
   "metadata": {},
   "outputs": [],
   "source": [
    "freq = reformat_ASV_table(taxa_freq, gene)"
   ]
  },
  {
   "cell_type": "code",
   "execution_count": 51,
   "metadata": {},
   "outputs": [
    {
     "data": {
      "text/html": [
       "<div>\n",
       "<style scoped>\n",
       "    .dataframe tbody tr th:only-of-type {\n",
       "        vertical-align: middle;\n",
       "    }\n",
       "\n",
       "    .dataframe tbody tr th {\n",
       "        vertical-align: top;\n",
       "    }\n",
       "\n",
       "    .dataframe thead th {\n",
       "        text-align: right;\n",
       "    }\n",
       "</style>\n",
       "<table border=\"1\" class=\"dataframe\">\n",
       "  <thead>\n",
       "    <tr style=\"text-align: right;\">\n",
       "      <th></th>\n",
       "      <th>Domain</th>\n",
       "      <th>Phylum</th>\n",
       "      <th>Class</th>\n",
       "      <th>Order</th>\n",
       "      <th>Family</th>\n",
       "      <th>Genus</th>\n",
       "      <th>COI sample</th>\n",
       "      <th>COI reads</th>\n",
       "    </tr>\n",
       "  </thead>\n",
       "  <tbody>\n",
       "    <tr>\n",
       "      <th>0</th>\n",
       "      <td>Eukaryota</td>\n",
       "      <td>Bacillariophyta</td>\n",
       "      <td>Coscinodiscophyceae</td>\n",
       "      <td>nan</td>\n",
       "      <td>nan</td>\n",
       "      <td>g_</td>\n",
       "      <td>CN19_Nisk_SM_Night_100m_1</td>\n",
       "      <td>0.002528</td>\n",
       "    </tr>\n",
       "    <tr>\n",
       "      <th>1</th>\n",
       "      <td>Eukaryota</td>\n",
       "      <td>Haptophyta</td>\n",
       "      <td>unknown</td>\n",
       "      <td>Isochrysidales</td>\n",
       "      <td>Noelaerhabdaceae</td>\n",
       "      <td>nan</td>\n",
       "      <td>CN19_Nisk_SM_Night_100m_1</td>\n",
       "      <td>0.026565</td>\n",
       "    </tr>\n",
       "    <tr>\n",
       "      <th>2</th>\n",
       "      <td>Eukaryota</td>\n",
       "      <td>Bacillariophyta</td>\n",
       "      <td>Coscinodiscophyceae</td>\n",
       "      <td>Rhizosoleniales</td>\n",
       "      <td>Rhizosoleniaceae</td>\n",
       "      <td>Guinardia</td>\n",
       "      <td>CN19_Nisk_SM_Night_100m_1</td>\n",
       "      <td>0.003849</td>\n",
       "    </tr>\n",
       "  </tbody>\n",
       "</table>\n",
       "</div>"
      ],
      "text/plain": [
       "      Domain           Phylum                Class            Order  \\\n",
       "0  Eukaryota  Bacillariophyta  Coscinodiscophyceae              nan   \n",
       "1  Eukaryota       Haptophyta              unknown   Isochrysidales   \n",
       "2  Eukaryota  Bacillariophyta  Coscinodiscophyceae  Rhizosoleniales   \n",
       "\n",
       "             Family      Genus                 COI sample COI reads  \n",
       "0               nan         g_  CN19_Nisk_SM_Night_100m_1  0.002528  \n",
       "1  Noelaerhabdaceae        nan  CN19_Nisk_SM_Night_100m_1  0.026565  \n",
       "2  Rhizosoleniaceae  Guinardia  CN19_Nisk_SM_Night_100m_1  0.003849  "
      ]
     },
     "execution_count": 51,
     "metadata": {},
     "output_type": "execute_result"
    }
   ],
   "source": [
    "freq.head(3)"
   ]
  },
  {
   "cell_type": "code",
   "execution_count": 52,
   "metadata": {},
   "outputs": [
    {
     "name": "stderr",
     "output_type": "stream",
     "text": [
      "/var/folders/6n/rgpvqypd433dd8y5lhhddmxw0000gn/T/ipykernel_22394/2198584508.py:22: PerformanceWarning: DataFrame is highly fragmented.  This is usually the result of calling `frame.insert` many times, which has poor performance.  Consider joining all columns at once using pd.concat(axis=1) instead. To get a de-fragmented frame, use `newframe = frame.copy()`\n",
      "  asvs['sum'] = asvs.iloc[:,9:].sum(axis=1)\n"
     ]
    }
   ],
   "source": [
    "df_tax_COI = []\n",
    "df_freq_COI = []\n",
    "df_reads_COI = []\n",
    "\n",
    "for file in glob.glob('*mgnmatches_tax.csv'):\n",
    "    taxa_filt, taxa_freq, reads = counts_to_freq(file, 'COI', 321)\n",
    "    counts = reformat_ASV_table(taxa_filt, 'COI')\n",
    "    freq = reformat_ASV_table(taxa_freq, 'COI')\n",
    "    df_tax_COI.append(counts)\n",
    "    df_freq_COI.append(freq)\n",
    "    df_reads_COI.append(reads)\n",
    "\n",
    "df_tax_COI = pd.concat(df_tax_COI, axis=0)\n",
    "df_freq_COI = pd.concat(df_freq_COI, axis=0)\n",
    "df_reads_COI = pd.concat(df_reads_COI)"
   ]
  },
  {
   "cell_type": "code",
   "execution_count": 53,
   "metadata": {},
   "outputs": [
    {
     "data": {
      "text/html": [
       "<div>\n",
       "<style scoped>\n",
       "    .dataframe tbody tr th:only-of-type {\n",
       "        vertical-align: middle;\n",
       "    }\n",
       "\n",
       "    .dataframe tbody tr th {\n",
       "        vertical-align: top;\n",
       "    }\n",
       "\n",
       "    .dataframe thead th {\n",
       "        text-align: right;\n",
       "    }\n",
       "</style>\n",
       "<table border=\"1\" class=\"dataframe\">\n",
       "  <thead>\n",
       "    <tr style=\"text-align: right;\">\n",
       "      <th></th>\n",
       "      <th>Domain</th>\n",
       "      <th>Phylum</th>\n",
       "      <th>Class</th>\n",
       "      <th>Order</th>\n",
       "      <th>Family</th>\n",
       "      <th>Genus</th>\n",
       "      <th>COI sample</th>\n",
       "      <th>COI reads</th>\n",
       "    </tr>\n",
       "  </thead>\n",
       "  <tbody>\n",
       "    <tr>\n",
       "      <th>0</th>\n",
       "      <td>Eukaryota</td>\n",
       "      <td>Haptophyta</td>\n",
       "      <td>unknown</td>\n",
       "      <td>Isochrysidales</td>\n",
       "      <td>Noelaerhabdaceae</td>\n",
       "      <td>nan</td>\n",
       "      <td>Lasker18Sc122_3_D0052</td>\n",
       "      <td>0.146085</td>\n",
       "    </tr>\n",
       "    <tr>\n",
       "      <th>1</th>\n",
       "      <td>Eukaryota</td>\n",
       "      <td>Arthropoda</td>\n",
       "      <td>nan</td>\n",
       "      <td>nan</td>\n",
       "      <td>nan</td>\n",
       "      <td>g_</td>\n",
       "      <td>Lasker18Sc122_3_D0052</td>\n",
       "      <td>0.094012</td>\n",
       "    </tr>\n",
       "    <tr>\n",
       "      <th>2</th>\n",
       "      <td>Eukaryota</td>\n",
       "      <td>Haptophyta</td>\n",
       "      <td>unknown</td>\n",
       "      <td>Phaeocystales</td>\n",
       "      <td>Phaeocystaceae</td>\n",
       "      <td>Phaeocystis</td>\n",
       "      <td>Lasker18Sc122_3_D0052</td>\n",
       "      <td>0.19968</td>\n",
       "    </tr>\n",
       "  </tbody>\n",
       "</table>\n",
       "</div>"
      ],
      "text/plain": [
       "      Domain      Phylum    Class           Order            Family  \\\n",
       "0  Eukaryota  Haptophyta  unknown  Isochrysidales  Noelaerhabdaceae   \n",
       "1  Eukaryota  Arthropoda      nan             nan               nan   \n",
       "2  Eukaryota  Haptophyta  unknown   Phaeocystales    Phaeocystaceae   \n",
       "\n",
       "         Genus             COI sample COI reads  \n",
       "0          nan  Lasker18Sc122_3_D0052  0.146085  \n",
       "1           g_  Lasker18Sc122_3_D0052  0.094012  \n",
       "2  Phaeocystis  Lasker18Sc122_3_D0052   0.19968  "
      ]
     },
     "execution_count": 53,
     "metadata": {},
     "output_type": "execute_result"
    }
   ],
   "source": [
    "#df_tax_COI.tail(3)\n",
    "df_freq_COI.head(3)\n",
    "#df_reads_COI.head(3)"
   ]
  },
  {
   "cell_type": "code",
   "execution_count": 22,
   "metadata": {},
   "outputs": [
    {
     "data": {
      "text/html": [
       "<div>\n",
       "<style scoped>\n",
       "    .dataframe tbody tr th:only-of-type {\n",
       "        vertical-align: middle;\n",
       "    }\n",
       "\n",
       "    .dataframe tbody tr th {\n",
       "        vertical-align: top;\n",
       "    }\n",
       "\n",
       "    .dataframe thead th {\n",
       "        text-align: right;\n",
       "    }\n",
       "</style>\n",
       "<table border=\"1\" class=\"dataframe\">\n",
       "  <thead>\n",
       "    <tr style=\"text-align: right;\">\n",
       "      <th></th>\n",
       "      <th>Kingdom</th>\n",
       "      <th>Phylum</th>\n",
       "      <th>Class</th>\n",
       "      <th>Order</th>\n",
       "      <th>Family</th>\n",
       "      <th>Genus</th>\n",
       "      <th>COI sample</th>\n",
       "      <th>COI reads</th>\n",
       "    </tr>\n",
       "  </thead>\n",
       "  <tbody>\n",
       "    <tr>\n",
       "      <th>329</th>\n",
       "      <td>nan</td>\n",
       "      <td>Haptophyta</td>\n",
       "      <td>unknown</td>\n",
       "      <td>Isochrysidales</td>\n",
       "      <td>Noelaerhabdaceae</td>\n",
       "      <td>Emiliania</td>\n",
       "      <td>Lasker18Sc122_3_D0052</td>\n",
       "      <td>0.0</td>\n",
       "    </tr>\n",
       "    <tr>\n",
       "      <th>945</th>\n",
       "      <td>nan</td>\n",
       "      <td>Haptophyta</td>\n",
       "      <td>unknown</td>\n",
       "      <td>Isochrysidales</td>\n",
       "      <td>Noelaerhabdaceae</td>\n",
       "      <td>Emiliania</td>\n",
       "      <td>Lasker18Sc122_3_D0052</td>\n",
       "      <td>0.00012</td>\n",
       "    </tr>\n",
       "    <tr>\n",
       "      <th>1238</th>\n",
       "      <td>nan</td>\n",
       "      <td>Haptophyta</td>\n",
       "      <td>unknown</td>\n",
       "      <td>Isochrysidales</td>\n",
       "      <td>Noelaerhabdaceae</td>\n",
       "      <td>Emiliania</td>\n",
       "      <td>Lasker18Sc122_3_D0052</td>\n",
       "      <td>0.0</td>\n",
       "    </tr>\n",
       "    <tr>\n",
       "      <th>2049</th>\n",
       "      <td>nan</td>\n",
       "      <td>Haptophyta</td>\n",
       "      <td>unknown</td>\n",
       "      <td>Isochrysidales</td>\n",
       "      <td>Noelaerhabdaceae</td>\n",
       "      <td>Emiliania</td>\n",
       "      <td>Lasker18Sc122_3_D0052</td>\n",
       "      <td>0.0</td>\n",
       "    </tr>\n",
       "    <tr>\n",
       "      <th>2223</th>\n",
       "      <td>nan</td>\n",
       "      <td>Haptophyta</td>\n",
       "      <td>unknown</td>\n",
       "      <td>Isochrysidales</td>\n",
       "      <td>Noelaerhabdaceae</td>\n",
       "      <td>Emiliania</td>\n",
       "      <td>Lasker18Sc122_3_D0052</td>\n",
       "      <td>0.0</td>\n",
       "    </tr>\n",
       "    <tr>\n",
       "      <th>...</th>\n",
       "      <td>...</td>\n",
       "      <td>...</td>\n",
       "      <td>...</td>\n",
       "      <td>...</td>\n",
       "      <td>...</td>\n",
       "      <td>...</td>\n",
       "      <td>...</td>\n",
       "      <td>...</td>\n",
       "    </tr>\n",
       "    <tr>\n",
       "      <th>1338062</th>\n",
       "      <td>nan</td>\n",
       "      <td>Haptophyta</td>\n",
       "      <td>unknown</td>\n",
       "      <td>Isochrysidales</td>\n",
       "      <td>Noelaerhabdaceae</td>\n",
       "      <td>Emiliania</td>\n",
       "      <td>CN19_Nisk_Far_60m_3</td>\n",
       "      <td>0.0</td>\n",
       "    </tr>\n",
       "    <tr>\n",
       "      <th>1338090</th>\n",
       "      <td>nan</td>\n",
       "      <td>Haptophyta</td>\n",
       "      <td>unknown</td>\n",
       "      <td>Isochrysidales</td>\n",
       "      <td>Noelaerhabdaceae</td>\n",
       "      <td>Emiliania</td>\n",
       "      <td>CN19_Nisk_Far_60m_3</td>\n",
       "      <td>0.0</td>\n",
       "    </tr>\n",
       "    <tr>\n",
       "      <th>1338266</th>\n",
       "      <td>nan</td>\n",
       "      <td>Haptophyta</td>\n",
       "      <td>unknown</td>\n",
       "      <td>Isochrysidales</td>\n",
       "      <td>Noelaerhabdaceae</td>\n",
       "      <td>Emiliania</td>\n",
       "      <td>CN19_Nisk_Far_60m_3</td>\n",
       "      <td>0.0</td>\n",
       "    </tr>\n",
       "    <tr>\n",
       "      <th>1338316</th>\n",
       "      <td>nan</td>\n",
       "      <td>Haptophyta</td>\n",
       "      <td>unknown</td>\n",
       "      <td>Isochrysidales</td>\n",
       "      <td>Noelaerhabdaceae</td>\n",
       "      <td>Emiliania</td>\n",
       "      <td>CN19_Nisk_Far_60m_3</td>\n",
       "      <td>0.0</td>\n",
       "    </tr>\n",
       "    <tr>\n",
       "      <th>1338370</th>\n",
       "      <td>nan</td>\n",
       "      <td>Haptophyta</td>\n",
       "      <td>unknown</td>\n",
       "      <td>Isochrysidales</td>\n",
       "      <td>Noelaerhabdaceae</td>\n",
       "      <td>Emiliania</td>\n",
       "      <td>CN19_Nisk_Far_60m_3</td>\n",
       "      <td>0.0</td>\n",
       "    </tr>\n",
       "  </tbody>\n",
       "</table>\n",
       "<p>3893 rows × 8 columns</p>\n",
       "</div>"
      ],
      "text/plain": [
       "        Kingdom      Phylum    Class           Order            Family  \\\n",
       "329         nan  Haptophyta  unknown  Isochrysidales  Noelaerhabdaceae   \n",
       "945         nan  Haptophyta  unknown  Isochrysidales  Noelaerhabdaceae   \n",
       "1238        nan  Haptophyta  unknown  Isochrysidales  Noelaerhabdaceae   \n",
       "2049        nan  Haptophyta  unknown  Isochrysidales  Noelaerhabdaceae   \n",
       "2223        nan  Haptophyta  unknown  Isochrysidales  Noelaerhabdaceae   \n",
       "...         ...         ...      ...             ...               ...   \n",
       "1338062     nan  Haptophyta  unknown  Isochrysidales  Noelaerhabdaceae   \n",
       "1338090     nan  Haptophyta  unknown  Isochrysidales  Noelaerhabdaceae   \n",
       "1338266     nan  Haptophyta  unknown  Isochrysidales  Noelaerhabdaceae   \n",
       "1338316     nan  Haptophyta  unknown  Isochrysidales  Noelaerhabdaceae   \n",
       "1338370     nan  Haptophyta  unknown  Isochrysidales  Noelaerhabdaceae   \n",
       "\n",
       "             Genus             COI sample COI reads  \n",
       "329      Emiliania  Lasker18Sc122_3_D0052       0.0  \n",
       "945      Emiliania  Lasker18Sc122_3_D0052   0.00012  \n",
       "1238     Emiliania  Lasker18Sc122_3_D0052       0.0  \n",
       "2049     Emiliania  Lasker18Sc122_3_D0052       0.0  \n",
       "2223     Emiliania  Lasker18Sc122_3_D0052       0.0  \n",
       "...            ...                    ...       ...  \n",
       "1338062  Emiliania    CN19_Nisk_Far_60m_3       0.0  \n",
       "1338090  Emiliania    CN19_Nisk_Far_60m_3       0.0  \n",
       "1338266  Emiliania    CN19_Nisk_Far_60m_3       0.0  \n",
       "1338316  Emiliania    CN19_Nisk_Far_60m_3       0.0  \n",
       "1338370  Emiliania    CN19_Nisk_Far_60m_3       0.0  \n",
       "\n",
       "[3893 rows x 8 columns]"
      ]
     },
     "execution_count": 22,
     "metadata": {},
     "output_type": "execute_result"
    }
   ],
   "source": [
    "df_freq_COI.loc[df_freq_COI['Genus'] == 'Emiliania']"
   ]
  },
  {
   "cell_type": "markdown",
   "metadata": {},
   "source": [
    "#### 18S"
   ]
  },
  {
   "cell_type": "code",
   "execution_count": 36,
   "metadata": {},
   "outputs": [],
   "source": [
    "os.chdir(\"/Users/nastassiapatin/GitHub/eDNA-Visualizations/Euks_mgns_asvs_data/18S comparison/ASV tables\")"
   ]
  },
  {
   "cell_type": "code",
   "execution_count": 37,
   "metadata": {},
   "outputs": [
    {
     "name": "stderr",
     "output_type": "stream",
     "text": [
      "/var/folders/6n/rgpvqypd433dd8y5lhhddmxw0000gn/T/ipykernel_22394/2198584508.py:22: PerformanceWarning: DataFrame is highly fragmented.  This is usually the result of calling `frame.insert` many times, which has poor performance.  Consider joining all columns at once using pd.concat(axis=1) instead. To get a de-fragmented frame, use `newframe = frame.copy()`\n",
      "  asvs['sum'] = asvs.iloc[:,9:].sum(axis=1)\n"
     ]
    }
   ],
   "source": [
    "df_tax_18S = []\n",
    "df_freq_18S = []\n",
    "df_reads_18S = []\n",
    "\n",
    "for file in glob.glob('*mgnmatches_tax.csv'):\n",
    "    taxa_filt, taxa_freq, reads = counts_to_freq(file, '18S', 127)\n",
    "    counts = reformat_ASV_table(taxa_filt, '18S')\n",
    "    freq = reformat_ASV_table(taxa_freq, '18S')\n",
    "    df_tax_18S.append(counts)\n",
    "    df_freq_18S.append(freq)\n",
    "    df_reads_18S.append(reads)\n",
    "\n",
    "df_tax_18S = pd.concat(df_tax_18S, axis=0)\n",
    "df_freq_18S = pd.concat(df_freq_18S, axis=0)\n",
    "df_reads_18S = pd.concat(df_reads_18S)"
   ]
  },
  {
   "cell_type": "code",
   "execution_count": 59,
   "metadata": {},
   "outputs": [
    {
     "data": {
      "text/html": [
       "<div>\n",
       "<style scoped>\n",
       "    .dataframe tbody tr th:only-of-type {\n",
       "        vertical-align: middle;\n",
       "    }\n",
       "\n",
       "    .dataframe tbody tr th {\n",
       "        vertical-align: top;\n",
       "    }\n",
       "\n",
       "    .dataframe thead th {\n",
       "        text-align: right;\n",
       "    }\n",
       "</style>\n",
       "<table border=\"1\" class=\"dataframe\">\n",
       "  <thead>\n",
       "    <tr style=\"text-align: right;\">\n",
       "      <th></th>\n",
       "      <th>Domain</th>\n",
       "      <th>Phylum</th>\n",
       "      <th>Class</th>\n",
       "      <th>Order</th>\n",
       "      <th>Family</th>\n",
       "      <th>Genus</th>\n",
       "      <th>18S sample</th>\n",
       "      <th>18S reads</th>\n",
       "    </tr>\n",
       "  </thead>\n",
       "  <tbody>\n",
       "    <tr>\n",
       "      <th>0</th>\n",
       "      <td>Eukaryota</td>\n",
       "      <td>Bacillariophyta</td>\n",
       "      <td>Bacillariophyceae</td>\n",
       "      <td>Bacillariales</td>\n",
       "      <td>Bacillariaceae</td>\n",
       "      <td>Pseudo-nitzschia</td>\n",
       "      <td>CN18FESPkoa_SC24</td>\n",
       "      <td>9712</td>\n",
       "    </tr>\n",
       "    <tr>\n",
       "      <th>1</th>\n",
       "      <td>Eukaryota</td>\n",
       "      <td>unknown</td>\n",
       "      <td>Polycystinea</td>\n",
       "      <td>nan</td>\n",
       "      <td>nan</td>\n",
       "      <td>nan</td>\n",
       "      <td>CN18FESPkoa_SC24</td>\n",
       "      <td>11259</td>\n",
       "    </tr>\n",
       "    <tr>\n",
       "      <th>2</th>\n",
       "      <td>Eukaryota</td>\n",
       "      <td>unknown</td>\n",
       "      <td>Dinophyceae</td>\n",
       "      <td>Gymnodiniales</td>\n",
       "      <td>Gymnodiniaceae</td>\n",
       "      <td>Akashiwo</td>\n",
       "      <td>CN18FESPkoa_SC24</td>\n",
       "      <td>4</td>\n",
       "    </tr>\n",
       "  </tbody>\n",
       "</table>\n",
       "</div>"
      ],
      "text/plain": [
       "      Domain           Phylum              Class          Order  \\\n",
       "0  Eukaryota  Bacillariophyta  Bacillariophyceae  Bacillariales   \n",
       "1  Eukaryota          unknown       Polycystinea            nan   \n",
       "2  Eukaryota          unknown        Dinophyceae  Gymnodiniales   \n",
       "\n",
       "           Family             Genus        18S sample  18S reads  \n",
       "0  Bacillariaceae  Pseudo-nitzschia  CN18FESPkoa_SC24       9712  \n",
       "1             nan               nan  CN18FESPkoa_SC24      11259  \n",
       "2  Gymnodiniaceae          Akashiwo  CN18FESPkoa_SC24          4  "
      ]
     },
     "execution_count": 59,
     "metadata": {},
     "output_type": "execute_result"
    }
   ],
   "source": [
    "df_tax_18S.head(3)\n",
    "#df_freq_18S.head(3)\n",
    "#df_reads_18S.head(3)"
   ]
  },
  {
   "cell_type": "markdown",
   "metadata": {},
   "source": [
    "## 04. Compare total numbers/fractions of eukaryotic reads in metagenomes and amplicons"
   ]
  },
  {
   "cell_type": "markdown",
   "metadata": {},
   "source": [
    "#### Calculate average # total reads and average # eukaryotic reads for amplicon samples"
   ]
  },
  {
   "cell_type": "code",
   "execution_count": 65,
   "metadata": {},
   "outputs": [],
   "source": [
    "def calculate_eukaryotic_read_fraction(df_tax, df_reads, marker_gene):\n",
    "    domains = df_tax[['Domain', '%s sample' % marker_gene, '%s reads' % marker_gene]]\n",
    "    domains = domains.groupby(['Domain', '%s sample' % marker_gene]).sum()\n",
    "    euks = domains.xs('Eukaryota', level=0).reset_index()\n",
    "    #euks['Domain'] = 'Eukaryota'\n",
    "    euk_fracs = pd.merge(df_reads, euks, on='%s sample' % marker_gene)\n",
    "    euk_fracs['%s euk reads percent' % marker_gene] = euk_fracs['%s reads' % marker_gene] / euk_fracs['total %s reads' % marker_gene]\n",
    "    return(euk_fracs)"
   ]
  },
  {
   "cell_type": "code",
   "execution_count": 63,
   "metadata": {},
   "outputs": [
    {
     "data": {
      "text/html": [
       "<div>\n",
       "<style scoped>\n",
       "    .dataframe tbody tr th:only-of-type {\n",
       "        vertical-align: middle;\n",
       "    }\n",
       "\n",
       "    .dataframe tbody tr th {\n",
       "        vertical-align: top;\n",
       "    }\n",
       "\n",
       "    .dataframe thead th {\n",
       "        text-align: right;\n",
       "    }\n",
       "</style>\n",
       "<table border=\"1\" class=\"dataframe\">\n",
       "  <thead>\n",
       "    <tr style=\"text-align: right;\">\n",
       "      <th></th>\n",
       "      <th>18S sample</th>\n",
       "      <th>total 18S reads</th>\n",
       "      <th>total 18S bps</th>\n",
       "      <th>18S reads</th>\n",
       "      <th>18S euk reads percent</th>\n",
       "    </tr>\n",
       "  </thead>\n",
       "  <tbody>\n",
       "    <tr>\n",
       "      <th>0</th>\n",
       "      <td>CN18FESPkoa_SC24</td>\n",
       "      <td>69396</td>\n",
       "      <td>8813292</td>\n",
       "      <td>69396</td>\n",
       "      <td>1.0</td>\n",
       "    </tr>\n",
       "    <tr>\n",
       "      <th>1</th>\n",
       "      <td>CN18FESPkoa_SC26</td>\n",
       "      <td>29464</td>\n",
       "      <td>3741928</td>\n",
       "      <td>29464</td>\n",
       "      <td>1.0</td>\n",
       "    </tr>\n",
       "    <tr>\n",
       "      <th>2</th>\n",
       "      <td>CN18FESPkoa_SC29</td>\n",
       "      <td>63989</td>\n",
       "      <td>8126603</td>\n",
       "      <td>63989</td>\n",
       "      <td>1.0</td>\n",
       "    </tr>\n",
       "  </tbody>\n",
       "</table>\n",
       "</div>"
      ],
      "text/plain": [
       "         18S sample  total 18S reads  total 18S bps  18S reads  \\\n",
       "0  CN18FESPkoa_SC24            69396        8813292      69396   \n",
       "1  CN18FESPkoa_SC26            29464        3741928      29464   \n",
       "2  CN18FESPkoa_SC29            63989        8126603      63989   \n",
       "\n",
       "   18S euk reads percent  \n",
       "0                    1.0  \n",
       "1                    1.0  \n",
       "2                    1.0  "
      ]
     },
     "execution_count": 63,
     "metadata": {},
     "output_type": "execute_result"
    }
   ],
   "source": [
    "euk_fracs_18S = calculate_eukaryotic_read_fraction(df_tax_18S, df_reads_18S, '18S')\n",
    "euk_fracs_18S.head(3)"
   ]
  },
  {
   "cell_type": "code",
   "execution_count": 66,
   "metadata": {},
   "outputs": [
    {
     "data": {
      "text/html": [
       "<div>\n",
       "<style scoped>\n",
       "    .dataframe tbody tr th:only-of-type {\n",
       "        vertical-align: middle;\n",
       "    }\n",
       "\n",
       "    .dataframe tbody tr th {\n",
       "        vertical-align: top;\n",
       "    }\n",
       "\n",
       "    .dataframe thead th {\n",
       "        text-align: right;\n",
       "    }\n",
       "</style>\n",
       "<table border=\"1\" class=\"dataframe\">\n",
       "  <thead>\n",
       "    <tr style=\"text-align: right;\">\n",
       "      <th></th>\n",
       "      <th>COI sample</th>\n",
       "      <th>total COI reads</th>\n",
       "      <th>total COI bps</th>\n",
       "      <th>COI reads</th>\n",
       "      <th>COI euk reads percent</th>\n",
       "    </tr>\n",
       "  </thead>\n",
       "  <tbody>\n",
       "    <tr>\n",
       "      <th>0</th>\n",
       "      <td>Lasker18Sc122_3_D0052</td>\n",
       "      <td>24965</td>\n",
       "      <td>8013765</td>\n",
       "      <td>24965</td>\n",
       "      <td>1.0</td>\n",
       "    </tr>\n",
       "    <tr>\n",
       "      <th>1</th>\n",
       "      <td>Lasker18Sc122_5_D0053</td>\n",
       "      <td>43082</td>\n",
       "      <td>13829322</td>\n",
       "      <td>43082</td>\n",
       "      <td>1.0</td>\n",
       "    </tr>\n",
       "    <tr>\n",
       "      <th>2</th>\n",
       "      <td>Lasker18Sc122_17_D0057</td>\n",
       "      <td>74596</td>\n",
       "      <td>23945316</td>\n",
       "      <td>74596</td>\n",
       "      <td>1.0</td>\n",
       "    </tr>\n",
       "  </tbody>\n",
       "</table>\n",
       "</div>"
      ],
      "text/plain": [
       "               COI sample  total COI reads  total COI bps  COI reads  \\\n",
       "0   Lasker18Sc122_3_D0052            24965        8013765      24965   \n",
       "1   Lasker18Sc122_5_D0053            43082       13829322      43082   \n",
       "2  Lasker18Sc122_17_D0057            74596       23945316      74596   \n",
       "\n",
       "   COI euk reads percent  \n",
       "0                    1.0  \n",
       "1                    1.0  \n",
       "2                    1.0  "
      ]
     },
     "execution_count": 66,
     "metadata": {},
     "output_type": "execute_result"
    }
   ],
   "source": [
    "euk_fracs_COI = calculate_eukaryotic_read_fraction(df_tax_COI, df_reads_COI, 'COI')\n",
    "euk_fracs_COI.head(3)"
   ]
  },
  {
   "cell_type": "markdown",
   "metadata": {},
   "source": [
    "#### Add 18S and COI average euk reads to data frame with metagenome average euk bps"
   ]
  },
  {
   "cell_type": "code",
   "execution_count": 179,
   "metadata": {},
   "outputs": [
    {
     "data": {
      "text/html": [
       "<div>\n",
       "<style scoped>\n",
       "    .dataframe tbody tr th:only-of-type {\n",
       "        vertical-align: middle;\n",
       "    }\n",
       "\n",
       "    .dataframe tbody tr th {\n",
       "        vertical-align: top;\n",
       "    }\n",
       "\n",
       "    .dataframe thead th {\n",
       "        text-align: right;\n",
       "    }\n",
       "</style>\n",
       "<table border=\"1\" class=\"dataframe\">\n",
       "  <thead>\n",
       "    <tr style=\"text-align: right;\">\n",
       "      <th></th>\n",
       "      <th>Sequence type</th>\n",
       "      <th>Avg num bps, reads, or ORFs</th>\n",
       "      <th>Avg % euk bps, reads, or ORFs</th>\n",
       "      <th>Avg num euk bps, reads, or ORFs</th>\n",
       "    </tr>\n",
       "  </thead>\n",
       "  <tbody>\n",
       "    <tr>\n",
       "      <th>0</th>\n",
       "      <td>Metagenome reads</td>\n",
       "      <td>4.211699e+07</td>\n",
       "      <td>0.108481</td>\n",
       "      <td>4.568903e+06</td>\n",
       "    </tr>\n",
       "  </tbody>\n",
       "</table>\n",
       "</div>"
      ],
      "text/plain": [
       "      Sequence type  Avg num bps, reads, or ORFs  \\\n",
       "0  Metagenome reads                 4.211699e+07   \n",
       "\n",
       "   Avg % euk bps, reads, or ORFs  Avg num euk bps, reads, or ORFs  \n",
       "0                       0.108481                     4.568903e+06  "
      ]
     },
     "execution_count": 179,
     "metadata": {},
     "output_type": "execute_result"
    }
   ],
   "source": [
    "euk_frac_mgns"
   ]
  },
  {
   "cell_type": "code",
   "execution_count": 189,
   "metadata": {},
   "outputs": [],
   "source": [
    "new_row = pd.DataFrame({'Sequence type': '18S', \n",
    "           'Avg num bps, reads, or ORFs': np.average(euk_fracs_18S['total 18S reads']),\n",
    "           'Avg % euk bps, reads, or ORFs': np.average(euk_fracs_18S['18S euk reads percent']),\n",
    "            'Avg num euk bps, reads, or ORFs': np.average(euk_fracs_18S['18S reads'])},\n",
    "                      index=[0])\n",
    "euk_frac_df = pd.concat([new_row, euk_frac_mgns.loc[:]]).reset_index(drop=True)"
   ]
  },
  {
   "cell_type": "code",
   "execution_count": 190,
   "metadata": {},
   "outputs": [],
   "source": [
    "new_row = pd.DataFrame({'Sequence type': 'COI', \n",
    "           'Avg num bps, reads, or ORFs': np.average(euk_fracs_COI['total COI reads']),\n",
    "           'Avg % euk bps, reads, or ORFs': np.average(euk_fracs_COI['COI euk reads percent']),\n",
    "            'Avg num euk bps, reads, or ORFs': np.average(euk_fracs_COI['COI reads'])},\n",
    "                      index=[0])\n",
    "euk_frac_df = pd.concat([new_row, euk_frac_df.loc[:]]).reset_index(drop=True)"
   ]
  },
  {
   "cell_type": "code",
   "execution_count": 191,
   "metadata": {},
   "outputs": [],
   "source": [
    "new_row = pd.DataFrame({'Sequence type': 'Metagenome assemblies', \n",
    "           'Avg num bps, reads, or ORFs': np.average(orf_frac_df['total_ORF_count']),\n",
    "           'Avg % euk bps, reads, or ORFs': np.average(orf_frac_df['euk_ORF_percent']),\n",
    "            'Avg num euk bps, reads, or ORFs': np.average(orf_frac_df['euk_ORF_count'])},\n",
    "                      index=[0])\n",
    "euk_frac_df = pd.concat([new_row, euk_frac_df.loc[:]]).reset_index(drop=True)"
   ]
  },
  {
   "cell_type": "code",
   "execution_count": 192,
   "metadata": {},
   "outputs": [
    {
     "data": {
      "text/html": [
       "<div>\n",
       "<style scoped>\n",
       "    .dataframe tbody tr th:only-of-type {\n",
       "        vertical-align: middle;\n",
       "    }\n",
       "\n",
       "    .dataframe tbody tr th {\n",
       "        vertical-align: top;\n",
       "    }\n",
       "\n",
       "    .dataframe thead th {\n",
       "        text-align: right;\n",
       "    }\n",
       "</style>\n",
       "<table border=\"1\" class=\"dataframe\">\n",
       "  <thead>\n",
       "    <tr style=\"text-align: right;\">\n",
       "      <th></th>\n",
       "      <th>Sequence type</th>\n",
       "      <th>Avg num bps, reads, or ORFs</th>\n",
       "      <th>Avg % euk bps, reads, or ORFs</th>\n",
       "      <th>Avg num euk bps, reads, or ORFs</th>\n",
       "      <th>Avg num prok bps, reads, or ORFs</th>\n",
       "      <th>Total percentage</th>\n",
       "    </tr>\n",
       "  </thead>\n",
       "  <tbody>\n",
       "    <tr>\n",
       "      <th>0</th>\n",
       "      <td>Metagenome assemblies</td>\n",
       "      <td>6.264153e+06</td>\n",
       "      <td>0.131235</td>\n",
       "      <td>5.968357e+05</td>\n",
       "      <td>5.667317e+06</td>\n",
       "      <td>1.0</td>\n",
       "    </tr>\n",
       "    <tr>\n",
       "      <th>1</th>\n",
       "      <td>COI</td>\n",
       "      <td>6.358056e+04</td>\n",
       "      <td>1.000000</td>\n",
       "      <td>6.358056e+04</td>\n",
       "      <td>0.000000e+00</td>\n",
       "      <td>1.0</td>\n",
       "    </tr>\n",
       "    <tr>\n",
       "      <th>2</th>\n",
       "      <td>18S</td>\n",
       "      <td>6.078284e+04</td>\n",
       "      <td>1.000000</td>\n",
       "      <td>6.078284e+04</td>\n",
       "      <td>0.000000e+00</td>\n",
       "      <td>1.0</td>\n",
       "    </tr>\n",
       "    <tr>\n",
       "      <th>3</th>\n",
       "      <td>Metagenome reads</td>\n",
       "      <td>4.211699e+07</td>\n",
       "      <td>0.108481</td>\n",
       "      <td>4.568903e+06</td>\n",
       "      <td>3.754809e+07</td>\n",
       "      <td>1.0</td>\n",
       "    </tr>\n",
       "  </tbody>\n",
       "</table>\n",
       "</div>"
      ],
      "text/plain": [
       "           Sequence type  Avg num bps, reads, or ORFs  \\\n",
       "0  Metagenome assemblies                 6.264153e+06   \n",
       "1                    COI                 6.358056e+04   \n",
       "2                    18S                 6.078284e+04   \n",
       "3       Metagenome reads                 4.211699e+07   \n",
       "\n",
       "   Avg % euk bps, reads, or ORFs  Avg num euk bps, reads, or ORFs  \\\n",
       "0                       0.131235                     5.968357e+05   \n",
       "1                       1.000000                     6.358056e+04   \n",
       "2                       1.000000                     6.078284e+04   \n",
       "3                       0.108481                     4.568903e+06   \n",
       "\n",
       "   Avg num prok bps, reads, or ORFs  Total percentage  \n",
       "0                      5.667317e+06               1.0  \n",
       "1                      0.000000e+00               1.0  \n",
       "2                      0.000000e+00               1.0  \n",
       "3                      3.754809e+07               1.0  "
      ]
     },
     "execution_count": 192,
     "metadata": {},
     "output_type": "execute_result"
    }
   ],
   "source": [
    "euk_frac_df['Avg num prok bps, reads, or ORFs'] = euk_frac_df['Avg num bps, reads, or ORFs'] - euk_frac_df['Avg num euk bps, reads, or ORFs']\n",
    "euk_frac_df['Total percentage'] = 1.0\n",
    "euk_frac_df.head()"
   ]
  },
  {
   "cell_type": "code",
   "execution_count": 193,
   "metadata": {},
   "outputs": [],
   "source": [
    "euk_frac_df.iloc[1], euk_frac_df.iloc[3] = euk_frac_df.iloc[3], euk_frac_df.iloc[1]\n",
    "euk_frac_df.iloc[0], euk_frac_df.iloc[1] = euk_frac_df.iloc[1], euk_frac_df.iloc[0]"
   ]
  },
  {
   "cell_type": "code",
   "execution_count": 194,
   "metadata": {},
   "outputs": [
    {
     "data": {
      "text/html": [
       "<div>\n",
       "<style scoped>\n",
       "    .dataframe tbody tr th:only-of-type {\n",
       "        vertical-align: middle;\n",
       "    }\n",
       "\n",
       "    .dataframe tbody tr th {\n",
       "        vertical-align: top;\n",
       "    }\n",
       "\n",
       "    .dataframe thead th {\n",
       "        text-align: right;\n",
       "    }\n",
       "</style>\n",
       "<table border=\"1\" class=\"dataframe\">\n",
       "  <thead>\n",
       "    <tr style=\"text-align: right;\">\n",
       "      <th></th>\n",
       "      <th>Sequence type</th>\n",
       "      <th>Avg num bps, reads, or ORFs</th>\n",
       "      <th>Avg % euk bps, reads, or ORFs</th>\n",
       "      <th>Avg num euk bps, reads, or ORFs</th>\n",
       "      <th>Avg num prok bps, reads, or ORFs</th>\n",
       "      <th>Total percentage</th>\n",
       "    </tr>\n",
       "  </thead>\n",
       "  <tbody>\n",
       "    <tr>\n",
       "      <th>0</th>\n",
       "      <td>Metagenome reads</td>\n",
       "      <td>4.211699e+07</td>\n",
       "      <td>0.108481</td>\n",
       "      <td>4.568903e+06</td>\n",
       "      <td>3.754809e+07</td>\n",
       "      <td>1.0</td>\n",
       "    </tr>\n",
       "    <tr>\n",
       "      <th>1</th>\n",
       "      <td>Metagenome assemblies</td>\n",
       "      <td>6.264153e+06</td>\n",
       "      <td>0.131235</td>\n",
       "      <td>5.968357e+05</td>\n",
       "      <td>5.667317e+06</td>\n",
       "      <td>1.0</td>\n",
       "    </tr>\n",
       "    <tr>\n",
       "      <th>2</th>\n",
       "      <td>18S</td>\n",
       "      <td>6.078284e+04</td>\n",
       "      <td>1.000000</td>\n",
       "      <td>6.078284e+04</td>\n",
       "      <td>0.000000e+00</td>\n",
       "      <td>1.0</td>\n",
       "    </tr>\n",
       "    <tr>\n",
       "      <th>3</th>\n",
       "      <td>COI</td>\n",
       "      <td>6.358056e+04</td>\n",
       "      <td>1.000000</td>\n",
       "      <td>6.358056e+04</td>\n",
       "      <td>0.000000e+00</td>\n",
       "      <td>1.0</td>\n",
       "    </tr>\n",
       "  </tbody>\n",
       "</table>\n",
       "</div>"
      ],
      "text/plain": [
       "           Sequence type  Avg num bps, reads, or ORFs  \\\n",
       "0       Metagenome reads                 4.211699e+07   \n",
       "1  Metagenome assemblies                 6.264153e+06   \n",
       "2                    18S                 6.078284e+04   \n",
       "3                    COI                 6.358056e+04   \n",
       "\n",
       "   Avg % euk bps, reads, or ORFs  Avg num euk bps, reads, or ORFs  \\\n",
       "0                       0.108481                     4.568903e+06   \n",
       "1                       0.131235                     5.968357e+05   \n",
       "2                       1.000000                     6.078284e+04   \n",
       "3                       1.000000                     6.358056e+04   \n",
       "\n",
       "   Avg num prok bps, reads, or ORFs  Total percentage  \n",
       "0                      3.754809e+07               1.0  \n",
       "1                      5.667317e+06               1.0  \n",
       "2                      0.000000e+00               1.0  \n",
       "3                      0.000000e+00               1.0  "
      ]
     },
     "execution_count": 194,
     "metadata": {},
     "output_type": "execute_result"
    }
   ],
   "source": [
    "euk_frac_df.head(4)"
   ]
  },
  {
   "cell_type": "code",
   "execution_count": 195,
   "metadata": {},
   "outputs": [],
   "source": [
    "euk_frac_df.to_csv(\"Percent_euk_reads_comparison.csv\", index=False)"
   ]
  },
  {
   "cell_type": "code",
   "execution_count": 206,
   "metadata": {},
   "outputs": [
    {
     "data": {
      "image/png": "[encoded data removed]",
      "text/plain": [
       "<Figure size 500x600 with 1 Axes>"
      ]
     },
     "metadata": {},
     "output_type": "display_data"
    }
   ],
   "source": [
    "plt.figure(figsize=(5,6))\n",
    "sns.set(font_scale = 1.5)\n",
    "sns.set_style('white')\n",
    "sns.set_palette(sns.color_palette('colorblind'))\n",
    "\n",
    "# bar chart 1 -> top bars (bac + arc reads)\n",
    "bar1 = sns.barplot(data=euk_frac_df, x='Sequence type',  \n",
    "                   y='Total percentage', color='darkblue')\n",
    "\n",
    "# bar chart 2 -> bottom bars (eukaryotic reads)\n",
    "bar2 = sns.barplot(data=euk_frac_df, x='Sequence type',  \n",
    "                   y='Avg % euk bps, reads, or ORFs', color='lightblue')\n",
    "\n",
    "plt.ylabel('Average % eukaryotic bps, reads, or ORFs', size=14)\n",
    "plt.xlabel('Sequence data set', size=16)\n",
    "plt.xticks(rotation=45, ha='right', size=14)\n",
    "\n",
    "plt.ylim(0, 1.05)\n",
    "\n",
    "# add legend\n",
    "top_bar = mpatches.Patch(color='darkblue', label='Prokaryotic')\n",
    "bottom_bar = mpatches.Patch(color='lightblue', label='Eukaryotic')\n",
    "plt.legend(handles=[top_bar, bottom_bar], bbox_to_anchor=(1.02, 0.55), \n",
    "           loc='upper left', borderaxespad=0)\n",
    "\n",
    "plt.savefig('eCruises2018_2019_prok_vs_euk_reads.png', format='png', \n",
    "            dpi=1200, bbox_inches='tight')\n",
    "# show the graph\n",
    "plt.show()"
   ]
  },
  {
   "cell_type": "markdown",
   "metadata": {},
   "source": [
    "## 04. Compare frequencies of taxa seen in paired samples: k-mers vs ORFs vs amplicons"
   ]
  },
  {
   "cell_type": "code",
   "execution_count": 44,
   "metadata": {},
   "outputs": [],
   "source": [
    "os.chdir(\"/Users/nastassiapatin/Desktop/Projects/eCruises_TIMESERIES/Euks-mgns-asvs\")"
   ]
  },
  {
   "cell_type": "markdown",
   "metadata": {},
   "source": [
    "#### Load file showing paired sample names and turn pairs into a dictionary"
   ]
  },
  {
   "cell_type": "code",
   "execution_count": 207,
   "metadata": {},
   "outputs": [
    {
     "ename": "FileNotFoundError",
     "evalue": "[Errno 2] No such file or directory: 'eCruises2018_2019_mgn_asv_paired_samples.csv'",
     "output_type": "error",
     "traceback": [
      "\u001b[0;31m---------------------------------------------------------------------------\u001b[0m",
      "\u001b[0;31mFileNotFoundError\u001b[0m                         Traceback (most recent call last)",
      "Cell \u001b[0;32mIn[207], line 2\u001b[0m\n\u001b[1;32m      1\u001b[0m file \u001b[38;5;241m=\u001b[39m \u001b[38;5;124m'\u001b[39m\u001b[38;5;124meCruises2018_2019_mgn_asv_paired_samples.csv\u001b[39m\u001b[38;5;124m'\u001b[39m\n\u001b[0;32m----> 2\u001b[0m pairs \u001b[38;5;241m=\u001b[39m \u001b[43mpd\u001b[49m\u001b[38;5;241;43m.\u001b[39;49m\u001b[43mread_csv\u001b[49m\u001b[43m(\u001b[49m\u001b[43mfile\u001b[49m\u001b[43m)\u001b[49m\n\u001b[1;32m      3\u001b[0m pairs\u001b[38;5;241m.\u001b[39mhead(\u001b[38;5;241m3\u001b[39m)\n",
      "File \u001b[0;32m~/Library/Python/3.9/lib/python/site-packages/pandas/io/parsers/readers.py:912\u001b[0m, in \u001b[0;36mread_csv\u001b[0;34m(filepath_or_buffer, sep, delimiter, header, names, index_col, usecols, dtype, engine, converters, true_values, false_values, skipinitialspace, skiprows, skipfooter, nrows, na_values, keep_default_na, na_filter, verbose, skip_blank_lines, parse_dates, infer_datetime_format, keep_date_col, date_parser, date_format, dayfirst, cache_dates, iterator, chunksize, compression, thousands, decimal, lineterminator, quotechar, quoting, doublequote, escapechar, comment, encoding, encoding_errors, dialect, on_bad_lines, delim_whitespace, low_memory, memory_map, float_precision, storage_options, dtype_backend)\u001b[0m\n\u001b[1;32m    899\u001b[0m kwds_defaults \u001b[38;5;241m=\u001b[39m _refine_defaults_read(\n\u001b[1;32m    900\u001b[0m     dialect,\n\u001b[1;32m    901\u001b[0m     delimiter,\n\u001b[0;32m   (...)\u001b[0m\n\u001b[1;32m    908\u001b[0m     dtype_backend\u001b[38;5;241m=\u001b[39mdtype_backend,\n\u001b[1;32m    909\u001b[0m )\n\u001b[1;32m    910\u001b[0m kwds\u001b[38;5;241m.\u001b[39mupdate(kwds_defaults)\n\u001b[0;32m--> 912\u001b[0m \u001b[38;5;28;01mreturn\u001b[39;00m \u001b[43m_read\u001b[49m\u001b[43m(\u001b[49m\u001b[43mfilepath_or_buffer\u001b[49m\u001b[43m,\u001b[49m\u001b[43m \u001b[49m\u001b[43mkwds\u001b[49m\u001b[43m)\u001b[49m\n",
      "File \u001b[0;32m~/Library/Python/3.9/lib/python/site-packages/pandas/io/parsers/readers.py:577\u001b[0m, in \u001b[0;36m_read\u001b[0;34m(filepath_or_buffer, kwds)\u001b[0m\n\u001b[1;32m    574\u001b[0m _validate_names(kwds\u001b[38;5;241m.\u001b[39mget(\u001b[38;5;124m\"\u001b[39m\u001b[38;5;124mnames\u001b[39m\u001b[38;5;124m\"\u001b[39m, \u001b[38;5;28;01mNone\u001b[39;00m))\n\u001b[1;32m    576\u001b[0m \u001b[38;5;66;03m# Create the parser.\u001b[39;00m\n\u001b[0;32m--> 577\u001b[0m parser \u001b[38;5;241m=\u001b[39m \u001b[43mTextFileReader\u001b[49m\u001b[43m(\u001b[49m\u001b[43mfilepath_or_buffer\u001b[49m\u001b[43m,\u001b[49m\u001b[43m \u001b[49m\u001b[38;5;241;43m*\u001b[39;49m\u001b[38;5;241;43m*\u001b[39;49m\u001b[43mkwds\u001b[49m\u001b[43m)\u001b[49m\n\u001b[1;32m    579\u001b[0m \u001b[38;5;28;01mif\u001b[39;00m chunksize \u001b[38;5;129;01mor\u001b[39;00m iterator:\n\u001b[1;32m    580\u001b[0m     \u001b[38;5;28;01mreturn\u001b[39;00m parser\n",
      "File \u001b[0;32m~/Library/Python/3.9/lib/python/site-packages/pandas/io/parsers/readers.py:1407\u001b[0m, in \u001b[0;36mTextFileReader.__init__\u001b[0;34m(self, f, engine, **kwds)\u001b[0m\n\u001b[1;32m   1404\u001b[0m     \u001b[38;5;28mself\u001b[39m\u001b[38;5;241m.\u001b[39moptions[\u001b[38;5;124m\"\u001b[39m\u001b[38;5;124mhas_index_names\u001b[39m\u001b[38;5;124m\"\u001b[39m] \u001b[38;5;241m=\u001b[39m kwds[\u001b[38;5;124m\"\u001b[39m\u001b[38;5;124mhas_index_names\u001b[39m\u001b[38;5;124m\"\u001b[39m]\n\u001b[1;32m   1406\u001b[0m \u001b[38;5;28mself\u001b[39m\u001b[38;5;241m.\u001b[39mhandles: IOHandles \u001b[38;5;241m|\u001b[39m \u001b[38;5;28;01mNone\u001b[39;00m \u001b[38;5;241m=\u001b[39m \u001b[38;5;28;01mNone\u001b[39;00m\n\u001b[0;32m-> 1407\u001b[0m \u001b[38;5;28mself\u001b[39m\u001b[38;5;241m.\u001b[39m_engine \u001b[38;5;241m=\u001b[39m \u001b[38;5;28;43mself\u001b[39;49m\u001b[38;5;241;43m.\u001b[39;49m\u001b[43m_make_engine\u001b[49m\u001b[43m(\u001b[49m\u001b[43mf\u001b[49m\u001b[43m,\u001b[49m\u001b[43m \u001b[49m\u001b[38;5;28;43mself\u001b[39;49m\u001b[38;5;241;43m.\u001b[39;49m\u001b[43mengine\u001b[49m\u001b[43m)\u001b[49m\n",
      "File \u001b[0;32m~/Library/Python/3.9/lib/python/site-packages/pandas/io/parsers/readers.py:1661\u001b[0m, in \u001b[0;36mTextFileReader._make_engine\u001b[0;34m(self, f, engine)\u001b[0m\n\u001b[1;32m   1659\u001b[0m     \u001b[38;5;28;01mif\u001b[39;00m \u001b[38;5;124m\"\u001b[39m\u001b[38;5;124mb\u001b[39m\u001b[38;5;124m\"\u001b[39m \u001b[38;5;129;01mnot\u001b[39;00m \u001b[38;5;129;01min\u001b[39;00m mode:\n\u001b[1;32m   1660\u001b[0m         mode \u001b[38;5;241m+\u001b[39m\u001b[38;5;241m=\u001b[39m \u001b[38;5;124m\"\u001b[39m\u001b[38;5;124mb\u001b[39m\u001b[38;5;124m\"\u001b[39m\n\u001b[0;32m-> 1661\u001b[0m \u001b[38;5;28mself\u001b[39m\u001b[38;5;241m.\u001b[39mhandles \u001b[38;5;241m=\u001b[39m \u001b[43mget_handle\u001b[49m\u001b[43m(\u001b[49m\n\u001b[1;32m   1662\u001b[0m \u001b[43m    \u001b[49m\u001b[43mf\u001b[49m\u001b[43m,\u001b[49m\n\u001b[1;32m   1663\u001b[0m \u001b[43m    \u001b[49m\u001b[43mmode\u001b[49m\u001b[43m,\u001b[49m\n\u001b[1;32m   1664\u001b[0m \u001b[43m    \u001b[49m\u001b[43mencoding\u001b[49m\u001b[38;5;241;43m=\u001b[39;49m\u001b[38;5;28;43mself\u001b[39;49m\u001b[38;5;241;43m.\u001b[39;49m\u001b[43moptions\u001b[49m\u001b[38;5;241;43m.\u001b[39;49m\u001b[43mget\u001b[49m\u001b[43m(\u001b[49m\u001b[38;5;124;43m\"\u001b[39;49m\u001b[38;5;124;43mencoding\u001b[39;49m\u001b[38;5;124;43m\"\u001b[39;49m\u001b[43m,\u001b[49m\u001b[43m \u001b[49m\u001b[38;5;28;43;01mNone\u001b[39;49;00m\u001b[43m)\u001b[49m\u001b[43m,\u001b[49m\n\u001b[1;32m   1665\u001b[0m \u001b[43m    \u001b[49m\u001b[43mcompression\u001b[49m\u001b[38;5;241;43m=\u001b[39;49m\u001b[38;5;28;43mself\u001b[39;49m\u001b[38;5;241;43m.\u001b[39;49m\u001b[43moptions\u001b[49m\u001b[38;5;241;43m.\u001b[39;49m\u001b[43mget\u001b[49m\u001b[43m(\u001b[49m\u001b[38;5;124;43m\"\u001b[39;49m\u001b[38;5;124;43mcompression\u001b[39;49m\u001b[38;5;124;43m\"\u001b[39;49m\u001b[43m,\u001b[49m\u001b[43m \u001b[49m\u001b[38;5;28;43;01mNone\u001b[39;49;00m\u001b[43m)\u001b[49m\u001b[43m,\u001b[49m\n\u001b[1;32m   1666\u001b[0m \u001b[43m    \u001b[49m\u001b[43mmemory_map\u001b[49m\u001b[38;5;241;43m=\u001b[39;49m\u001b[38;5;28;43mself\u001b[39;49m\u001b[38;5;241;43m.\u001b[39;49m\u001b[43moptions\u001b[49m\u001b[38;5;241;43m.\u001b[39;49m\u001b[43mget\u001b[49m\u001b[43m(\u001b[49m\u001b[38;5;124;43m\"\u001b[39;49m\u001b[38;5;124;43mmemory_map\u001b[39;49m\u001b[38;5;124;43m\"\u001b[39;49m\u001b[43m,\u001b[49m\u001b[43m \u001b[49m\u001b[38;5;28;43;01mFalse\u001b[39;49;00m\u001b[43m)\u001b[49m\u001b[43m,\u001b[49m\n\u001b[1;32m   1667\u001b[0m \u001b[43m    \u001b[49m\u001b[43mis_text\u001b[49m\u001b[38;5;241;43m=\u001b[39;49m\u001b[43mis_text\u001b[49m\u001b[43m,\u001b[49m\n\u001b[1;32m   1668\u001b[0m \u001b[43m    \u001b[49m\u001b[43merrors\u001b[49m\u001b[38;5;241;43m=\u001b[39;49m\u001b[38;5;28;43mself\u001b[39;49m\u001b[38;5;241;43m.\u001b[39;49m\u001b[43moptions\u001b[49m\u001b[38;5;241;43m.\u001b[39;49m\u001b[43mget\u001b[49m\u001b[43m(\u001b[49m\u001b[38;5;124;43m\"\u001b[39;49m\u001b[38;5;124;43mencoding_errors\u001b[39;49m\u001b[38;5;124;43m\"\u001b[39;49m\u001b[43m,\u001b[49m\u001b[43m \u001b[49m\u001b[38;5;124;43m\"\u001b[39;49m\u001b[38;5;124;43mstrict\u001b[39;49m\u001b[38;5;124;43m\"\u001b[39;49m\u001b[43m)\u001b[49m\u001b[43m,\u001b[49m\n\u001b[1;32m   1669\u001b[0m \u001b[43m    \u001b[49m\u001b[43mstorage_options\u001b[49m\u001b[38;5;241;43m=\u001b[39;49m\u001b[38;5;28;43mself\u001b[39;49m\u001b[38;5;241;43m.\u001b[39;49m\u001b[43moptions\u001b[49m\u001b[38;5;241;43m.\u001b[39;49m\u001b[43mget\u001b[49m\u001b[43m(\u001b[49m\u001b[38;5;124;43m\"\u001b[39;49m\u001b[38;5;124;43mstorage_options\u001b[39;49m\u001b[38;5;124;43m\"\u001b[39;49m\u001b[43m,\u001b[49m\u001b[43m \u001b[49m\u001b[38;5;28;43;01mNone\u001b[39;49;00m\u001b[43m)\u001b[49m\u001b[43m,\u001b[49m\n\u001b[1;32m   1670\u001b[0m \u001b[43m\u001b[49m\u001b[43m)\u001b[49m\n\u001b[1;32m   1671\u001b[0m \u001b[38;5;28;01massert\u001b[39;00m \u001b[38;5;28mself\u001b[39m\u001b[38;5;241m.\u001b[39mhandles \u001b[38;5;129;01mis\u001b[39;00m \u001b[38;5;129;01mnot\u001b[39;00m \u001b[38;5;28;01mNone\u001b[39;00m\n\u001b[1;32m   1672\u001b[0m f \u001b[38;5;241m=\u001b[39m \u001b[38;5;28mself\u001b[39m\u001b[38;5;241m.\u001b[39mhandles\u001b[38;5;241m.\u001b[39mhandle\n",
      "File \u001b[0;32m~/Library/Python/3.9/lib/python/site-packages/pandas/io/common.py:859\u001b[0m, in \u001b[0;36mget_handle\u001b[0;34m(path_or_buf, mode, encoding, compression, memory_map, is_text, errors, storage_options)\u001b[0m\n\u001b[1;32m    854\u001b[0m \u001b[38;5;28;01melif\u001b[39;00m \u001b[38;5;28misinstance\u001b[39m(handle, \u001b[38;5;28mstr\u001b[39m):\n\u001b[1;32m    855\u001b[0m     \u001b[38;5;66;03m# Check whether the filename is to be opened in binary mode.\u001b[39;00m\n\u001b[1;32m    856\u001b[0m     \u001b[38;5;66;03m# Binary mode does not support 'encoding' and 'newline'.\u001b[39;00m\n\u001b[1;32m    857\u001b[0m     \u001b[38;5;28;01mif\u001b[39;00m ioargs\u001b[38;5;241m.\u001b[39mencoding \u001b[38;5;129;01mand\u001b[39;00m \u001b[38;5;124m\"\u001b[39m\u001b[38;5;124mb\u001b[39m\u001b[38;5;124m\"\u001b[39m \u001b[38;5;129;01mnot\u001b[39;00m \u001b[38;5;129;01min\u001b[39;00m ioargs\u001b[38;5;241m.\u001b[39mmode:\n\u001b[1;32m    858\u001b[0m         \u001b[38;5;66;03m# Encoding\u001b[39;00m\n\u001b[0;32m--> 859\u001b[0m         handle \u001b[38;5;241m=\u001b[39m \u001b[38;5;28;43mopen\u001b[39;49m\u001b[43m(\u001b[49m\n\u001b[1;32m    860\u001b[0m \u001b[43m            \u001b[49m\u001b[43mhandle\u001b[49m\u001b[43m,\u001b[49m\n\u001b[1;32m    861\u001b[0m \u001b[43m            \u001b[49m\u001b[43mioargs\u001b[49m\u001b[38;5;241;43m.\u001b[39;49m\u001b[43mmode\u001b[49m\u001b[43m,\u001b[49m\n\u001b[1;32m    862\u001b[0m \u001b[43m            \u001b[49m\u001b[43mencoding\u001b[49m\u001b[38;5;241;43m=\u001b[39;49m\u001b[43mioargs\u001b[49m\u001b[38;5;241;43m.\u001b[39;49m\u001b[43mencoding\u001b[49m\u001b[43m,\u001b[49m\n\u001b[1;32m    863\u001b[0m \u001b[43m            \u001b[49m\u001b[43merrors\u001b[49m\u001b[38;5;241;43m=\u001b[39;49m\u001b[43merrors\u001b[49m\u001b[43m,\u001b[49m\n\u001b[1;32m    864\u001b[0m \u001b[43m            \u001b[49m\u001b[43mnewline\u001b[49m\u001b[38;5;241;43m=\u001b[39;49m\u001b[38;5;124;43m\"\u001b[39;49m\u001b[38;5;124;43m\"\u001b[39;49m\u001b[43m,\u001b[49m\n\u001b[1;32m    865\u001b[0m \u001b[43m        \u001b[49m\u001b[43m)\u001b[49m\n\u001b[1;32m    866\u001b[0m     \u001b[38;5;28;01melse\u001b[39;00m:\n\u001b[1;32m    867\u001b[0m         \u001b[38;5;66;03m# Binary mode\u001b[39;00m\n\u001b[1;32m    868\u001b[0m         handle \u001b[38;5;241m=\u001b[39m \u001b[38;5;28mopen\u001b[39m(handle, ioargs\u001b[38;5;241m.\u001b[39mmode)\n",
      "\u001b[0;31mFileNotFoundError\u001b[0m: [Errno 2] No such file or directory: 'eCruises2018_2019_mgn_asv_paired_samples.csv'"
     ]
    }
   ],
   "source": [
    "file = 'eCruises2018_2019_mgn_asv_paired_samples.csv'\n",
    "pairs = pd.read_csv(file)\n",
    "pairs.head(3)"
   ]
  },
  {
   "cell_type": "code",
   "execution_count": 46,
   "metadata": {},
   "outputs": [],
   "source": [
    "def combine_ASV_metagenome_freqs(sample_key, mgn_df, asv_df, marker_gene, taxon):\n",
    "    asv_df = asv_df.rename(columns={'%s sample' % marker_gene: 'ASV sample'})\n",
    "    asv_df_taxon = pd.DataFrame(asv_df[['%s' % taxon, \n",
    "                                        'ASV sample', \n",
    "                                        '%s reads' % marker_gene]].groupby(['%s' % taxon,\n",
    "                                                                           'ASV sample'],\n",
    "                                                                           as_index=False).sum())\n",
    "    df_tax_asvs_paired = asv_df_taxon.merge(sample_key, how='left', on='ASV sample')\n",
    "    df_tax_mgns_paired = mgn_df.merge(sample_key, how='left', on='Metagenome sample')\n",
    "    return(df_tax_asvs_paired, df_tax_mgns_paired)"
   ]
  },
  {
   "cell_type": "code",
   "execution_count": 47,
   "metadata": {},
   "outputs": [],
   "source": [
    "asvs, mgns = combine_ASV_metagenome_freqs(pairs, \n",
    "                                          df_tax_mgns, \n",
    "                                          df_freq_18S, \n",
    "                                          '18S', \n",
    "                                          'Class')"
   ]
  },
  {
   "cell_type": "code",
   "execution_count": 48,
   "metadata": {},
   "outputs": [
    {
     "data": {
      "text/html": [
       "<div>\n",
       "<style scoped>\n",
       "    .dataframe tbody tr th:only-of-type {\n",
       "        vertical-align: middle;\n",
       "    }\n",
       "\n",
       "    .dataframe tbody tr th {\n",
       "        vertical-align: top;\n",
       "    }\n",
       "\n",
       "    .dataframe thead th {\n",
       "        text-align: right;\n",
       "    }\n",
       "</style>\n",
       "<table border=\"1\" class=\"dataframe\">\n",
       "  <thead>\n",
       "    <tr style=\"text-align: right;\">\n",
       "      <th></th>\n",
       "      <th>Class</th>\n",
       "      <th>ASV sample</th>\n",
       "      <th>18S reads</th>\n",
       "      <th>Metagenome sample</th>\n",
       "    </tr>\n",
       "  </thead>\n",
       "  <tbody>\n",
       "    <tr>\n",
       "      <th>0</th>\n",
       "      <td>Acantharea</td>\n",
       "      <td>CN18FESPkoa_SC24</td>\n",
       "      <td>0.000370</td>\n",
       "      <td>zr2760_52</td>\n",
       "    </tr>\n",
       "    <tr>\n",
       "      <th>1</th>\n",
       "      <td>Acantharea</td>\n",
       "      <td>CN18FESPkoa_SC26</td>\n",
       "      <td>0.000331</td>\n",
       "      <td>zr2760_64</td>\n",
       "    </tr>\n",
       "    <tr>\n",
       "      <th>2</th>\n",
       "      <td>Acantharea</td>\n",
       "      <td>CN18FESPkoa_SC29</td>\n",
       "      <td>0.000839</td>\n",
       "      <td>zr2760_79</td>\n",
       "    </tr>\n",
       "  </tbody>\n",
       "</table>\n",
       "</div>"
      ],
      "text/plain": [
       "        Class        ASV sample  18S reads Metagenome sample\n",
       "0  Acantharea  CN18FESPkoa_SC24   0.000370         zr2760_52\n",
       "1  Acantharea  CN18FESPkoa_SC26   0.000331         zr2760_64\n",
       "2  Acantharea  CN18FESPkoa_SC29   0.000839         zr2760_79"
      ]
     },
     "execution_count": 48,
     "metadata": {},
     "output_type": "execute_result"
    }
   ],
   "source": [
    "asvs.head(3)"
   ]
  },
  {
   "cell_type": "code",
   "execution_count": 49,
   "metadata": {},
   "outputs": [
    {
     "data": {
      "text/plain": [
       "array(['Acantharea', 'Aconoidasida', 'Actinopteri', 'Agaricomycetes',\n",
       "       'Agaricostilbomycetes', 'Anthozoa', 'Aphelidea', 'Appendicularia',\n",
       "       'Ascetosporea', 'Ascidiacea', 'Asteroidea', 'Bacillariophyceae',\n",
       "       'Bangiophyceae', 'Basidiobolomycetes', 'Bigyra', 'Bivalvia',\n",
       "       'Blastocladiomycetes', 'Bolidophyceae', 'Branchiopoda',\n",
       "       'Breviatea', 'Bryopsida', 'Calcarea', 'Centroplasthelida',\n",
       "       'Cephalopoda', 'Charophyceae', 'Chlorarachniophyceae',\n",
       "       'Chlorodendrophyceae', 'Chlorophyceae', 'Chloropicophyceae',\n",
       "       'Choanoflagellata', 'Chrysophyceae', 'Chytridiomycetes',\n",
       "       'Colpodea', 'Conoidasida', 'Coscinodiscophyceae', 'Crinoidea',\n",
       "       'Cryptophyceae', 'Cystobasidiomycetes', 'Demospongiae',\n",
       "       'Dictyochophyceae', 'Dinophyceae', 'Dothideomycetes', 'Echinoidea',\n",
       "       'Elardia', 'Enopla', 'Enteropneusta', 'Euglenida',\n",
       "       'Eurotiomycetes', 'Eustigmatophyceae', 'Exobasidiomycetes',\n",
       "       'Filasterea', 'Flabellinia', 'Florideophyceae',\n",
       "       'Fragilariophyceae', 'Gammaproteobacteria', 'Gastropoda',\n",
       "       'Glomeromycetes', 'Gymnolaemata', 'Haptophyta', 'Hexanauplia',\n",
       "       'Holothuroidea', 'Hydrozoa', 'Ichthyosporea', 'Insecta',\n",
       "       'Katablepharidophyta', 'Kinetoplastea', 'Klebsormidiophyceae',\n",
       "       'Labyrinthulomycetes', 'Lecanoromycetes', 'Leotiomycetes',\n",
       "       'Leptocardii', 'Liliopsida', 'Litostomatea', 'Lycopodiopsida',\n",
       "       'Magnoliopsida', 'Malacostraca', 'Malasseziomycetes',\n",
       "       'Mamiellophyceae', 'Mammalia', 'Mediophyceae',\n",
       "       'Microbotryomycetes', 'Monogenea', 'Monogononta',\n",
       "       'Mortierellomycetes', 'Mucoromycetes', 'Myxozoa', 'Nassophorea',\n",
       "       'Nephroselmidophyceae', 'Nuda', 'Oligohymenophorea', 'Oomycetes',\n",
       "       'Oomycota', 'Ophiuroidea', 'Ostracoda', 'Palaeonemertea',\n",
       "       'Palmophyllophyceae', 'Pedinophyceae', 'Pelagophyceae',\n",
       "       'Pezizomycetes', 'Phaeophyceae', 'Phyllopharyngea', 'Picomonadea',\n",
       "       'Pilidiophora', 'Pinopsida', 'Polychaeta', 'Polycystinea',\n",
       "       'Polyplacophora', 'Prostomatea', 'Pucciniomycetes', 'Pycnogonida',\n",
       "       'Pyramimonadophyceae', 'Raphidophyceae', 'Rhabditophora',\n",
       "       'Rhynchonellata', 'Saccharomycetes', 'Sagittoidea', 'Scaphopoda',\n",
       "       'Scyphozoa', 'Sordariomycetes', 'Spirotrichea', 'Stenolaemata',\n",
       "       'Synurophyceae', 'Tentaculata', 'Thaliacea', 'Thecofilosea',\n",
       "       'Trebouxiophyceae', 'Tremellomycetes', 'Ulvophyceae',\n",
       "       'Ustilaginomycetes', 'Variosea', 'Wallemiomycetes',\n",
       "       'Xanthophyceae', 'unassigned', 'unknown'], dtype=object)"
      ]
     },
     "execution_count": 49,
     "metadata": {},
     "output_type": "execute_result"
    }
   ],
   "source": [
    "asvs['Class'].unique()"
   ]
  },
  {
   "cell_type": "code",
   "execution_count": 65,
   "metadata": {},
   "outputs": [
    {
     "data": {
      "text/html": [
       "<div>\n",
       "<style scoped>\n",
       "    .dataframe tbody tr th:only-of-type {\n",
       "        vertical-align: middle;\n",
       "    }\n",
       "\n",
       "    .dataframe tbody tr th {\n",
       "        vertical-align: top;\n",
       "    }\n",
       "\n",
       "    .dataframe thead th {\n",
       "        text-align: right;\n",
       "    }\n",
       "</style>\n",
       "<table border=\"1\" class=\"dataframe\">\n",
       "  <thead>\n",
       "    <tr style=\"text-align: right;\">\n",
       "      <th></th>\n",
       "      <th>Class</th>\n",
       "      <th>bp_fraction</th>\n",
       "      <th>Metagenome sample</th>\n",
       "      <th>ASV sample</th>\n",
       "    </tr>\n",
       "  </thead>\n",
       "  <tbody>\n",
       "    <tr>\n",
       "      <th>0</th>\n",
       "      <td>Coscinodiscophyceae</td>\n",
       "      <td>0.638312</td>\n",
       "      <td>D0275A_S58</td>\n",
       "      <td>NaN</td>\n",
       "    </tr>\n",
       "    <tr>\n",
       "      <th>1</th>\n",
       "      <td>Prasinophyceae</td>\n",
       "      <td>0.135924</td>\n",
       "      <td>D0275A_S58</td>\n",
       "      <td>NaN</td>\n",
       "    </tr>\n",
       "    <tr>\n",
       "      <th>2</th>\n",
       "      <td>Spirotrichea</td>\n",
       "      <td>0.063909</td>\n",
       "      <td>D0275A_S58</td>\n",
       "      <td>NaN</td>\n",
       "    </tr>\n",
       "  </tbody>\n",
       "</table>\n",
       "</div>"
      ],
      "text/plain": [
       "                 Class  bp_fraction Metagenome sample ASV sample\n",
       "0  Coscinodiscophyceae     0.638312        D0275A_S58        NaN\n",
       "1       Prasinophyceae     0.135924        D0275A_S58        NaN\n",
       "2         Spirotrichea     0.063909        D0275A_S58        NaN"
      ]
     },
     "execution_count": 65,
     "metadata": {},
     "output_type": "execute_result"
    }
   ],
   "source": [
    "mgns.head(3)"
   ]
  },
  {
   "cell_type": "markdown",
   "metadata": {},
   "source": [
    "#### Extract taxa seen ONLY in matched sample pairs"
   ]
  },
  {
   "cell_type": "code",
   "execution_count": 66,
   "metadata": {},
   "outputs": [
    {
     "data": {
      "text/html": [
       "<div>\n",
       "<style scoped>\n",
       "    .dataframe tbody tr th:only-of-type {\n",
       "        vertical-align: middle;\n",
       "    }\n",
       "\n",
       "    .dataframe tbody tr th {\n",
       "        vertical-align: top;\n",
       "    }\n",
       "\n",
       "    .dataframe thead th {\n",
       "        text-align: right;\n",
       "    }\n",
       "</style>\n",
       "<table border=\"1\" class=\"dataframe\">\n",
       "  <thead>\n",
       "    <tr style=\"text-align: right;\">\n",
       "      <th></th>\n",
       "      <th>Class</th>\n",
       "      <th>bp_fraction</th>\n",
       "      <th>Metagenome sample</th>\n",
       "      <th>ASV sample</th>\n",
       "      <th>18S reads</th>\n",
       "    </tr>\n",
       "  </thead>\n",
       "  <tbody>\n",
       "    <tr>\n",
       "      <th>0</th>\n",
       "      <td>Pelagophyceae</td>\n",
       "      <td>0.176264</td>\n",
       "      <td>zr2760_40</td>\n",
       "      <td>CN18Fc33_5_eDNA</td>\n",
       "      <td>0.000519</td>\n",
       "    </tr>\n",
       "    <tr>\n",
       "      <th>1</th>\n",
       "      <td>Coscinodiscophyceae</td>\n",
       "      <td>0.098081</td>\n",
       "      <td>zr2760_40</td>\n",
       "      <td>CN18Fc33_5_eDNA</td>\n",
       "      <td>0.008616</td>\n",
       "    </tr>\n",
       "    <tr>\n",
       "      <th>2</th>\n",
       "      <td>Mamiellophyceae</td>\n",
       "      <td>0.062968</td>\n",
       "      <td>zr2760_40</td>\n",
       "      <td>CN18Fc33_5_eDNA</td>\n",
       "      <td>0.002431</td>\n",
       "    </tr>\n",
       "  </tbody>\n",
       "</table>\n",
       "</div>"
      ],
      "text/plain": [
       "                 Class  bp_fraction Metagenome sample       ASV sample  \\\n",
       "0        Pelagophyceae     0.176264         zr2760_40  CN18Fc33_5_eDNA   \n",
       "1  Coscinodiscophyceae     0.098081         zr2760_40  CN18Fc33_5_eDNA   \n",
       "2      Mamiellophyceae     0.062968         zr2760_40  CN18Fc33_5_eDNA   \n",
       "\n",
       "   18S reads  \n",
       "0   0.000519  \n",
       "1   0.008616  \n",
       "2   0.002431  "
      ]
     },
     "execution_count": 66,
     "metadata": {},
     "output_type": "execute_result"
    }
   ],
   "source": [
    "df_tax_pairmatches = mgns.merge(asvs, how='inner', \n",
    "                                            on=['Class', 'ASV sample', \n",
    "                                                'Metagenome sample'])\n",
    "df_tax_pairmatches.head(3)"
   ]
  },
  {
   "cell_type": "code",
   "execution_count": 67,
   "metadata": {},
   "outputs": [
    {
     "data": {
      "text/plain": [
       "dtype('float64')"
      ]
     },
     "execution_count": 67,
     "metadata": {},
     "output_type": "execute_result"
    }
   ],
   "source": [
    "# need to do this for the reg plot, not for the scatter plot\n",
    "df_tax_pairmatches['18S reads'] = pd.to_numeric(df_tax_pairmatches['18S reads'])\n",
    "df_tax_pairmatches['18S reads'].dtype"
   ]
  },
  {
   "cell_type": "markdown",
   "metadata": {},
   "source": [
    "## 04. Plot frequencies of taxa seen in both data sets against each other"
   ]
  },
  {
   "cell_type": "code",
   "execution_count": 70,
   "metadata": {},
   "outputs": [
    {
     "data": {
      "image/png": "[encoded data removed]",
      "text/plain": [
       "<Figure size 1205.5x600 with 1 Axes>"
      ]
     },
     "metadata": {},
     "output_type": "display_data"
    }
   ],
   "source": [
    "#plt.figure(figsize=(12,8))\n",
    "sns.set(font_scale = 1.5)\n",
    "sns.set_style('white')\n",
    "sns.set_palette(sns.color_palette('colorblind'))\n",
    "\n",
    "# scatter plot with ASV frequency on x axis and metagenome frequency on y axis\n",
    "#scatter = sns.scatterplot(data=df_gen_pairmatches, x='ASV Frequency',  \n",
    " #                         y='bp_fraction', color='darkblue', hue='Family', alpha=1) # size='Size'\n",
    "\n",
    "# scatter plot with regression line\n",
    "sns.lmplot(data=df_tax_pairmatches, x='18S reads', y='bp_fraction',\n",
    "           height=6, aspect=1.5, hue='Class')\n",
    "#plt.show()\n",
    "\n",
    "plt.ylabel('Fraction of eukaryotic fraction of metagenome', size=18)\n",
    "plt.xlabel('Fraction of ASVs', size=18)\n",
    "\n",
    "plt.ylim(0, 1.05)\n",
    "plt.xlim(0, 0.75)\n",
    "plt.savefig('eCruises2018_2019_classes_fraction_18S_vs_mgns_regression.png', format='png', \n",
    "            dpi=1200, bbox_inches='tight')"
   ]
  },
  {
   "cell_type": "markdown",
   "metadata": {},
   "source": [
    "## 05. Compare frequencies of taxa seen in paired samples: ORFs vs amplicons"
   ]
  },
  {
   "cell_type": "code",
   "execution_count": null,
   "metadata": {},
   "outputs": [],
   "source": []
  }
 ],
 "metadata": {
  "kernelspec": {
   "display_name": "Python 3 (ipykernel)",
   "language": "python",
   "name": "python3"
  },
  "language_info": {
   "codemirror_mode": {
    "name": "ipython",
    "version": 3
   },
   "file_extension": ".py",
   "mimetype": "text/x-python",
   "name": "python",
   "nbconvert_exporter": "python",
   "pygments_lexer": "ipython3",
   "version": "3.9.6"
  }
 },
 "nbformat": 4,
 "nbformat_minor": 4
}
