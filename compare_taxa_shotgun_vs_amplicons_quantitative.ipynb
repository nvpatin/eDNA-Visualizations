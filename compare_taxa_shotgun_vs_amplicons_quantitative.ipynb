{
 "cells": [
  {
   "cell_type": "markdown",
   "metadata": {},
   "source": [
    "# This notebook compares eukaryotic taxa seen in shotgun metagenomes with those in metabarcoding sequence data. It is designed to use the output of sourmash for shotgun metagenomes and DADA2, BLAST, and MEGAN LCA for metabarcoding data. In this example, sourmash databases were GTDB and MMETSP and BLAST database were NCBI-nr."
   ]
  },
  {
   "cell_type": "markdown",
   "metadata": {},
   "source": [
    "### This is currently written to assess taxa at the class level, but can be modified for other levels of taxonomic resolution."
   ]
  },
  {
   "cell_type": "code",
   "execution_count": 1,
   "metadata": {},
   "outputs": [],
   "source": [
    "import pandas as pd\n",
    "import os as os\n",
    "import glob as glob\n",
    "import numpy as np\n",
    "import functools as ft\n",
    "import matplotlib.pyplot as plt\n",
    "import matplotlib.patches as mpatches\n",
    "import seaborn as sns"
   ]
  },
  {
   "cell_type": "markdown",
   "metadata": {},
   "source": [
    "## 01. Shotgun  metagenomes: Compile lists of observed taxa"
   ]
  },
  {
   "cell_type": "markdown",
   "metadata": {},
   "source": [
    "### Function to generate domain- and genus-level data"
   ]
  },
  {
   "cell_type": "code",
   "execution_count": 2,
   "metadata": {},
   "outputs": [],
   "source": [
    "def compile_taxa_lists(file, sample):\n",
    "    tax = pd.read_csv(file)\n",
    "    names = ['query name','rank','fraction','lineage','query_md5','query_filename',\n",
    "         'f_weighted_at_rank','bp_match_at_rank']\n",
    "    tax.columns = names\n",
    "    # Get total number of bps in metagenome\n",
    "    superk = tax[(tax['rank'] == 'superkingdom')]\n",
    "    total_bps = superk['bp_match_at_rank'].sum()\n",
    "    # Get eukaryotic bps in metagenome\n",
    "    if tax['lineage'].isin(['Eukaryota']).any():\n",
    "        euk_bps = tax[(tax['rank'] == 'superkingdom') & (tax['lineage'] == 'Eukaryota')]['bp_match_at_rank'].item()\n",
    "    else:\n",
    "        euk_bps = 0\n",
    "    # Make dataframe with sample name and bps\n",
    "    sample_bps = pd.DataFrame({'Sample' : pd.Series(a, dtype='str'), \n",
    "                           'total_bps': pd.Series(total_bps, dtype='int'),\n",
    "                           'euk_bps': pd.Series(euk_bps, dtype='int')}) \n",
    "    tax = tax[tax['rank'] == 'class'] # this can be changed to any taxonomic level\n",
    "    lineage = tax[['lineage', 'bp_match_at_rank']].copy()\n",
    "    # n should be changed to however many ranks are in the desired taxonomic level\n",
    "    lineage[['Domain','Phylum','Class']] = lineage['lineage'].str.split(';', \n",
    "                                                                        n=3, expand=True)\n",
    "    # Filter for eukaryotic classifications only\n",
    "    euks = lineage.loc[lineage['Domain'] == 'Eukaryota']\n",
    "    # Change this to whatever taxonomic rank; currently set at 'Class'\n",
    "    tax_level = euks[['Class','bp_match_at_rank']].set_index('Class')\n",
    "    # Divide by euk bps to get taxon fraction of eukaryotic fraction\n",
    "    # Divide by total bps to get taxon fraction of total metagenome\n",
    "    tax_level['bp_fraction'] = tax_level['bp_match_at_rank'].div(euk_bps)\n",
    "    tax_level = tax_level.drop(columns=['bp_match_at_rank'])\n",
    "    tax_level['Metagenome sample'] = sample\n",
    "    return(tax_level, sample_bps)"
   ]
  },
  {
   "cell_type": "markdown",
   "metadata": {},
   "source": [
    "### Apply functions to all samples in a directory"
   ]
  },
  {
   "cell_type": "code",
   "execution_count": 9,
   "metadata": {},
   "outputs": [],
   "source": [
    "# Change this directory for each data set\n",
    "#os.chdir(\"/Users/nastassia.patin/GitHub/eDNA-Visualizations/Euks_mgns_asvs_data/sourmash_summaries/Flyer2018\")\n",
    "#os.chdir(\"/Users/nastassia.patin/GitHub/eDNA-Visualizations/Euks_mgns_asvs_data/sourmash_summaries/RREAS2018\")\n",
    "os.chdir(\"/Users/nastassia.patin/GitHub/eDNA-Visualizations/Euks_mgns_asvs_data/sourmash_summaries/RREAS2019\")"
   ]
  },
  {
   "cell_type": "code",
   "execution_count": 10,
   "metadata": {},
   "outputs": [],
   "source": [
    "# empty data frame for taxon-level observations\n",
    "df_tax_mgns = []\n",
    "# empty data frame for all eukaryotic reads and base pairs\n",
    "df_sample_bps = []\n",
    "\n",
    "for file in glob.glob('*summarized.csv'):\n",
    "    a, b = file.split('_int')\n",
    "    tax, bps = compile_taxa_lists(file, a)\n",
    "    df_tax_mgns.append(tax)\n",
    "    df_sample_bps.append(bps)\n",
    "    \n",
    "df_tax_mgns = pd.concat(df_tax_mgns)\n",
    "df_sample_bps = pd.concat(df_sample_bps)"
   ]
  },
  {
   "cell_type": "markdown",
   "metadata": {},
   "source": [
    "#### Assign identifiers to dataframes and repeat the process for other data sets"
   ]
  },
  {
   "cell_type": "code",
   "execution_count": 5,
   "metadata": {},
   "outputs": [],
   "source": [
    "df_tax_mgns_Flyer2018 = df_tax_mgns\n",
    "df_sample_bps_Flyer2018 = df_sample_bps"
   ]
  },
  {
   "cell_type": "code",
   "execution_count": 8,
   "metadata": {},
   "outputs": [],
   "source": [
    "df_tax_mgns_RREAS2018 = df_tax_mgns\n",
    "df_sample_bps_RREAS2018 = df_sample_bps"
   ]
  },
  {
   "cell_type": "code",
   "execution_count": 11,
   "metadata": {},
   "outputs": [],
   "source": [
    "df_tax_mgns_RREAS2019 = df_tax_mgns\n",
    "df_sample_bps_RREAS2019 = df_sample_bps"
   ]
  },
  {
   "cell_type": "markdown",
   "metadata": {},
   "source": [
    "#### Combine all dataframes"
   ]
  },
  {
   "cell_type": "code",
   "execution_count": 12,
   "metadata": {},
   "outputs": [
    {
     "data": {
      "text/html": [
       "<div>\n",
       "<style scoped>\n",
       "    .dataframe tbody tr th:only-of-type {\n",
       "        vertical-align: middle;\n",
       "    }\n",
       "\n",
       "    .dataframe tbody tr th {\n",
       "        vertical-align: top;\n",
       "    }\n",
       "\n",
       "    .dataframe thead th {\n",
       "        text-align: right;\n",
       "    }\n",
       "</style>\n",
       "<table border=\"1\" class=\"dataframe\">\n",
       "  <thead>\n",
       "    <tr style=\"text-align: right;\">\n",
       "      <th></th>\n",
       "      <th>Class</th>\n",
       "      <th>bp_fraction</th>\n",
       "      <th>Metagenome sample</th>\n",
       "    </tr>\n",
       "  </thead>\n",
       "  <tbody>\n",
       "    <tr>\n",
       "      <th>0</th>\n",
       "      <td>Coscinodiscophyceae</td>\n",
       "      <td>0.638312</td>\n",
       "      <td>D0275A_S58</td>\n",
       "    </tr>\n",
       "    <tr>\n",
       "      <th>1</th>\n",
       "      <td>Prasinophyceae</td>\n",
       "      <td>0.135924</td>\n",
       "      <td>D0275A_S58</td>\n",
       "    </tr>\n",
       "    <tr>\n",
       "      <th>2</th>\n",
       "      <td>Spirotrichea</td>\n",
       "      <td>0.063909</td>\n",
       "      <td>D0275A_S58</td>\n",
       "    </tr>\n",
       "  </tbody>\n",
       "</table>\n",
       "</div>"
      ],
      "text/plain": [
       "                 Class  bp_fraction Metagenome sample\n",
       "0  Coscinodiscophyceae     0.638312        D0275A_S58\n",
       "1       Prasinophyceae     0.135924        D0275A_S58\n",
       "2         Spirotrichea     0.063909        D0275A_S58"
      ]
     },
     "execution_count": 12,
     "metadata": {},
     "output_type": "execute_result"
    }
   ],
   "source": [
    "# taxonomy\n",
    "df_tax_mgns = pd.concat([df_tax_mgns_RREAS2018, \n",
    "                         df_tax_mgns_Flyer2018, df_tax_mgns_RREAS2019], \n",
    "                        axis=0).reset_index()\n",
    "df_tax_mgns.head(3)"
   ]
  },
  {
   "cell_type": "code",
   "execution_count": 14,
   "metadata": {},
   "outputs": [
    {
     "data": {
      "text/html": [
       "<div>\n",
       "<style scoped>\n",
       "    .dataframe tbody tr th:only-of-type {\n",
       "        vertical-align: middle;\n",
       "    }\n",
       "\n",
       "    .dataframe tbody tr th {\n",
       "        vertical-align: top;\n",
       "    }\n",
       "\n",
       "    .dataframe thead th {\n",
       "        text-align: right;\n",
       "    }\n",
       "</style>\n",
       "<table border=\"1\" class=\"dataframe\">\n",
       "  <thead>\n",
       "    <tr style=\"text-align: right;\">\n",
       "      <th></th>\n",
       "      <th>Sample</th>\n",
       "      <th>total_bps</th>\n",
       "      <th>euk_bps</th>\n",
       "      <th>euk_bp_fraction</th>\n",
       "    </tr>\n",
       "  </thead>\n",
       "  <tbody>\n",
       "    <tr>\n",
       "      <th>0</th>\n",
       "      <td>D0275A_S58</td>\n",
       "      <td>185074000</td>\n",
       "      <td>18010000</td>\n",
       "      <td>0.097312</td>\n",
       "    </tr>\n",
       "    <tr>\n",
       "      <th>0</th>\n",
       "      <td>D0148A_S38</td>\n",
       "      <td>237230000</td>\n",
       "      <td>3029000</td>\n",
       "      <td>0.012768</td>\n",
       "    </tr>\n",
       "    <tr>\n",
       "      <th>0</th>\n",
       "      <td>D0085A_S13</td>\n",
       "      <td>202588000</td>\n",
       "      <td>1915000</td>\n",
       "      <td>0.009453</td>\n",
       "    </tr>\n",
       "  </tbody>\n",
       "</table>\n",
       "</div>"
      ],
      "text/plain": [
       "       Sample  total_bps   euk_bps  euk_bp_fraction\n",
       "0  D0275A_S58  185074000  18010000         0.097312\n",
       "0  D0148A_S38  237230000   3029000         0.012768\n",
       "0  D0085A_S13  202588000   1915000         0.009453"
      ]
     },
     "execution_count": 14,
     "metadata": {},
     "output_type": "execute_result"
    }
   ],
   "source": [
    "# reads and base pairs\n",
    "df_mgns_bps = pd.concat([df_sample_bps_RREAS2018, \n",
    "                         df_sample_bps_Flyer2018, df_sample_bps_RREAS2019], \n",
    "                        axis=0)\n",
    "df_mgns_bps['euk_bp_fraction'] = df_mgns_bps['euk_bps'] / df_mgns_bps['total_bps']\n",
    "df_mgns_bps.head(3)"
   ]
  },
  {
   "cell_type": "markdown",
   "metadata": {},
   "source": [
    "#### Calculate average fraction of eukaryotic base pairs across all samples"
   ]
  },
  {
   "cell_type": "code",
   "execution_count": 15,
   "metadata": {},
   "outputs": [
    {
     "data": {
      "text/plain": [
       "0.10848123278114398"
      ]
     },
     "execution_count": 15,
     "metadata": {},
     "output_type": "execute_result"
    }
   ],
   "source": [
    "avg_bps = np.average(df_mgns_bps['euk_bp_fraction'])\n",
    "avg_bps"
   ]
  },
  {
   "cell_type": "markdown",
   "metadata": {},
   "source": [
    "#### Calculate average fraction of total reads per sample from fraction of base pairs"
   ]
  },
  {
   "cell_type": "code",
   "execution_count": 16,
   "metadata": {},
   "outputs": [
    {
     "data": {
      "text/plain": [
       "42116990.333333336"
      ]
     },
     "execution_count": 16,
     "metadata": {},
     "output_type": "execute_result"
    }
   ],
   "source": [
    "os.chdir(\"/Users/nastassia.patin/GitHub/eDNA-Visualizations/Euks_mgns_asvs_data/\")\n",
    "\n",
    "mgn_stats = pd.read_csv('mgn_seq_stats.csv')\n",
    "avg_seqs = np.average(mgn_stats['Avg num seqs'])\n",
    "avg_seqs"
   ]
  },
  {
   "cell_type": "markdown",
   "metadata": {},
   "source": [
    "#### Create a data frame with the average number of reads, average fraction of eukaryotic base pairs, and average fraction of eukaryotic reads for metagenomes"
   ]
  },
  {
   "cell_type": "code",
   "execution_count": 17,
   "metadata": {},
   "outputs": [
    {
     "data": {
      "text/html": [
       "<div>\n",
       "<style scoped>\n",
       "    .dataframe tbody tr th:only-of-type {\n",
       "        vertical-align: middle;\n",
       "    }\n",
       "\n",
       "    .dataframe tbody tr th {\n",
       "        vertical-align: top;\n",
       "    }\n",
       "\n",
       "    .dataframe thead th {\n",
       "        text-align: right;\n",
       "    }\n",
       "</style>\n",
       "<table border=\"1\" class=\"dataframe\">\n",
       "  <thead>\n",
       "    <tr style=\"text-align: right;\">\n",
       "      <th></th>\n",
       "      <th>Sequence type</th>\n",
       "      <th>Avg num reads</th>\n",
       "      <th>Avg % euk bps/reads</th>\n",
       "      <th>Avg num euk reads</th>\n",
       "    </tr>\n",
       "  </thead>\n",
       "  <tbody>\n",
       "    <tr>\n",
       "      <th>0</th>\n",
       "      <td>Metagenomes</td>\n",
       "      <td>4.211699e+07</td>\n",
       "      <td>0.108481</td>\n",
       "      <td>4.568903e+06</td>\n",
       "    </tr>\n",
       "  </tbody>\n",
       "</table>\n",
       "</div>"
      ],
      "text/plain": [
       "  Sequence type  Avg num reads  Avg % euk bps/reads  Avg num euk reads\n",
       "0   Metagenomes   4.211699e+07             0.108481       4.568903e+06"
      ]
     },
     "execution_count": 17,
     "metadata": {},
     "output_type": "execute_result"
    }
   ],
   "source": [
    "euk_frac_mgns = pd.DataFrame({'Sequence type': ['Metagenomes'], 'Avg num reads': [avg_seqs],\n",
    "                           'Avg % euk bps/reads' : [avg_bps]})\n",
    "euk_frac_mgns['Avg num euk reads'] = euk_frac_mgns['Avg % euk bps/reads'] * euk_frac_mgns['Avg num reads']\n",
    "euk_frac_mgns"
   ]
  },
  {
   "cell_type": "markdown",
   "metadata": {},
   "source": [
    "## 02. Metabarcoding data: Compile lists of observed taxa"
   ]
  },
  {
   "cell_type": "markdown",
   "metadata": {
    "tags": []
   },
   "source": [
    "### Function to calculate total number of reads and bps per sample, filter out unclassified ASVs, and convert read counts to relative abundance values ('frequencies')"
   ]
  },
  {
   "cell_type": "code",
   "execution_count": 2,
   "metadata": {},
   "outputs": [],
   "source": [
    "def counts_to_freq(file, marker_gene, read_len):\n",
    "    asvs = pd.read_csv(file)\n",
    "    asvs = asvs[(asvs['Kingdom'] != 'no_hit') & \n",
    "            (asvs['Kingdom'] != 'unassigned')] # Remove ASVs wit 'no_hit' or 'unassigned' in Kingdom\n",
    "    # Get total number of reads and bps per sample\n",
    "    asvs.loc['total']= asvs.sum()\n",
    "    sample_reads = asvs.iloc[-1:,8:].reset_index()\n",
    "    sample_reads = pd.melt(sample_reads, id_vars='index')\n",
    "    sample_reads = sample_reads.iloc[:,-2:].rename(columns=\n",
    "                                       {'variable':'%s sample' % marker_gene, \n",
    "                                        'value':'total %s reads' % marker_gene})\n",
    "    sample_reads['total %s bps' % marker_gene] = sample_reads['total %s reads' % marker_gene] * read_len # 127 bps for 18S, 321 bps for COI\n",
    "    # Remove ASVs with no read counts in any samples\n",
    "    asvs['sum'] = asvs.iloc[:,8:].sum(axis=1)\n",
    "    asvs_filt = asvs[asvs['sum'] != 0]\n",
    "    # Calculate frequencies\n",
    "    asvs_freq = asvs_filt.copy()\n",
    "    asvs_freq.iloc[:,8:] = asvs_freq.iloc[:,8:] / asvs_freq.iloc[-1,8:]\n",
    "    # Remove the column and row with ASV read count sums\n",
    "    asvs_filt = asvs_filt.iloc[:-1,:-1]\n",
    "    asvs_freq = asvs_freq.iloc[:-1, :-1]\n",
    "    return(asvs_filt, asvs_freq, sample_reads)"
   ]
  },
  {
   "cell_type": "markdown",
   "metadata": {},
   "source": [
    "### Function to reformat taxa lists"
   ]
  },
  {
   "cell_type": "markdown",
   "metadata": {},
   "source": [
    "#### Excluding taxa with unknown class/genus filters out A LOT of ASVs. Currently I have opted to keep in unknown taxa (except for reads with unknown 'Kingdom' which have already been filtered out in the previous function)."
   ]
  },
  {
   "cell_type": "code",
   "execution_count": 3,
   "metadata": {},
   "outputs": [],
   "source": [
    "def reformat_ASV_table(df, marker_gene):\n",
    "    samples = [col for col in df.columns if '1' in col] # Only sample column names have numbers\n",
    "    cols_to_drop = ['lineage','Species']\n",
    "    df = df.drop(cols_to_drop, axis=1)\n",
    "    taxon = [x for x in df.columns if '1' not in x]\n",
    "    df_melt = pd.melt(df, id_vars=taxon, value_vars=samples)\n",
    "    df_asvs = df_melt.rename(columns = {'variable':'%s sample' % marker_gene, \n",
    "                                        'value':'%s reads' % marker_gene})\n",
    "    #mask = ['no_hit', 'unknown', 'unassigned'] # identify ASVs where taxon is unknown or unassigned\n",
    "    #genus = ''.join('Genus') # Convert list to string\n",
    "    #df_asvs = df_melt.loc[~df_melt['Kingdom'].isin(mask), :]\n",
    "    #df_asvs = df_melt.loc[~df_melt['Class'].isin(mask), :]\n",
    "    #df_asvs = df_melt.loc[~df_melt['Genus'].isin(mask), :]\n",
    "    # df_asvs = df_asvs[df_asvs['%s Frequency' % marker_gene] != 0]\n",
    "    #df_asvs = df_asvs.drop_duplicates()\n",
    "    return(df_asvs)"
   ]
  },
  {
   "cell_type": "markdown",
   "metadata": {},
   "source": [
    "### Generate dataframes for (1) class-level taxon frequences per sample and (2) reads and bps per sample"
   ]
  },
  {
   "cell_type": "markdown",
   "metadata": {},
   "source": [
    "#### COI"
   ]
  },
  {
   "cell_type": "code",
   "execution_count": 4,
   "metadata": {},
   "outputs": [],
   "source": [
    "os.chdir(\"/Users/nastassia.patin/GitHub/eDNA-Visualizations/Euks_mgns_asvs_data/COI comparison\")"
   ]
  },
  {
   "cell_type": "code",
   "execution_count": 5,
   "metadata": {},
   "outputs": [],
   "source": [
    "df_tax_COI = []\n",
    "df_freq_COI = []\n",
    "df_reads_COI = []\n",
    "\n",
    "for file in glob.glob('*mgnmatches.csv'):\n",
    "    taxa_filt, taxa_freq, reads = counts_to_freq(file, 'COI', 321)\n",
    "    counts = reformat_ASV_table(taxa_filt, 'COI')\n",
    "    freq = reformat_ASV_table(taxa_freq, 'COI')\n",
    "    df_tax_COI.append(counts)\n",
    "    df_freq_COI.append(freq)\n",
    "    df_reads_COI.append(reads)\n",
    "\n",
    "df_tax_COI = pd.concat(df_tax_COI, axis=0)\n",
    "df_freq_COI = pd.concat(df_freq_COI, axis=0)\n",
    "df_reads_COI = pd.concat(df_reads_COI)"
   ]
  },
  {
   "cell_type": "code",
   "execution_count": 6,
   "metadata": {},
   "outputs": [
    {
     "data": {
      "text/html": [
       "<div>\n",
       "<style scoped>\n",
       "    .dataframe tbody tr th:only-of-type {\n",
       "        vertical-align: middle;\n",
       "    }\n",
       "\n",
       "    .dataframe tbody tr th {\n",
       "        vertical-align: top;\n",
       "    }\n",
       "\n",
       "    .dataframe thead th {\n",
       "        text-align: right;\n",
       "    }\n",
       "</style>\n",
       "<table border=\"1\" class=\"dataframe\">\n",
       "  <thead>\n",
       "    <tr style=\"text-align: right;\">\n",
       "      <th></th>\n",
       "      <th>Kingdom</th>\n",
       "      <th>Phylum</th>\n",
       "      <th>Class</th>\n",
       "      <th>Order</th>\n",
       "      <th>Family</th>\n",
       "      <th>Genus</th>\n",
       "      <th>COI sample</th>\n",
       "      <th>COI reads</th>\n",
       "    </tr>\n",
       "  </thead>\n",
       "  <tbody>\n",
       "    <tr>\n",
       "      <th>0</th>\n",
       "      <td>Eukaryota</td>\n",
       "      <td>Haptista</td>\n",
       "      <td>Haptophyta</td>\n",
       "      <td>Isochrysidales</td>\n",
       "      <td>Noelaerhabdaceae</td>\n",
       "      <td>Emiliania</td>\n",
       "      <td>Lasker18Sc122_3_D0052</td>\n",
       "      <td>0.065004</td>\n",
       "    </tr>\n",
       "    <tr>\n",
       "      <th>1</th>\n",
       "      <td>Eukaryota</td>\n",
       "      <td>Arthropoda</td>\n",
       "      <td>Hexanauplia</td>\n",
       "      <td>Poecilostomatoida</td>\n",
       "      <td>Oncaeidae</td>\n",
       "      <td>g_</td>\n",
       "      <td>Lasker18Sc122_3_D0052</td>\n",
       "      <td>0.147833</td>\n",
       "    </tr>\n",
       "    <tr>\n",
       "      <th>2</th>\n",
       "      <td>Eukaryota</td>\n",
       "      <td>Picozoa</td>\n",
       "      <td>unknown</td>\n",
       "      <td>unknown</td>\n",
       "      <td>unknown</td>\n",
       "      <td>g_</td>\n",
       "      <td>Lasker18Sc122_3_D0052</td>\n",
       "      <td>0.0</td>\n",
       "    </tr>\n",
       "  </tbody>\n",
       "</table>\n",
       "</div>"
      ],
      "text/plain": [
       "     Kingdom      Phylum        Class              Order            Family  \\\n",
       "0  Eukaryota    Haptista   Haptophyta     Isochrysidales  Noelaerhabdaceae   \n",
       "1  Eukaryota  Arthropoda  Hexanauplia  Poecilostomatoida         Oncaeidae   \n",
       "2  Eukaryota     Picozoa      unknown            unknown           unknown   \n",
       "\n",
       "       Genus             COI sample COI reads  \n",
       "0  Emiliania  Lasker18Sc122_3_D0052  0.065004  \n",
       "1         g_  Lasker18Sc122_3_D0052  0.147833  \n",
       "2         g_  Lasker18Sc122_3_D0052       0.0  "
      ]
     },
     "execution_count": 6,
     "metadata": {},
     "output_type": "execute_result"
    }
   ],
   "source": [
    "#df_tax_COI.tail(3)\n",
    "df_freq_COI.head(3)\n",
    "#df_reads_COI.head(3)"
   ]
  },
  {
   "cell_type": "code",
   "execution_count": 7,
   "metadata": {},
   "outputs": [
    {
     "data": {
      "text/html": [
       "<div>\n",
       "<style scoped>\n",
       "    .dataframe tbody tr th:only-of-type {\n",
       "        vertical-align: middle;\n",
       "    }\n",
       "\n",
       "    .dataframe tbody tr th {\n",
       "        vertical-align: top;\n",
       "    }\n",
       "\n",
       "    .dataframe thead th {\n",
       "        text-align: right;\n",
       "    }\n",
       "</style>\n",
       "<table border=\"1\" class=\"dataframe\">\n",
       "  <thead>\n",
       "    <tr style=\"text-align: right;\">\n",
       "      <th></th>\n",
       "      <th>Kingdom</th>\n",
       "      <th>Phylum</th>\n",
       "      <th>Class</th>\n",
       "      <th>Order</th>\n",
       "      <th>Family</th>\n",
       "      <th>Genus</th>\n",
       "      <th>COI sample</th>\n",
       "      <th>COI reads</th>\n",
       "    </tr>\n",
       "  </thead>\n",
       "  <tbody>\n",
       "    <tr>\n",
       "      <th>0</th>\n",
       "      <td>Eukaryota</td>\n",
       "      <td>Haptista</td>\n",
       "      <td>Haptophyta</td>\n",
       "      <td>Isochrysidales</td>\n",
       "      <td>Noelaerhabdaceae</td>\n",
       "      <td>Emiliania</td>\n",
       "      <td>Lasker18Sc122_3_D0052</td>\n",
       "      <td>0.065004</td>\n",
       "    </tr>\n",
       "    <tr>\n",
       "      <th>360</th>\n",
       "      <td>Eukaryota</td>\n",
       "      <td>Haptista</td>\n",
       "      <td>Haptophyta</td>\n",
       "      <td>Isochrysidales</td>\n",
       "      <td>Noelaerhabdaceae</td>\n",
       "      <td>Emiliania</td>\n",
       "      <td>Lasker18Sc122_3_D0052</td>\n",
       "      <td>0.0</td>\n",
       "    </tr>\n",
       "    <tr>\n",
       "      <th>3240</th>\n",
       "      <td>Eukaryota</td>\n",
       "      <td>Haptista</td>\n",
       "      <td>Haptophyta</td>\n",
       "      <td>Isochrysidales</td>\n",
       "      <td>Noelaerhabdaceae</td>\n",
       "      <td>Emiliania</td>\n",
       "      <td>Lasker18Sc122_3_D0052</td>\n",
       "      <td>0.0</td>\n",
       "    </tr>\n",
       "    <tr>\n",
       "      <th>3254</th>\n",
       "      <td>Eukaryota</td>\n",
       "      <td>Haptista</td>\n",
       "      <td>Haptophyta</td>\n",
       "      <td>Isochrysidales</td>\n",
       "      <td>Noelaerhabdaceae</td>\n",
       "      <td>Emiliania</td>\n",
       "      <td>Lasker18Sc122_3_D0052</td>\n",
       "      <td>0.0</td>\n",
       "    </tr>\n",
       "    <tr>\n",
       "      <th>3594</th>\n",
       "      <td>Eukaryota</td>\n",
       "      <td>Haptista</td>\n",
       "      <td>Haptophyta</td>\n",
       "      <td>Isochrysidales</td>\n",
       "      <td>Noelaerhabdaceae</td>\n",
       "      <td>Emiliania</td>\n",
       "      <td>Lasker18Sc122_3_D0052</td>\n",
       "      <td>0.0</td>\n",
       "    </tr>\n",
       "    <tr>\n",
       "      <th>...</th>\n",
       "      <td>...</td>\n",
       "      <td>...</td>\n",
       "      <td>...</td>\n",
       "      <td>...</td>\n",
       "      <td>...</td>\n",
       "      <td>...</td>\n",
       "      <td>...</td>\n",
       "      <td>...</td>\n",
       "    </tr>\n",
       "    <tr>\n",
       "      <th>1270943</th>\n",
       "      <td>Eukaryota</td>\n",
       "      <td>Haptista</td>\n",
       "      <td>Haptophyta</td>\n",
       "      <td>Isochrysidales</td>\n",
       "      <td>Noelaerhabdaceae</td>\n",
       "      <td>Emiliania</td>\n",
       "      <td>CN19_Nisk_Far_60m_3</td>\n",
       "      <td>0.0</td>\n",
       "    </tr>\n",
       "    <tr>\n",
       "      <th>1272302</th>\n",
       "      <td>Eukaryota</td>\n",
       "      <td>Haptista</td>\n",
       "      <td>Haptophyta</td>\n",
       "      <td>Isochrysidales</td>\n",
       "      <td>Noelaerhabdaceae</td>\n",
       "      <td>Emiliania</td>\n",
       "      <td>CN19_Nisk_Far_60m_3</td>\n",
       "      <td>0.0</td>\n",
       "    </tr>\n",
       "    <tr>\n",
       "      <th>1272406</th>\n",
       "      <td>Eukaryota</td>\n",
       "      <td>Haptista</td>\n",
       "      <td>Haptophyta</td>\n",
       "      <td>Isochrysidales</td>\n",
       "      <td>Noelaerhabdaceae</td>\n",
       "      <td>Emiliania</td>\n",
       "      <td>CN19_Nisk_Far_60m_3</td>\n",
       "      <td>0.0</td>\n",
       "    </tr>\n",
       "    <tr>\n",
       "      <th>1272461</th>\n",
       "      <td>Eukaryota</td>\n",
       "      <td>Haptista</td>\n",
       "      <td>Haptophyta</td>\n",
       "      <td>Isochrysidales</td>\n",
       "      <td>Noelaerhabdaceae</td>\n",
       "      <td>Emiliania</td>\n",
       "      <td>CN19_Nisk_Far_60m_3</td>\n",
       "      <td>0.0</td>\n",
       "    </tr>\n",
       "    <tr>\n",
       "      <th>1273021</th>\n",
       "      <td>Eukaryota</td>\n",
       "      <td>Haptista</td>\n",
       "      <td>Haptophyta</td>\n",
       "      <td>Isochrysidales</td>\n",
       "      <td>Noelaerhabdaceae</td>\n",
       "      <td>Emiliania</td>\n",
       "      <td>CN19_Nisk_Far_60m_3</td>\n",
       "      <td>0.0</td>\n",
       "    </tr>\n",
       "  </tbody>\n",
       "</table>\n",
       "<p>7248 rows × 8 columns</p>\n",
       "</div>"
      ],
      "text/plain": [
       "           Kingdom    Phylum       Class           Order            Family  \\\n",
       "0        Eukaryota  Haptista  Haptophyta  Isochrysidales  Noelaerhabdaceae   \n",
       "360      Eukaryota  Haptista  Haptophyta  Isochrysidales  Noelaerhabdaceae   \n",
       "3240     Eukaryota  Haptista  Haptophyta  Isochrysidales  Noelaerhabdaceae   \n",
       "3254     Eukaryota  Haptista  Haptophyta  Isochrysidales  Noelaerhabdaceae   \n",
       "3594     Eukaryota  Haptista  Haptophyta  Isochrysidales  Noelaerhabdaceae   \n",
       "...            ...       ...         ...             ...               ...   \n",
       "1270943  Eukaryota  Haptista  Haptophyta  Isochrysidales  Noelaerhabdaceae   \n",
       "1272302  Eukaryota  Haptista  Haptophyta  Isochrysidales  Noelaerhabdaceae   \n",
       "1272406  Eukaryota  Haptista  Haptophyta  Isochrysidales  Noelaerhabdaceae   \n",
       "1272461  Eukaryota  Haptista  Haptophyta  Isochrysidales  Noelaerhabdaceae   \n",
       "1273021  Eukaryota  Haptista  Haptophyta  Isochrysidales  Noelaerhabdaceae   \n",
       "\n",
       "             Genus             COI sample COI reads  \n",
       "0        Emiliania  Lasker18Sc122_3_D0052  0.065004  \n",
       "360      Emiliania  Lasker18Sc122_3_D0052       0.0  \n",
       "3240     Emiliania  Lasker18Sc122_3_D0052       0.0  \n",
       "3254     Emiliania  Lasker18Sc122_3_D0052       0.0  \n",
       "3594     Emiliania  Lasker18Sc122_3_D0052       0.0  \n",
       "...            ...                    ...       ...  \n",
       "1270943  Emiliania    CN19_Nisk_Far_60m_3       0.0  \n",
       "1272302  Emiliania    CN19_Nisk_Far_60m_3       0.0  \n",
       "1272406  Emiliania    CN19_Nisk_Far_60m_3       0.0  \n",
       "1272461  Emiliania    CN19_Nisk_Far_60m_3       0.0  \n",
       "1273021  Emiliania    CN19_Nisk_Far_60m_3       0.0  \n",
       "\n",
       "[7248 rows x 8 columns]"
      ]
     },
     "execution_count": 7,
     "metadata": {},
     "output_type": "execute_result"
    }
   ],
   "source": [
    "df_freq_COI.loc[df_freq_COI['Genus'] == 'Emiliania']"
   ]
  },
  {
   "cell_type": "markdown",
   "metadata": {},
   "source": [
    "#### 18S"
   ]
  },
  {
   "cell_type": "code",
   "execution_count": 32,
   "metadata": {},
   "outputs": [],
   "source": [
    "os.chdir(\"/Users/nastassia.patin/GitHub/eDNA-Visualizations/Euks_mgns_asvs_data/18S comparison\")"
   ]
  },
  {
   "cell_type": "code",
   "execution_count": 33,
   "metadata": {},
   "outputs": [],
   "source": [
    "df_tax_18S = []\n",
    "df_freq_18S = []\n",
    "df_reads_18S = []\n",
    "\n",
    "for file in glob.glob('*mgnmatches.csv'):\n",
    "    taxa_filt, taxa_freq, reads = counts_to_freq(file, '18S', 127)\n",
    "    counts = reformat_ASV_table(taxa_filt, '18S')\n",
    "    freq = reformat_ASV_table(taxa_freq, '18S')\n",
    "    df_tax_18S.append(counts)\n",
    "    df_freq_18S.append(freq)\n",
    "    df_reads_18S.append(reads)\n",
    "\n",
    "df_tax_18S = pd.concat(df_tax_18S, axis=0)\n",
    "df_freq_18S = pd.concat(df_freq_18S, axis=0)\n",
    "df_reads_18S = pd.concat(df_reads_18S)"
   ]
  },
  {
   "cell_type": "code",
   "execution_count": 34,
   "metadata": {},
   "outputs": [
    {
     "data": {
      "text/html": [
       "<div>\n",
       "<style scoped>\n",
       "    .dataframe tbody tr th:only-of-type {\n",
       "        vertical-align: middle;\n",
       "    }\n",
       "\n",
       "    .dataframe tbody tr th {\n",
       "        vertical-align: top;\n",
       "    }\n",
       "\n",
       "    .dataframe thead th {\n",
       "        text-align: right;\n",
       "    }\n",
       "</style>\n",
       "<table border=\"1\" class=\"dataframe\">\n",
       "  <thead>\n",
       "    <tr style=\"text-align: right;\">\n",
       "      <th></th>\n",
       "      <th>18S sample</th>\n",
       "      <th>total 18S reads</th>\n",
       "      <th>total 18S bps</th>\n",
       "    </tr>\n",
       "  </thead>\n",
       "  <tbody>\n",
       "    <tr>\n",
       "      <th>0</th>\n",
       "      <td>CN18FESPkoa_SC24</td>\n",
       "      <td>94585</td>\n",
       "      <td>12012295</td>\n",
       "    </tr>\n",
       "    <tr>\n",
       "      <th>1</th>\n",
       "      <td>CN18FESPkoa_SC26</td>\n",
       "      <td>45330</td>\n",
       "      <td>5756910</td>\n",
       "    </tr>\n",
       "    <tr>\n",
       "      <th>2</th>\n",
       "      <td>CN18FESPkoa_SC29</td>\n",
       "      <td>89395</td>\n",
       "      <td>11353165</td>\n",
       "    </tr>\n",
       "  </tbody>\n",
       "</table>\n",
       "</div>"
      ],
      "text/plain": [
       "         18S sample  total 18S reads  total 18S bps\n",
       "0  CN18FESPkoa_SC24            94585       12012295\n",
       "1  CN18FESPkoa_SC26            45330        5756910\n",
       "2  CN18FESPkoa_SC29            89395       11353165"
      ]
     },
     "execution_count": 34,
     "metadata": {},
     "output_type": "execute_result"
    }
   ],
   "source": [
    "#df_tax_18S.head(3)\n",
    "#df_freq_18S.head(3)\n",
    "df_reads_18S.head(3)"
   ]
  },
  {
   "cell_type": "markdown",
   "metadata": {},
   "source": [
    "## 03. Compare total numbers/fractions of eukaryotic reads in metagenomes and amplicons"
   ]
  },
  {
   "cell_type": "markdown",
   "metadata": {},
   "source": [
    "#### Calculate average # total reads and average # eukaryotic reads for amplicon samples"
   ]
  },
  {
   "cell_type": "code",
   "execution_count": 35,
   "metadata": {},
   "outputs": [],
   "source": [
    "def calculate_eukaryotic_read_fraction(df_tax, df_reads, marker_gene):\n",
    "    kingdoms = df_tax[['Kingdom', '%s sample' % marker_gene, '%s reads' % marker_gene]]\n",
    "    kingdoms = kingdoms.groupby(['Kingdom', '%s sample' % marker_gene]).sum()\n",
    "    euks = kingdoms.xs('Eukaryota', level=0).reset_index()\n",
    "    euks['Domain'] = 'Eukaryota'\n",
    "    euk_fracs = pd.merge(df_reads, euks, on='%s sample' % marker_gene)\n",
    "    euk_fracs['%s euk reads percent' % marker_gene] = euk_fracs['%s reads' % marker_gene] / euk_fracs['total %s reads' % marker_gene]\n",
    "    return(euk_fracs)"
   ]
  },
  {
   "cell_type": "code",
   "execution_count": 36,
   "metadata": {},
   "outputs": [
    {
     "data": {
      "text/html": [
       "<div>\n",
       "<style scoped>\n",
       "    .dataframe tbody tr th:only-of-type {\n",
       "        vertical-align: middle;\n",
       "    }\n",
       "\n",
       "    .dataframe tbody tr th {\n",
       "        vertical-align: top;\n",
       "    }\n",
       "\n",
       "    .dataframe thead th {\n",
       "        text-align: right;\n",
       "    }\n",
       "</style>\n",
       "<table border=\"1\" class=\"dataframe\">\n",
       "  <thead>\n",
       "    <tr style=\"text-align: right;\">\n",
       "      <th></th>\n",
       "      <th>18S sample</th>\n",
       "      <th>total 18S reads</th>\n",
       "      <th>total 18S bps</th>\n",
       "      <th>18S reads</th>\n",
       "      <th>Domain</th>\n",
       "      <th>18S euk reads percent</th>\n",
       "    </tr>\n",
       "  </thead>\n",
       "  <tbody>\n",
       "    <tr>\n",
       "      <th>0</th>\n",
       "      <td>CN18FESPkoa_SC24</td>\n",
       "      <td>94585</td>\n",
       "      <td>12012295</td>\n",
       "      <td>94584</td>\n",
       "      <td>Eukaryota</td>\n",
       "      <td>0.999989</td>\n",
       "    </tr>\n",
       "    <tr>\n",
       "      <th>1</th>\n",
       "      <td>CN18FESPkoa_SC26</td>\n",
       "      <td>45330</td>\n",
       "      <td>5756910</td>\n",
       "      <td>45329</td>\n",
       "      <td>Eukaryota</td>\n",
       "      <td>0.999978</td>\n",
       "    </tr>\n",
       "    <tr>\n",
       "      <th>2</th>\n",
       "      <td>CN18FESPkoa_SC29</td>\n",
       "      <td>89395</td>\n",
       "      <td>11353165</td>\n",
       "      <td>89393</td>\n",
       "      <td>Eukaryota</td>\n",
       "      <td>0.999978</td>\n",
       "    </tr>\n",
       "  </tbody>\n",
       "</table>\n",
       "</div>"
      ],
      "text/plain": [
       "         18S sample  total 18S reads  total 18S bps  18S reads     Domain  \\\n",
       "0  CN18FESPkoa_SC24            94585       12012295      94584  Eukaryota   \n",
       "1  CN18FESPkoa_SC26            45330        5756910      45329  Eukaryota   \n",
       "2  CN18FESPkoa_SC29            89395       11353165      89393  Eukaryota   \n",
       "\n",
       "   18S euk reads percent  \n",
       "0               0.999989  \n",
       "1               0.999978  \n",
       "2               0.999978  "
      ]
     },
     "execution_count": 36,
     "metadata": {},
     "output_type": "execute_result"
    }
   ],
   "source": [
    "euk_fracs_18S = calculate_eukaryotic_read_fraction(df_tax_18S, df_reads_18S, '18S')\n",
    "euk_fracs_18S.head(3)"
   ]
  },
  {
   "cell_type": "code",
   "execution_count": 37,
   "metadata": {},
   "outputs": [
    {
     "data": {
      "text/html": [
       "<div>\n",
       "<style scoped>\n",
       "    .dataframe tbody tr th:only-of-type {\n",
       "        vertical-align: middle;\n",
       "    }\n",
       "\n",
       "    .dataframe tbody tr th {\n",
       "        vertical-align: top;\n",
       "    }\n",
       "\n",
       "    .dataframe thead th {\n",
       "        text-align: right;\n",
       "    }\n",
       "</style>\n",
       "<table border=\"1\" class=\"dataframe\">\n",
       "  <thead>\n",
       "    <tr style=\"text-align: right;\">\n",
       "      <th></th>\n",
       "      <th>COI sample</th>\n",
       "      <th>total COI reads</th>\n",
       "      <th>total COI bps</th>\n",
       "      <th>COI reads</th>\n",
       "      <th>Domain</th>\n",
       "      <th>COI euk reads percent</th>\n",
       "    </tr>\n",
       "  </thead>\n",
       "  <tbody>\n",
       "    <tr>\n",
       "      <th>0</th>\n",
       "      <td>Lasker18Sc122_3_D0052</td>\n",
       "      <td>15876</td>\n",
       "      <td>5096196</td>\n",
       "      <td>15876</td>\n",
       "      <td>Eukaryota</td>\n",
       "      <td>1.0</td>\n",
       "    </tr>\n",
       "    <tr>\n",
       "      <th>1</th>\n",
       "      <td>Lasker18Sc122_5_D0053</td>\n",
       "      <td>28261</td>\n",
       "      <td>9071781</td>\n",
       "      <td>28261</td>\n",
       "      <td>Eukaryota</td>\n",
       "      <td>1.0</td>\n",
       "    </tr>\n",
       "    <tr>\n",
       "      <th>2</th>\n",
       "      <td>Lasker18Sc122_17_D0057</td>\n",
       "      <td>42076</td>\n",
       "      <td>13506396</td>\n",
       "      <td>42076</td>\n",
       "      <td>Eukaryota</td>\n",
       "      <td>1.0</td>\n",
       "    </tr>\n",
       "  </tbody>\n",
       "</table>\n",
       "</div>"
      ],
      "text/plain": [
       "               COI sample  total COI reads  total COI bps  COI reads  \\\n",
       "0   Lasker18Sc122_3_D0052            15876        5096196      15876   \n",
       "1   Lasker18Sc122_5_D0053            28261        9071781      28261   \n",
       "2  Lasker18Sc122_17_D0057            42076       13506396      42076   \n",
       "\n",
       "      Domain  COI euk reads percent  \n",
       "0  Eukaryota                    1.0  \n",
       "1  Eukaryota                    1.0  \n",
       "2  Eukaryota                    1.0  "
      ]
     },
     "execution_count": 37,
     "metadata": {},
     "output_type": "execute_result"
    }
   ],
   "source": [
    "euk_fracs_COI = calculate_eukaryotic_read_fraction(df_tax_COI, df_reads_COI, 'COI')\n",
    "euk_fracs_COI.head(3)"
   ]
  },
  {
   "cell_type": "markdown",
   "metadata": {},
   "source": [
    "#### Add 18S and COI average euk reads to data frame with metagenome average euk bps"
   ]
  },
  {
   "cell_type": "code",
   "execution_count": 38,
   "metadata": {},
   "outputs": [
    {
     "data": {
      "text/html": [
       "<div>\n",
       "<style scoped>\n",
       "    .dataframe tbody tr th:only-of-type {\n",
       "        vertical-align: middle;\n",
       "    }\n",
       "\n",
       "    .dataframe tbody tr th {\n",
       "        vertical-align: top;\n",
       "    }\n",
       "\n",
       "    .dataframe thead th {\n",
       "        text-align: right;\n",
       "    }\n",
       "</style>\n",
       "<table border=\"1\" class=\"dataframe\">\n",
       "  <thead>\n",
       "    <tr style=\"text-align: right;\">\n",
       "      <th></th>\n",
       "      <th>Sequence type</th>\n",
       "      <th>Avg num reads</th>\n",
       "      <th>Avg % euk bps/reads</th>\n",
       "      <th>Avg num euk reads</th>\n",
       "    </tr>\n",
       "  </thead>\n",
       "  <tbody>\n",
       "    <tr>\n",
       "      <th>0</th>\n",
       "      <td>Metagenomes</td>\n",
       "      <td>4.211699e+07</td>\n",
       "      <td>0.108481</td>\n",
       "      <td>4.568903e+06</td>\n",
       "    </tr>\n",
       "  </tbody>\n",
       "</table>\n",
       "</div>"
      ],
      "text/plain": [
       "  Sequence type  Avg num reads  Avg % euk bps/reads  Avg num euk reads\n",
       "0   Metagenomes   4.211699e+07             0.108481       4.568903e+06"
      ]
     },
     "execution_count": 38,
     "metadata": {},
     "output_type": "execute_result"
    }
   ],
   "source": [
    "euk_frac_mgns"
   ]
  },
  {
   "cell_type": "code",
   "execution_count": 39,
   "metadata": {},
   "outputs": [],
   "source": [
    "new_row = pd.DataFrame({'Sequence type': '18S', \n",
    "           'Avg num reads': np.average(euk_fracs_18S['total 18S reads']),\n",
    "           'Avg % euk bps/reads': np.average(euk_fracs_18S['18S euk reads percent']),\n",
    "            'Avg num euk reads': np.average(euk_fracs_18S['18S reads'])},\n",
    "                      index=[0])\n",
    "euk_frac_df = pd.concat([new_row, euk_frac_mgns.loc[:]]).reset_index(drop=True)"
   ]
  },
  {
   "cell_type": "code",
   "execution_count": 40,
   "metadata": {},
   "outputs": [],
   "source": [
    "new_row = pd.DataFrame({'Sequence type': 'COI', \n",
    "           'Avg num reads': np.average(euk_fracs_COI['total COI reads']),\n",
    "           'Avg % euk bps/reads': np.average(euk_fracs_COI['COI euk reads percent']),\n",
    "            'Avg num euk reads': np.average(euk_fracs_COI['COI reads'])},\n",
    "                      index=[0])\n",
    "euk_frac_df = pd.concat([new_row, euk_frac_df.loc[:]]).reset_index(drop=True)"
   ]
  },
  {
   "cell_type": "code",
   "execution_count": 41,
   "metadata": {},
   "outputs": [],
   "source": [
    "euk_frac_df['Total reads'] = 1.0\n",
    "euk_frac_df['Avg num prok reads'] = euk_frac_df['Avg num reads'] - euk_frac_df['Avg num euk reads']\n",
    "euk_frac_df.to_csv(\"Percent_euk_reads_comparison.csv\", index=False)"
   ]
  },
  {
   "cell_type": "code",
   "execution_count": 42,
   "metadata": {},
   "outputs": [
    {
     "data": {
      "text/html": [
       "<div>\n",
       "<style scoped>\n",
       "    .dataframe tbody tr th:only-of-type {\n",
       "        vertical-align: middle;\n",
       "    }\n",
       "\n",
       "    .dataframe tbody tr th {\n",
       "        vertical-align: top;\n",
       "    }\n",
       "\n",
       "    .dataframe thead th {\n",
       "        text-align: right;\n",
       "    }\n",
       "</style>\n",
       "<table border=\"1\" class=\"dataframe\">\n",
       "  <thead>\n",
       "    <tr style=\"text-align: right;\">\n",
       "      <th></th>\n",
       "      <th>Sequence type</th>\n",
       "      <th>Avg num reads</th>\n",
       "      <th>Avg % euk bps/reads</th>\n",
       "      <th>Avg num euk reads</th>\n",
       "      <th>Total reads</th>\n",
       "      <th>Avg num prok reads</th>\n",
       "    </tr>\n",
       "  </thead>\n",
       "  <tbody>\n",
       "    <tr>\n",
       "      <th>0</th>\n",
       "      <td>COI</td>\n",
       "      <td>7.286296e+04</td>\n",
       "      <td>0.993480</td>\n",
       "      <td>7.236892e+04</td>\n",
       "      <td>1.0</td>\n",
       "      <td>4.940446e+02</td>\n",
       "    </tr>\n",
       "    <tr>\n",
       "      <th>1</th>\n",
       "      <td>18S</td>\n",
       "      <td>6.221473e+04</td>\n",
       "      <td>0.999937</td>\n",
       "      <td>6.221265e+04</td>\n",
       "      <td>1.0</td>\n",
       "      <td>2.080357e+00</td>\n",
       "    </tr>\n",
       "    <tr>\n",
       "      <th>2</th>\n",
       "      <td>Metagenomes</td>\n",
       "      <td>4.211699e+07</td>\n",
       "      <td>0.108481</td>\n",
       "      <td>4.568903e+06</td>\n",
       "      <td>1.0</td>\n",
       "      <td>3.754809e+07</td>\n",
       "    </tr>\n",
       "  </tbody>\n",
       "</table>\n",
       "</div>"
      ],
      "text/plain": [
       "  Sequence type  Avg num reads  Avg % euk bps/reads  Avg num euk reads  \\\n",
       "0           COI   7.286296e+04             0.993480       7.236892e+04   \n",
       "1           18S   6.221473e+04             0.999937       6.221265e+04   \n",
       "2   Metagenomes   4.211699e+07             0.108481       4.568903e+06   \n",
       "\n",
       "   Total reads  Avg num prok reads  \n",
       "0          1.0        4.940446e+02  \n",
       "1          1.0        2.080357e+00  \n",
       "2          1.0        3.754809e+07  "
      ]
     },
     "execution_count": 42,
     "metadata": {},
     "output_type": "execute_result"
    }
   ],
   "source": [
    "euk_frac_df.head()"
   ]
  },
  {
   "cell_type": "code",
   "execution_count": 43,
   "metadata": {},
   "outputs": [
    {
     "data": {
      "image/png": "[encoded data removed]",
      "text/plain": [
       "<Figure size 500x400 with 1 Axes>"
      ]
     },
     "metadata": {},
     "output_type": "display_data"
    }
   ],
   "source": [
    "plt.figure(figsize=(5,4))\n",
    "sns.set(font_scale = 1.5)\n",
    "sns.set_style('white')\n",
    "sns.set_palette(sns.color_palette('colorblind'))\n",
    "\n",
    "# bar chart 1 -> top bars (bac + arc reads)\n",
    "bar1 = sns.barplot(data=euk_frac_df, x='Sequence type',  \n",
    "                   y='Total reads', color='darkblue')\n",
    "\n",
    "# bar chart 2 -> bottom bars (eukaryotic reads)\n",
    "bar2 = sns.barplot(data=euk_frac_df, x='Sequence type',  \n",
    "                   y='Avg % euk bps/reads', color='lightblue')\n",
    "\n",
    "plt.ylabel('Average % eukaryotic reads', size=14)\n",
    "plt.xlabel('Sequence data set', size=14)\n",
    "\n",
    "plt.ylim(0, 1.05)\n",
    "\n",
    "# add legend\n",
    "top_bar = mpatches.Patch(color='darkblue', label='Prokaryotic reads')\n",
    "bottom_bar = mpatches.Patch(color='lightblue', label='Eukaryotic reads')\n",
    "plt.legend(handles=[top_bar, bottom_bar], bbox_to_anchor=(1.02, 0.55), \n",
    "           loc='upper left', borderaxespad=0)\n",
    "\n",
    "#plt.savefig('eCruises2018_2019_prok_vs_euk_reads.png', format='png', \n",
    " #           dpi=1200, bbox_inches='tight')\n",
    "# show the graph\n",
    "plt.show()"
   ]
  },
  {
   "cell_type": "markdown",
   "metadata": {},
   "source": [
    "## 04. Compare frequencies of taxa seen in paired samples"
   ]
  },
  {
   "cell_type": "code",
   "execution_count": 44,
   "metadata": {},
   "outputs": [],
   "source": [
    "os.chdir(\"/Users/nastassia.patin/Desktop/Projects/eCruises_TIMESERIES/Euks-mgns-asvs\")"
   ]
  },
  {
   "cell_type": "markdown",
   "metadata": {},
   "source": [
    "#### Load file showing paired sample names and turn pairs into a dictionary"
   ]
  },
  {
   "cell_type": "code",
   "execution_count": 45,
   "metadata": {},
   "outputs": [
    {
     "data": {
      "text/html": [
       "<div>\n",
       "<style scoped>\n",
       "    .dataframe tbody tr th:only-of-type {\n",
       "        vertical-align: middle;\n",
       "    }\n",
       "\n",
       "    .dataframe tbody tr th {\n",
       "        vertical-align: top;\n",
       "    }\n",
       "\n",
       "    .dataframe thead th {\n",
       "        text-align: right;\n",
       "    }\n",
       "</style>\n",
       "<table border=\"1\" class=\"dataframe\">\n",
       "  <thead>\n",
       "    <tr style=\"text-align: right;\">\n",
       "      <th></th>\n",
       "      <th>ASV sample</th>\n",
       "      <th>Metagenome sample</th>\n",
       "    </tr>\n",
       "  </thead>\n",
       "  <tbody>\n",
       "    <tr>\n",
       "      <th>0</th>\n",
       "      <td>CN18Fc12_8_eDNA</td>\n",
       "      <td>zr2760_45</td>\n",
       "    </tr>\n",
       "    <tr>\n",
       "      <th>1</th>\n",
       "      <td>CN18Fc19_5_eDNA</td>\n",
       "      <td>zr2760_67</td>\n",
       "    </tr>\n",
       "    <tr>\n",
       "      <th>2</th>\n",
       "      <td>CN18Fc21_6_eDNA</td>\n",
       "      <td>zr2760_54</td>\n",
       "    </tr>\n",
       "  </tbody>\n",
       "</table>\n",
       "</div>"
      ],
      "text/plain": [
       "        ASV sample Metagenome sample\n",
       "0  CN18Fc12_8_eDNA         zr2760_45\n",
       "1  CN18Fc19_5_eDNA         zr2760_67\n",
       "2  CN18Fc21_6_eDNA         zr2760_54"
      ]
     },
     "execution_count": 45,
     "metadata": {},
     "output_type": "execute_result"
    }
   ],
   "source": [
    "file = 'eCruises2018_2019_mgn_asv_paired_samples.csv'\n",
    "pairs = pd.read_csv(file)\n",
    "pairs.head(3)"
   ]
  },
  {
   "cell_type": "code",
   "execution_count": 46,
   "metadata": {},
   "outputs": [],
   "source": [
    "def combine_ASV_metagenome_freqs(sample_key, mgn_df, asv_df, marker_gene, taxon):\n",
    "    asv_df = asv_df.rename(columns={'%s sample' % marker_gene: 'ASV sample'})\n",
    "    asv_df_taxon = pd.DataFrame(asv_df[['%s' % taxon, \n",
    "                                        'ASV sample', \n",
    "                                        '%s reads' % marker_gene]].groupby(['%s' % taxon,\n",
    "                                                                           'ASV sample'],\n",
    "                                                                           as_index=False).sum())\n",
    "    df_tax_asvs_paired = asv_df_taxon.merge(sample_key, how='left', on='ASV sample')\n",
    "    df_tax_mgns_paired = mgn_df.merge(sample_key, how='left', on='Metagenome sample')\n",
    "    return(df_tax_asvs_paired, df_tax_mgns_paired)"
   ]
  },
  {
   "cell_type": "code",
   "execution_count": 47,
   "metadata": {},
   "outputs": [],
   "source": [
    "asvs, mgns = combine_ASV_metagenome_freqs(pairs, \n",
    "                                          df_tax_mgns, \n",
    "                                          df_freq_18S, \n",
    "                                          '18S', \n",
    "                                          'Class')"
   ]
  },
  {
   "cell_type": "code",
   "execution_count": 48,
   "metadata": {},
   "outputs": [
    {
     "data": {
      "text/html": [
       "<div>\n",
       "<style scoped>\n",
       "    .dataframe tbody tr th:only-of-type {\n",
       "        vertical-align: middle;\n",
       "    }\n",
       "\n",
       "    .dataframe tbody tr th {\n",
       "        vertical-align: top;\n",
       "    }\n",
       "\n",
       "    .dataframe thead th {\n",
       "        text-align: right;\n",
       "    }\n",
       "</style>\n",
       "<table border=\"1\" class=\"dataframe\">\n",
       "  <thead>\n",
       "    <tr style=\"text-align: right;\">\n",
       "      <th></th>\n",
       "      <th>Class</th>\n",
       "      <th>ASV sample</th>\n",
       "      <th>18S reads</th>\n",
       "      <th>Metagenome sample</th>\n",
       "    </tr>\n",
       "  </thead>\n",
       "  <tbody>\n",
       "    <tr>\n",
       "      <th>0</th>\n",
       "      <td>Acantharea</td>\n",
       "      <td>CN18FESPkoa_SC24</td>\n",
       "      <td>0.000370</td>\n",
       "      <td>zr2760_52</td>\n",
       "    </tr>\n",
       "    <tr>\n",
       "      <th>1</th>\n",
       "      <td>Acantharea</td>\n",
       "      <td>CN18FESPkoa_SC26</td>\n",
       "      <td>0.000331</td>\n",
       "      <td>zr2760_64</td>\n",
       "    </tr>\n",
       "    <tr>\n",
       "      <th>2</th>\n",
       "      <td>Acantharea</td>\n",
       "      <td>CN18FESPkoa_SC29</td>\n",
       "      <td>0.000839</td>\n",
       "      <td>zr2760_79</td>\n",
       "    </tr>\n",
       "  </tbody>\n",
       "</table>\n",
       "</div>"
      ],
      "text/plain": [
       "        Class        ASV sample  18S reads Metagenome sample\n",
       "0  Acantharea  CN18FESPkoa_SC24   0.000370         zr2760_52\n",
       "1  Acantharea  CN18FESPkoa_SC26   0.000331         zr2760_64\n",
       "2  Acantharea  CN18FESPkoa_SC29   0.000839         zr2760_79"
      ]
     },
     "execution_count": 48,
     "metadata": {},
     "output_type": "execute_result"
    }
   ],
   "source": [
    "asvs.head(3)"
   ]
  },
  {
   "cell_type": "code",
   "execution_count": 49,
   "metadata": {},
   "outputs": [
    {
     "data": {
      "text/plain": [
       "array(['Acantharea', 'Aconoidasida', 'Actinopteri', 'Agaricomycetes',\n",
       "       'Agaricostilbomycetes', 'Anthozoa', 'Aphelidea', 'Appendicularia',\n",
       "       'Ascetosporea', 'Ascidiacea', 'Asteroidea', 'Bacillariophyceae',\n",
       "       'Bangiophyceae', 'Basidiobolomycetes', 'Bigyra', 'Bivalvia',\n",
       "       'Blastocladiomycetes', 'Bolidophyceae', 'Branchiopoda',\n",
       "       'Breviatea', 'Bryopsida', 'Calcarea', 'Centroplasthelida',\n",
       "       'Cephalopoda', 'Charophyceae', 'Chlorarachniophyceae',\n",
       "       'Chlorodendrophyceae', 'Chlorophyceae', 'Chloropicophyceae',\n",
       "       'Choanoflagellata', 'Chrysophyceae', 'Chytridiomycetes',\n",
       "       'Colpodea', 'Conoidasida', 'Coscinodiscophyceae', 'Crinoidea',\n",
       "       'Cryptophyceae', 'Cystobasidiomycetes', 'Demospongiae',\n",
       "       'Dictyochophyceae', 'Dinophyceae', 'Dothideomycetes', 'Echinoidea',\n",
       "       'Elardia', 'Enopla', 'Enteropneusta', 'Euglenida',\n",
       "       'Eurotiomycetes', 'Eustigmatophyceae', 'Exobasidiomycetes',\n",
       "       'Filasterea', 'Flabellinia', 'Florideophyceae',\n",
       "       'Fragilariophyceae', 'Gammaproteobacteria', 'Gastropoda',\n",
       "       'Glomeromycetes', 'Gymnolaemata', 'Haptophyta', 'Hexanauplia',\n",
       "       'Holothuroidea', 'Hydrozoa', 'Ichthyosporea', 'Insecta',\n",
       "       'Katablepharidophyta', 'Kinetoplastea', 'Klebsormidiophyceae',\n",
       "       'Labyrinthulomycetes', 'Lecanoromycetes', 'Leotiomycetes',\n",
       "       'Leptocardii', 'Liliopsida', 'Litostomatea', 'Lycopodiopsida',\n",
       "       'Magnoliopsida', 'Malacostraca', 'Malasseziomycetes',\n",
       "       'Mamiellophyceae', 'Mammalia', 'Mediophyceae',\n",
       "       'Microbotryomycetes', 'Monogenea', 'Monogononta',\n",
       "       'Mortierellomycetes', 'Mucoromycetes', 'Myxozoa', 'Nassophorea',\n",
       "       'Nephroselmidophyceae', 'Nuda', 'Oligohymenophorea', 'Oomycetes',\n",
       "       'Oomycota', 'Ophiuroidea', 'Ostracoda', 'Palaeonemertea',\n",
       "       'Palmophyllophyceae', 'Pedinophyceae', 'Pelagophyceae',\n",
       "       'Pezizomycetes', 'Phaeophyceae', 'Phyllopharyngea', 'Picomonadea',\n",
       "       'Pilidiophora', 'Pinopsida', 'Polychaeta', 'Polycystinea',\n",
       "       'Polyplacophora', 'Prostomatea', 'Pucciniomycetes', 'Pycnogonida',\n",
       "       'Pyramimonadophyceae', 'Raphidophyceae', 'Rhabditophora',\n",
       "       'Rhynchonellata', 'Saccharomycetes', 'Sagittoidea', 'Scaphopoda',\n",
       "       'Scyphozoa', 'Sordariomycetes', 'Spirotrichea', 'Stenolaemata',\n",
       "       'Synurophyceae', 'Tentaculata', 'Thaliacea', 'Thecofilosea',\n",
       "       'Trebouxiophyceae', 'Tremellomycetes', 'Ulvophyceae',\n",
       "       'Ustilaginomycetes', 'Variosea', 'Wallemiomycetes',\n",
       "       'Xanthophyceae', 'unassigned', 'unknown'], dtype=object)"
      ]
     },
     "execution_count": 49,
     "metadata": {},
     "output_type": "execute_result"
    }
   ],
   "source": [
    "asvs['Class'].unique()"
   ]
  },
  {
   "cell_type": "code",
   "execution_count": 65,
   "metadata": {},
   "outputs": [
    {
     "data": {
      "text/html": [
       "<div>\n",
       "<style scoped>\n",
       "    .dataframe tbody tr th:only-of-type {\n",
       "        vertical-align: middle;\n",
       "    }\n",
       "\n",
       "    .dataframe tbody tr th {\n",
       "        vertical-align: top;\n",
       "    }\n",
       "\n",
       "    .dataframe thead th {\n",
       "        text-align: right;\n",
       "    }\n",
       "</style>\n",
       "<table border=\"1\" class=\"dataframe\">\n",
       "  <thead>\n",
       "    <tr style=\"text-align: right;\">\n",
       "      <th></th>\n",
       "      <th>Class</th>\n",
       "      <th>bp_fraction</th>\n",
       "      <th>Metagenome sample</th>\n",
       "      <th>ASV sample</th>\n",
       "    </tr>\n",
       "  </thead>\n",
       "  <tbody>\n",
       "    <tr>\n",
       "      <th>0</th>\n",
       "      <td>Coscinodiscophyceae</td>\n",
       "      <td>0.638312</td>\n",
       "      <td>D0275A_S58</td>\n",
       "      <td>NaN</td>\n",
       "    </tr>\n",
       "    <tr>\n",
       "      <th>1</th>\n",
       "      <td>Prasinophyceae</td>\n",
       "      <td>0.135924</td>\n",
       "      <td>D0275A_S58</td>\n",
       "      <td>NaN</td>\n",
       "    </tr>\n",
       "    <tr>\n",
       "      <th>2</th>\n",
       "      <td>Spirotrichea</td>\n",
       "      <td>0.063909</td>\n",
       "      <td>D0275A_S58</td>\n",
       "      <td>NaN</td>\n",
       "    </tr>\n",
       "  </tbody>\n",
       "</table>\n",
       "</div>"
      ],
      "text/plain": [
       "                 Class  bp_fraction Metagenome sample ASV sample\n",
       "0  Coscinodiscophyceae     0.638312        D0275A_S58        NaN\n",
       "1       Prasinophyceae     0.135924        D0275A_S58        NaN\n",
       "2         Spirotrichea     0.063909        D0275A_S58        NaN"
      ]
     },
     "execution_count": 65,
     "metadata": {},
     "output_type": "execute_result"
    }
   ],
   "source": [
    "mgns.head(3)"
   ]
  },
  {
   "cell_type": "markdown",
   "metadata": {},
   "source": [
    "#### Extract taxa seen ONLY in matched sample pairs"
   ]
  },
  {
   "cell_type": "code",
   "execution_count": 66,
   "metadata": {},
   "outputs": [
    {
     "data": {
      "text/html": [
       "<div>\n",
       "<style scoped>\n",
       "    .dataframe tbody tr th:only-of-type {\n",
       "        vertical-align: middle;\n",
       "    }\n",
       "\n",
       "    .dataframe tbody tr th {\n",
       "        vertical-align: top;\n",
       "    }\n",
       "\n",
       "    .dataframe thead th {\n",
       "        text-align: right;\n",
       "    }\n",
       "</style>\n",
       "<table border=\"1\" class=\"dataframe\">\n",
       "  <thead>\n",
       "    <tr style=\"text-align: right;\">\n",
       "      <th></th>\n",
       "      <th>Class</th>\n",
       "      <th>bp_fraction</th>\n",
       "      <th>Metagenome sample</th>\n",
       "      <th>ASV sample</th>\n",
       "      <th>18S reads</th>\n",
       "    </tr>\n",
       "  </thead>\n",
       "  <tbody>\n",
       "    <tr>\n",
       "      <th>0</th>\n",
       "      <td>Pelagophyceae</td>\n",
       "      <td>0.176264</td>\n",
       "      <td>zr2760_40</td>\n",
       "      <td>CN18Fc33_5_eDNA</td>\n",
       "      <td>0.000519</td>\n",
       "    </tr>\n",
       "    <tr>\n",
       "      <th>1</th>\n",
       "      <td>Coscinodiscophyceae</td>\n",
       "      <td>0.098081</td>\n",
       "      <td>zr2760_40</td>\n",
       "      <td>CN18Fc33_5_eDNA</td>\n",
       "      <td>0.008616</td>\n",
       "    </tr>\n",
       "    <tr>\n",
       "      <th>2</th>\n",
       "      <td>Mamiellophyceae</td>\n",
       "      <td>0.062968</td>\n",
       "      <td>zr2760_40</td>\n",
       "      <td>CN18Fc33_5_eDNA</td>\n",
       "      <td>0.002431</td>\n",
       "    </tr>\n",
       "  </tbody>\n",
       "</table>\n",
       "</div>"
      ],
      "text/plain": [
       "                 Class  bp_fraction Metagenome sample       ASV sample  \\\n",
       "0        Pelagophyceae     0.176264         zr2760_40  CN18Fc33_5_eDNA   \n",
       "1  Coscinodiscophyceae     0.098081         zr2760_40  CN18Fc33_5_eDNA   \n",
       "2      Mamiellophyceae     0.062968         zr2760_40  CN18Fc33_5_eDNA   \n",
       "\n",
       "   18S reads  \n",
       "0   0.000519  \n",
       "1   0.008616  \n",
       "2   0.002431  "
      ]
     },
     "execution_count": 66,
     "metadata": {},
     "output_type": "execute_result"
    }
   ],
   "source": [
    "df_tax_pairmatches = mgns.merge(asvs, how='inner', \n",
    "                                            on=['Class', 'ASV sample', \n",
    "                                                'Metagenome sample'])\n",
    "df_tax_pairmatches.head(3)"
   ]
  },
  {
   "cell_type": "code",
   "execution_count": 67,
   "metadata": {},
   "outputs": [
    {
     "data": {
      "text/plain": [
       "dtype('float64')"
      ]
     },
     "execution_count": 67,
     "metadata": {},
     "output_type": "execute_result"
    }
   ],
   "source": [
    "# need to do this for the reg plot, not for the scatter plot\n",
    "df_tax_pairmatches['18S reads'] = pd.to_numeric(df_tax_pairmatches['18S reads'])\n",
    "df_tax_pairmatches['18S reads'].dtype"
   ]
  },
  {
   "cell_type": "markdown",
   "metadata": {},
   "source": [
    "## 04. Plot frequencies of taxa seen in both data sets against each other"
   ]
  },
  {
   "cell_type": "code",
   "execution_count": 70,
   "metadata": {},
   "outputs": [
    {
     "data": {
      "image/png": "[encoded data removed]",
      "text/plain": [
       "<Figure size 1205.5x600 with 1 Axes>"
      ]
     },
     "metadata": {},
     "output_type": "display_data"
    }
   ],
   "source": [
    "#plt.figure(figsize=(12,8))\n",
    "sns.set(font_scale = 1.5)\n",
    "sns.set_style('white')\n",
    "sns.set_palette(sns.color_palette('colorblind'))\n",
    "\n",
    "# scatter plot with ASV frequency on x axis and metagenome frequency on y axis\n",
    "#scatter = sns.scatterplot(data=df_gen_pairmatches, x='ASV Frequency',  \n",
    " #                         y='bp_fraction', color='darkblue', hue='Family', alpha=1) # size='Size'\n",
    "\n",
    "# scatter plot with regression line\n",
    "sns.lmplot(data=df_tax_pairmatches, x='18S reads', y='bp_fraction',\n",
    "           height=6, aspect=1.5, hue='Class')\n",
    "#plt.show()\n",
    "\n",
    "plt.ylabel('Fraction of eukaryotic fraction of metagenome', size=18)\n",
    "plt.xlabel('Fraction of ASVs', size=18)\n",
    "\n",
    "plt.ylim(0, 1.05)\n",
    "plt.xlim(0, 0.75)\n",
    "plt.savefig('eCruises2018_2019_classes_fraction_18S_vs_mgns_regression.png', format='png', \n",
    "            dpi=1200, bbox_inches='tight')"
   ]
  },
  {
   "cell_type": "code",
   "execution_count": null,
   "metadata": {},
   "outputs": [],
   "source": []
  }
 ],
 "metadata": {
  "kernelspec": {
   "display_name": "Python 3 (ipykernel)",
   "language": "python",
   "name": "python3"
  },
  "language_info": {
   "codemirror_mode": {
    "name": "ipython",
    "version": 3
   },
   "file_extension": ".py",
   "mimetype": "text/x-python",
   "name": "python",
   "nbconvert_exporter": "python",
   "pygments_lexer": "ipython3",
   "version": "3.8.3"
  }
 },
 "nbformat": 4,
 "nbformat_minor": 4
}
